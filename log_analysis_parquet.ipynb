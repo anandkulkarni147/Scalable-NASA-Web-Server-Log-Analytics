{
  "cells": [
    {
      "cell_type": "markdown",
      "source": [
        "# Scalable Web Server Log Analytics with Apache Spark\n"
      ],
      "metadata": {
        "id": "HVhF8iPg8cXv"
      }
    },
    {
      "cell_type": "code",
      "source": [
        "!pip install spark\n",
        "!pip install pyspark\n",
        "!pip install -U seaborn"
      ],
      "metadata": {
        "id": "IOlaWb1z8d69",
        "outputId": "eaa5ff80-8b1a-40d9-f9ed-086af279e258",
        "colab": {
          "base_uri": "https://localhost:8080/"
        }
      },
      "execution_count": 3,
      "outputs": [
        {
          "output_type": "stream",
          "name": "stdout",
          "text": [
            "Looking in indexes: https://pypi.org/simple, https://us-python.pkg.dev/colab-wheels/public/simple/\n",
            "Collecting spark\n",
            "  Downloading spark-0.2.1.tar.gz (41 kB)\n",
            "\u001b[2K     \u001b[90m━━━━━━━━━━━━━━━━━━━━━━━━━━━━━━━━━━━━━━━━\u001b[0m \u001b[32m41.0/41.0 kB\u001b[0m \u001b[31m3.0 MB/s\u001b[0m eta \u001b[36m0:00:00\u001b[0m\n",
            "\u001b[?25h  Preparing metadata (setup.py) ... \u001b[?25l\u001b[?25hdone\n",
            "Building wheels for collected packages: spark\n",
            "  Building wheel for spark (setup.py) ... \u001b[?25l\u001b[?25hdone\n",
            "  Created wheel for spark: filename=spark-0.2.1-py3-none-any.whl size=58747 sha256=cb567066a45bc06c0a4b21f0378d1d2d13ff21c2220a358f1965bc3c346ca274\n",
            "  Stored in directory: /root/.cache/pip/wheels/63/88/77/b4131110ea4094540f7b47c6d62a649807d7e94800da5eab0b\n",
            "Successfully built spark\n",
            "Installing collected packages: spark\n",
            "Successfully installed spark-0.2.1\n",
            "Looking in indexes: https://pypi.org/simple, https://us-python.pkg.dev/colab-wheels/public/simple/\n",
            "Collecting pyspark\n",
            "  Downloading pyspark-3.4.0.tar.gz (310.8 MB)\n",
            "\u001b[2K     \u001b[90m━━━━━━━━━━━━━━━━━━━━━━━━━━━━━━━━━━━━━━━\u001b[0m \u001b[32m310.8/310.8 MB\u001b[0m \u001b[31m2.6 MB/s\u001b[0m eta \u001b[36m0:00:00\u001b[0m\n",
            "\u001b[?25h  Preparing metadata (setup.py) ... \u001b[?25l\u001b[?25hdone\n",
            "Requirement already satisfied: py4j==0.10.9.7 in /usr/local/lib/python3.10/dist-packages (from pyspark) (0.10.9.7)\n",
            "Building wheels for collected packages: pyspark\n",
            "  Building wheel for pyspark (setup.py) ... \u001b[?25l\u001b[?25hdone\n",
            "  Created wheel for pyspark: filename=pyspark-3.4.0-py2.py3-none-any.whl size=311317130 sha256=83aaf4376d8a7b56c952d87c740d6e7bfaa93c6e7878feb73740c77eb96a95d2\n",
            "  Stored in directory: /root/.cache/pip/wheels/7b/1b/4b/3363a1d04368e7ff0d408e57ff57966fcdf00583774e761327\n",
            "Successfully built pyspark\n",
            "Installing collected packages: pyspark\n",
            "Successfully installed pyspark-3.4.0\n",
            "Looking in indexes: https://pypi.org/simple, https://us-python.pkg.dev/colab-wheels/public/simple/\n",
            "Requirement already satisfied: seaborn in /usr/local/lib/python3.10/dist-packages (0.12.2)\n",
            "Requirement already satisfied: numpy!=1.24.0,>=1.17 in /usr/local/lib/python3.10/dist-packages (from seaborn) (1.22.4)\n",
            "Requirement already satisfied: pandas>=0.25 in /usr/local/lib/python3.10/dist-packages (from seaborn) (1.5.3)\n",
            "Requirement already satisfied: matplotlib!=3.6.1,>=3.1 in /usr/local/lib/python3.10/dist-packages (from seaborn) (3.7.1)\n",
            "Requirement already satisfied: contourpy>=1.0.1 in /usr/local/lib/python3.10/dist-packages (from matplotlib!=3.6.1,>=3.1->seaborn) (1.0.7)\n",
            "Requirement already satisfied: cycler>=0.10 in /usr/local/lib/python3.10/dist-packages (from matplotlib!=3.6.1,>=3.1->seaborn) (0.11.0)\n",
            "Requirement already satisfied: fonttools>=4.22.0 in /usr/local/lib/python3.10/dist-packages (from matplotlib!=3.6.1,>=3.1->seaborn) (4.39.3)\n",
            "Requirement already satisfied: kiwisolver>=1.0.1 in /usr/local/lib/python3.10/dist-packages (from matplotlib!=3.6.1,>=3.1->seaborn) (1.4.4)\n",
            "Requirement already satisfied: packaging>=20.0 in /usr/local/lib/python3.10/dist-packages (from matplotlib!=3.6.1,>=3.1->seaborn) (23.1)\n",
            "Requirement already satisfied: pillow>=6.2.0 in /usr/local/lib/python3.10/dist-packages (from matplotlib!=3.6.1,>=3.1->seaborn) (8.4.0)\n",
            "Requirement already satisfied: pyparsing>=2.3.1 in /usr/local/lib/python3.10/dist-packages (from matplotlib!=3.6.1,>=3.1->seaborn) (3.0.9)\n",
            "Requirement already satisfied: python-dateutil>=2.7 in /usr/local/lib/python3.10/dist-packages (from matplotlib!=3.6.1,>=3.1->seaborn) (2.8.2)\n",
            "Requirement already satisfied: pytz>=2020.1 in /usr/local/lib/python3.10/dist-packages (from pandas>=0.25->seaborn) (2022.7.1)\n",
            "Requirement already satisfied: six>=1.5 in /usr/local/lib/python3.10/dist-packages (from python-dateutil>=2.7->matplotlib!=3.6.1,>=3.1->seaborn) (1.16.0)\n"
          ]
        }
      ]
    },
    {
      "cell_type": "markdown",
      "source": [
        "# Parquet Files Import\n"
      ],
      "metadata": {
        "id": "XaY7u2408rv6"
      }
    },
    {
      "cell_type": "code",
      "source": [
        "from google.colab import files\n",
        "raw_data_files = files.upload()"
      ],
      "metadata": {
        "id": "tp3WWLMq8y1a",
        "outputId": "cd26ab25-36ba-4e22-9fd6-1076ff133fd5",
        "colab": {
          "base_uri": "https://localhost:8080/",
          "height": 316
        }
      },
      "execution_count": 4,
      "outputs": [
        {
          "output_type": "display_data",
          "data": {
            "text/plain": [
              "<IPython.core.display.HTML object>"
            ],
            "text/html": [
              "\n",
              "     <input type=\"file\" id=\"files-12d79770-b3e3-48d3-b8e4-415e3e044c25\" name=\"files[]\" multiple disabled\n",
              "        style=\"border:none\" />\n",
              "     <output id=\"result-12d79770-b3e3-48d3-b8e4-415e3e044c25\">\n",
              "      Upload widget is only available when the cell has been executed in the\n",
              "      current browser session. Please rerun this cell to enable.\n",
              "      </output>\n",
              "      <script>// Copyright 2017 Google LLC\n",
              "//\n",
              "// Licensed under the Apache License, Version 2.0 (the \"License\");\n",
              "// you may not use this file except in compliance with the License.\n",
              "// You may obtain a copy of the License at\n",
              "//\n",
              "//      http://www.apache.org/licenses/LICENSE-2.0\n",
              "//\n",
              "// Unless required by applicable law or agreed to in writing, software\n",
              "// distributed under the License is distributed on an \"AS IS\" BASIS,\n",
              "// WITHOUT WARRANTIES OR CONDITIONS OF ANY KIND, either express or implied.\n",
              "// See the License for the specific language governing permissions and\n",
              "// limitations under the License.\n",
              "\n",
              "/**\n",
              " * @fileoverview Helpers for google.colab Python module.\n",
              " */\n",
              "(function(scope) {\n",
              "function span(text, styleAttributes = {}) {\n",
              "  const element = document.createElement('span');\n",
              "  element.textContent = text;\n",
              "  for (const key of Object.keys(styleAttributes)) {\n",
              "    element.style[key] = styleAttributes[key];\n",
              "  }\n",
              "  return element;\n",
              "}\n",
              "\n",
              "// Max number of bytes which will be uploaded at a time.\n",
              "const MAX_PAYLOAD_SIZE = 100 * 1024;\n",
              "\n",
              "function _uploadFiles(inputId, outputId) {\n",
              "  const steps = uploadFilesStep(inputId, outputId);\n",
              "  const outputElement = document.getElementById(outputId);\n",
              "  // Cache steps on the outputElement to make it available for the next call\n",
              "  // to uploadFilesContinue from Python.\n",
              "  outputElement.steps = steps;\n",
              "\n",
              "  return _uploadFilesContinue(outputId);\n",
              "}\n",
              "\n",
              "// This is roughly an async generator (not supported in the browser yet),\n",
              "// where there are multiple asynchronous steps and the Python side is going\n",
              "// to poll for completion of each step.\n",
              "// This uses a Promise to block the python side on completion of each step,\n",
              "// then passes the result of the previous step as the input to the next step.\n",
              "function _uploadFilesContinue(outputId) {\n",
              "  const outputElement = document.getElementById(outputId);\n",
              "  const steps = outputElement.steps;\n",
              "\n",
              "  const next = steps.next(outputElement.lastPromiseValue);\n",
              "  return Promise.resolve(next.value.promise).then((value) => {\n",
              "    // Cache the last promise value to make it available to the next\n",
              "    // step of the generator.\n",
              "    outputElement.lastPromiseValue = value;\n",
              "    return next.value.response;\n",
              "  });\n",
              "}\n",
              "\n",
              "/**\n",
              " * Generator function which is called between each async step of the upload\n",
              " * process.\n",
              " * @param {string} inputId Element ID of the input file picker element.\n",
              " * @param {string} outputId Element ID of the output display.\n",
              " * @return {!Iterable<!Object>} Iterable of next steps.\n",
              " */\n",
              "function* uploadFilesStep(inputId, outputId) {\n",
              "  const inputElement = document.getElementById(inputId);\n",
              "  inputElement.disabled = false;\n",
              "\n",
              "  const outputElement = document.getElementById(outputId);\n",
              "  outputElement.innerHTML = '';\n",
              "\n",
              "  const pickedPromise = new Promise((resolve) => {\n",
              "    inputElement.addEventListener('change', (e) => {\n",
              "      resolve(e.target.files);\n",
              "    });\n",
              "  });\n",
              "\n",
              "  const cancel = document.createElement('button');\n",
              "  inputElement.parentElement.appendChild(cancel);\n",
              "  cancel.textContent = 'Cancel upload';\n",
              "  const cancelPromise = new Promise((resolve) => {\n",
              "    cancel.onclick = () => {\n",
              "      resolve(null);\n",
              "    };\n",
              "  });\n",
              "\n",
              "  // Wait for the user to pick the files.\n",
              "  const files = yield {\n",
              "    promise: Promise.race([pickedPromise, cancelPromise]),\n",
              "    response: {\n",
              "      action: 'starting',\n",
              "    }\n",
              "  };\n",
              "\n",
              "  cancel.remove();\n",
              "\n",
              "  // Disable the input element since further picks are not allowed.\n",
              "  inputElement.disabled = true;\n",
              "\n",
              "  if (!files) {\n",
              "    return {\n",
              "      response: {\n",
              "        action: 'complete',\n",
              "      }\n",
              "    };\n",
              "  }\n",
              "\n",
              "  for (const file of files) {\n",
              "    const li = document.createElement('li');\n",
              "    li.append(span(file.name, {fontWeight: 'bold'}));\n",
              "    li.append(span(\n",
              "        `(${file.type || 'n/a'}) - ${file.size} bytes, ` +\n",
              "        `last modified: ${\n",
              "            file.lastModifiedDate ? file.lastModifiedDate.toLocaleDateString() :\n",
              "                                    'n/a'} - `));\n",
              "    const percent = span('0% done');\n",
              "    li.appendChild(percent);\n",
              "\n",
              "    outputElement.appendChild(li);\n",
              "\n",
              "    const fileDataPromise = new Promise((resolve) => {\n",
              "      const reader = new FileReader();\n",
              "      reader.onload = (e) => {\n",
              "        resolve(e.target.result);\n",
              "      };\n",
              "      reader.readAsArrayBuffer(file);\n",
              "    });\n",
              "    // Wait for the data to be ready.\n",
              "    let fileData = yield {\n",
              "      promise: fileDataPromise,\n",
              "      response: {\n",
              "        action: 'continue',\n",
              "      }\n",
              "    };\n",
              "\n",
              "    // Use a chunked sending to avoid message size limits. See b/62115660.\n",
              "    let position = 0;\n",
              "    do {\n",
              "      const length = Math.min(fileData.byteLength - position, MAX_PAYLOAD_SIZE);\n",
              "      const chunk = new Uint8Array(fileData, position, length);\n",
              "      position += length;\n",
              "\n",
              "      const base64 = btoa(String.fromCharCode.apply(null, chunk));\n",
              "      yield {\n",
              "        response: {\n",
              "          action: 'append',\n",
              "          file: file.name,\n",
              "          data: base64,\n",
              "        },\n",
              "      };\n",
              "\n",
              "      let percentDone = fileData.byteLength === 0 ?\n",
              "          100 :\n",
              "          Math.round((position / fileData.byteLength) * 100);\n",
              "      percent.textContent = `${percentDone}% done`;\n",
              "\n",
              "    } while (position < fileData.byteLength);\n",
              "  }\n",
              "\n",
              "  // All done.\n",
              "  yield {\n",
              "    response: {\n",
              "      action: 'complete',\n",
              "    }\n",
              "  };\n",
              "}\n",
              "\n",
              "scope.google = scope.google || {};\n",
              "scope.google.colab = scope.google.colab || {};\n",
              "scope.google.colab._files = {\n",
              "  _uploadFiles,\n",
              "  _uploadFilesContinue,\n",
              "};\n",
              "})(self);\n",
              "</script> "
            ]
          },
          "metadata": {}
        },
        {
          "output_type": "stream",
          "name": "stdout",
          "text": [
            "Saving part-00000-0c822a6e-970f-4e1a-9a1d-cd598193bce5-c000.snappy.parquet to part-00000-0c822a6e-970f-4e1a-9a1d-cd598193bce5-c000.snappy.parquet\n",
            "Saving part-00000-6f96cad8-1d37-46b4-b67e-76d0c9ea81a7-c000.snappy.parquet to part-00000-6f96cad8-1d37-46b4-b67e-76d0c9ea81a7-c000.snappy.parquet\n",
            "Saving part-00000-88388fb2-d737-474b-abed-dee2a47e0856-c000.snappy.parquet to part-00000-88388fb2-d737-474b-abed-dee2a47e0856-c000.snappy.parquet\n",
            "Saving part-00000-9415283f-c125-4c12-8be2-bae552aa8192-c000.snappy.parquet to part-00000-9415283f-c125-4c12-8be2-bae552aa8192-c000.snappy.parquet\n",
            "Saving part-00000-d3acb701-a68a-4c88-82dc-9d7dd25d76f2-c000.snappy.parquet to part-00000-d3acb701-a68a-4c88-82dc-9d7dd25d76f2-c000.snappy.parquet\n",
            "Saving part-00000-d9a79b41-c904-4722-a1b1-2b5f0b55eb68-c000.snappy.parquet to part-00000-d9a79b41-c904-4722-a1b1-2b5f0b55eb68-c000.snappy.parquet\n",
            "Saving part-00000-d794c4f4-4ec8-435d-81d9-c29062bc1a5b-c000.snappy.parquet to part-00000-d794c4f4-4ec8-435d-81d9-c29062bc1a5b-c000.snappy.parquet\n",
            "Saving part-00000-ef9610f0-d588-4f59-9331-bd52e4f17869-c000.snappy.parquet to part-00000-ef9610f0-d588-4f59-9331-bd52e4f17869-c000.snappy.parquet\n"
          ]
        }
      ]
    },
    {
      "cell_type": "markdown",
      "source": [
        "# Parquet Files Read"
      ],
      "metadata": {
        "id": "7cW13LiH9Ips"
      }
    },
    {
      "cell_type": "code",
      "source": [
        "import glob\n",
        "\n",
        "parquet_files = glob.glob('*.parquet')\n",
        "parquet_files"
      ],
      "metadata": {
        "id": "61v-1Xww83sj",
        "outputId": "38c4815c-6cc5-4042-92de-531340908a46",
        "colab": {
          "base_uri": "https://localhost:8080/"
        }
      },
      "execution_count": 6,
      "outputs": [
        {
          "output_type": "execute_result",
          "data": {
            "text/plain": [
              "['part-00000-0c822a6e-970f-4e1a-9a1d-cd598193bce5-c000.snappy.parquet',\n",
              " 'part-00000-d9a79b41-c904-4722-a1b1-2b5f0b55eb68-c000.snappy.parquet',\n",
              " 'part-00000-d3acb701-a68a-4c88-82dc-9d7dd25d76f2-c000.snappy.parquet',\n",
              " 'part-00000-6f96cad8-1d37-46b4-b67e-76d0c9ea81a7-c000.snappy.parquet',\n",
              " 'part-00000-88388fb2-d737-474b-abed-dee2a47e0856-c000.snappy.parquet',\n",
              " 'part-00000-d794c4f4-4ec8-435d-81d9-c29062bc1a5b-c000.snappy.parquet',\n",
              " 'part-00000-ef9610f0-d588-4f59-9331-bd52e4f17869-c000.snappy.parquet',\n",
              " 'part-00000-9415283f-c125-4c12-8be2-bae552aa8192-c000.snappy.parquet']"
            ]
          },
          "metadata": {},
          "execution_count": 6
        }
      ]
    },
    {
      "cell_type": "markdown",
      "source": [
        "# Parquet Files Transformations"
      ],
      "metadata": {
        "id": "9AbOHVts9hle"
      }
    },
    {
      "cell_type": "code",
      "source": [
        "import re\n",
        "import pandas\n",
        "from pyspark.context import SparkContext\n",
        "from pyspark.sql.context import SQLContext\n",
        "from pyspark.sql.session import SparkSession\n",
        "\n",
        "# Get the existing SparkSession\n",
        "spark = SparkSession.builder.getOrCreate()\n",
        "\n",
        "# Create SQLContext\n",
        "sqlContext = SQLContext(spark)\n",
        "\n",
        "# Read the Parquet files into a DataFrame\n",
        "logs_df = spark.read.parquet(*parquet_files)\n",
        "\n",
        "# Show the first 10 rows of the DataFrame\n",
        "logs_df.show(10, truncate=False)"
      ],
      "metadata": {
        "id": "EYWdHHG49lGY",
        "outputId": "67a7846a-433d-4f4e-f4dc-9906c70145a6",
        "colab": {
          "base_uri": "https://localhost:8080/"
        }
      },
      "execution_count": 7,
      "outputs": [
        {
          "output_type": "stream",
          "name": "stderr",
          "text": [
            "/usr/local/lib/python3.10/dist-packages/pyspark/sql/context.py:112: FutureWarning: Deprecated in 3.0.0. Use SparkSession.builder.getOrCreate() instead.\n",
            "  warnings.warn(\n"
          ]
        },
        {
          "output_type": "stream",
          "name": "stdout",
          "text": [
            "+---------------+----+-----+---+----+------+------+---------------------------------------------------------------------------------+------------+-------------+-----+\n",
            "|ip_address     |year|month|day|hour|minute|method|endpoint                                                                         |http_version|response_code|bytes|\n",
            "+---------------+----+-----+---+----+------+------+---------------------------------------------------------------------------------+------------+-------------+-----+\n",
            "|75.77.74.150   |2118|Dec  |26 |    |      |GET   |/Archives/edgar/data/0001518715/000151871522000011/0001518715-22-000011-index.htm|1.0         |200          |5302 |\n",
            "|176.120.174.1  |2118|Dec  |26 |    |      |POST  |/Archives/edgar/data/0001411207/000156459021052445/0001564590-21-052445-index.htm|1.0         |500          |34727|\n",
            "|162.200.34.120 |2118|Dec  |26 |    |      |POST  |/Archives/edgar/data/0000101382/000156459022006546/umbf-10k_20211231.htm         |1.0         |403          |25428|\n",
            "|133.224.84.239 |2118|Dec  |26 |    |      |GET   |/Archives/edgar/data/0001179929/000117992922000054/a2022definitiveproxy.htm      |1.0         |304          |27248|\n",
            "|211.239.196.64 |2118|Dec  |26 |    |      |GET   |/Archives/edgar/data/0000081391/000093247112005362/0000932471-12-005362.txt      |1.0         |200          |32034|\n",
            "|152.154.66.105 |2118|Dec  |26 |    |      |GET   |/Archives/edgar/data/0001760283/000121390021017155/s131124_10k.htm               |1.0         |200          |43782|\n",
            "|41.76.166.189  |2118|Dec  |26 |    |      |PUT   |/Archives/edgar/data/0000004281/000119312517062657/R98.htm                       |1.0         |304          |53533|\n",
            "|134.27.187.18  |2118|Dec  |26 |    |      |POST  |/Archives/edgar/data/0001801390/000121390021017183/s131106_10k.htm               |1.0         |404          |15445|\n",
            "|152.77.55.45   |2118|Dec  |26 |    |      |PUT   |/Archives/edgar/data/20520/0000020520-12-000047.txt                              |1.0         |200          |44416|\n",
            "|115.252.123.132|2118|Dec  |26 |    |      |POST  |/Archives/edgar/data/0001179929/000117992923000043/moh-20230320_g26.jpg          |1.0         |500          |11453|\n",
            "+---------------+----+-----+---+----+------+------+---------------------------------------------------------------------------------+------------+-------------+-----+\n",
            "only showing top 10 rows\n",
            "\n"
          ]
        }
      ]
    },
    {
      "cell_type": "code",
      "source": [
        "# Print Schema\n",
        "logs_df.printSchema()"
      ],
      "metadata": {
        "id": "VmO1u0pi-LqE",
        "outputId": "7b764140-d72f-4641-d09a-353451c057a8",
        "colab": {
          "base_uri": "https://localhost:8080/"
        }
      },
      "execution_count": 8,
      "outputs": [
        {
          "output_type": "stream",
          "name": "stdout",
          "text": [
            "root\n",
            " |-- ip_address: string (nullable = true)\n",
            " |-- year: string (nullable = true)\n",
            " |-- month: string (nullable = true)\n",
            " |-- day: string (nullable = true)\n",
            " |-- hour: string (nullable = true)\n",
            " |-- minute: string (nullable = true)\n",
            " |-- method: string (nullable = true)\n",
            " |-- endpoint: string (nullable = true)\n",
            " |-- http_version: string (nullable = true)\n",
            " |-- response_code: string (nullable = true)\n",
            " |-- bytes: string (nullable = true)\n",
            "\n"
          ]
        }
      ]
    },
    {
      "cell_type": "code",
      "source": [
        "# Check Type\n",
        "type(logs_df)"
      ],
      "metadata": {
        "id": "E7ANG7yw-O5j",
        "outputId": "5795d527-94a9-488c-d808-28d7dddc535f",
        "colab": {
          "base_uri": "https://localhost:8080/"
        }
      },
      "execution_count": 12,
      "outputs": [
        {
          "output_type": "execute_result",
          "data": {
            "text/plain": [
              "pyspark.sql.dataframe.DataFrame"
            ]
          },
          "metadata": {},
          "execution_count": 12
        }
      ]
    },
    {
      "cell_type": "markdown",
      "source": [
        "# Convert to RDD"
      ],
      "metadata": {
        "id": "7_KXVfz2-XYB"
      }
    },
    {
      "cell_type": "code",
      "source": [
        "logs_df_rdd = logs_df.rdd\n",
        "type(logs_df_rdd)"
      ],
      "metadata": {
        "id": "6v-xI9iY-Uvl",
        "outputId": "4a4e7bc6-b48c-4015-960d-c69074b6c693",
        "colab": {
          "base_uri": "https://localhost:8080/"
        }
      },
      "execution_count": 11,
      "outputs": [
        {
          "output_type": "execute_result",
          "data": {
            "text/plain": [
              "pyspark.rdd.RDD"
            ]
          },
          "metadata": {},
          "execution_count": 11
        }
      ]
    },
    {
      "cell_type": "markdown",
      "source": [
        "# Reading RDD"
      ],
      "metadata": {
        "id": "sIa_hTVa-gxj"
      }
    },
    {
      "cell_type": "code",
      "source": [
        "logs_df_rdd.take(10)"
      ],
      "metadata": {
        "id": "BNauzz_S-iZe",
        "outputId": "e83eb6e9-b101-4c3b-d150-de44a493fe5b",
        "colab": {
          "base_uri": "https://localhost:8080/"
        }
      },
      "execution_count": 14,
      "outputs": [
        {
          "output_type": "execute_result",
          "data": {
            "text/plain": [
              "[Row(ip_address='75.77.74.150', year='2118', month='Dec', day='26', hour='', minute='', method='GET', endpoint='/Archives/edgar/data/0001518715/000151871522000011/0001518715-22-000011-index.htm', http_version='1.0', response_code='200', bytes='5302'),\n",
              " Row(ip_address='176.120.174.1', year='2118', month='Dec', day='26', hour='', minute='', method='POST', endpoint='/Archives/edgar/data/0001411207/000156459021052445/0001564590-21-052445-index.htm', http_version='1.0', response_code='500', bytes='34727'),\n",
              " Row(ip_address='162.200.34.120', year='2118', month='Dec', day='26', hour='', minute='', method='POST', endpoint='/Archives/edgar/data/0000101382/000156459022006546/umbf-10k_20211231.htm', http_version='1.0', response_code='403', bytes='25428'),\n",
              " Row(ip_address='133.224.84.239', year='2118', month='Dec', day='26', hour='', minute='', method='GET', endpoint='/Archives/edgar/data/0001179929/000117992922000054/a2022definitiveproxy.htm', http_version='1.0', response_code='304', bytes='27248'),\n",
              " Row(ip_address='211.239.196.64', year='2118', month='Dec', day='26', hour='', minute='', method='GET', endpoint='/Archives/edgar/data/0000081391/000093247112005362/0000932471-12-005362.txt', http_version='1.0', response_code='200', bytes='32034'),\n",
              " Row(ip_address='152.154.66.105', year='2118', month='Dec', day='26', hour='', minute='', method='GET', endpoint='/Archives/edgar/data/0001760283/000121390021017155/s131124_10k.htm', http_version='1.0', response_code='200', bytes='43782'),\n",
              " Row(ip_address='41.76.166.189', year='2118', month='Dec', day='26', hour='', minute='', method='PUT', endpoint='/Archives/edgar/data/0000004281/000119312517062657/R98.htm', http_version='1.0', response_code='304', bytes='53533'),\n",
              " Row(ip_address='134.27.187.18', year='2118', month='Dec', day='26', hour='', minute='', method='POST', endpoint='/Archives/edgar/data/0001801390/000121390021017183/s131106_10k.htm', http_version='1.0', response_code='404', bytes='15445'),\n",
              " Row(ip_address='152.77.55.45', year='2118', month='Dec', day='26', hour='', minute='', method='PUT', endpoint='/Archives/edgar/data/20520/0000020520-12-000047.txt', http_version='1.0', response_code='200', bytes='44416'),\n",
              " Row(ip_address='115.252.123.132', year='2118', month='Dec', day='26', hour='', minute='', method='POST', endpoint='/Archives/edgar/data/0001179929/000117992923000043/moh-20230320_g26.jpg', http_version='1.0', response_code='500', bytes='11453')]"
            ]
          },
          "metadata": {},
          "execution_count": 14
        }
      ]
    },
    {
      "cell_type": "markdown",
      "source": [
        "# Data Wrangling\n",
        "\n",
        "Clean the logs data perform data cleansing operations"
      ],
      "metadata": {
        "id": "FxdRrMxb-mAv"
      }
    },
    {
      "cell_type": "code",
      "source": [
        "print((logs_df.count(), len(logs_df.columns)))"
      ],
      "metadata": {
        "id": "SWlqqWpa-xVN",
        "outputId": "e342563c-f887-4509-e21d-b05020da2201",
        "colab": {
          "base_uri": "https://localhost:8080/"
        }
      },
      "execution_count": 15,
      "outputs": [
        {
          "output_type": "stream",
          "name": "stdout",
          "text": [
            "(120001, 11)\n"
          ]
        }
      ]
    },
    {
      "cell_type": "code",
      "source": [
        "logs_df.columns"
      ],
      "metadata": {
        "id": "5Z_57GBa-2Ob",
        "outputId": "d90d8f0b-0b51-4f91-fe78-502ff5f386b1",
        "colab": {
          "base_uri": "https://localhost:8080/"
        }
      },
      "execution_count": 16,
      "outputs": [
        {
          "output_type": "execute_result",
          "data": {
            "text/plain": [
              "['ip_address',\n",
              " 'year',\n",
              " 'month',\n",
              " 'day',\n",
              " 'hour',\n",
              " 'minute',\n",
              " 'method',\n",
              " 'endpoint',\n",
              " 'http_version',\n",
              " 'response_code',\n",
              " 'bytes']"
            ]
          },
          "metadata": {},
          "execution_count": 16
        }
      ]
    },
    {
      "cell_type": "markdown",
      "source": [
        "# Transformations on data format"
      ],
      "metadata": {
        "id": "bk0PitwI_Yqk"
      }
    },
    {
      "cell_type": "code",
      "source": [
        "from pyspark.sql.functions import col, concat, date_format, lit, to_date, when\n",
        "\n",
        "# Convert month column to numeric format\n",
        "month_mapping = {\n",
        "  'Jan': 1, 'Feb': 2, 'Mar':3, 'Apr':4, 'May':5, 'Jun':6, 'Jul':7,\n",
        "  'Aug':8,  'Sep': 9, 'Oct':10, 'Nov': 11, 'Dec': 12\n",
        "}\n",
        "\n",
        "logs_df = logs_df.withColumn('month_num', lit(None).cast('string'))\n",
        "\n",
        "for month, month_num in month_mapping.items():\n",
        "    logs_df = logs_df.withColumn('month_num', \n",
        "                                 when(col('month') == month, month_num).otherwise(col('month_num')))\n",
        "\n",
        "# Add the day_of_week column\n",
        "logs_df = logs_df.withColumn('date_str', concat(col('year'), lit('-'), col('month_num'), lit('-'), col('day')))\n",
        "logs_df = logs_df.withColumn('date', to_date(logs_df['date_str'], 'yyyy-MM-dd'))\n",
        "logs_df = logs_df.withColumn('day_of_week', date_format(logs_df['date'], 'EEEE'))\n",
        "\n",
        "# Drop the date_str column\n",
        "logs_df = logs_df.drop('date_str')\n",
        "\n",
        "# Show the updated DataFrame\n",
        "logs_df.show()"
      ],
      "metadata": {
        "id": "mOh1DYYt_X74",
        "outputId": "951df79b-0c17-4b5e-d19b-6b35df15fe2b",
        "colab": {
          "base_uri": "https://localhost:8080/"
        }
      },
      "execution_count": 17,
      "outputs": [
        {
          "output_type": "stream",
          "name": "stdout",
          "text": [
            "+---------------+----+-----+---+----+------+------+--------------------+------------+-------------+-----+---------+----------+-----------+\n",
            "|     ip_address|year|month|day|hour|minute|method|            endpoint|http_version|response_code|bytes|month_num|      date|day_of_week|\n",
            "+---------------+----+-----+---+----+------+------+--------------------+------------+-------------+-----+---------+----------+-----------+\n",
            "|   75.77.74.150|2118|  Dec| 26|    |      |   GET|/Archives/edgar/d...|         1.0|          200| 5302|       12|2118-12-26|     Monday|\n",
            "|  176.120.174.1|2118|  Dec| 26|    |      |  POST|/Archives/edgar/d...|         1.0|          500|34727|       12|2118-12-26|     Monday|\n",
            "| 162.200.34.120|2118|  Dec| 26|    |      |  POST|/Archives/edgar/d...|         1.0|          403|25428|       12|2118-12-26|     Monday|\n",
            "| 133.224.84.239|2118|  Dec| 26|    |      |   GET|/Archives/edgar/d...|         1.0|          304|27248|       12|2118-12-26|     Monday|\n",
            "| 211.239.196.64|2118|  Dec| 26|    |      |   GET|/Archives/edgar/d...|         1.0|          200|32034|       12|2118-12-26|     Monday|\n",
            "| 152.154.66.105|2118|  Dec| 26|    |      |   GET|/Archives/edgar/d...|         1.0|          200|43782|       12|2118-12-26|     Monday|\n",
            "|  41.76.166.189|2118|  Dec| 26|    |      |   PUT|/Archives/edgar/d...|         1.0|          304|53533|       12|2118-12-26|     Monday|\n",
            "|  134.27.187.18|2118|  Dec| 26|    |      |  POST|/Archives/edgar/d...|         1.0|          404|15445|       12|2118-12-26|     Monday|\n",
            "|   152.77.55.45|2118|  Dec| 26|    |      |   PUT|/Archives/edgar/d...|         1.0|          200|44416|       12|2118-12-26|     Monday|\n",
            "|115.252.123.132|2118|  Dec| 26|    |      |  POST|/Archives/edgar/d...|         1.0|          500|11453|       12|2118-12-26|     Monday|\n",
            "|  155.58.151.29|2118|  Dec| 26|    |      |   GET|/Archives/edgar/d...|         1.0|          502| 7442|       12|2118-12-26|     Monday|\n",
            "|   13.79.113.61|2118|  Dec| 26|    |      |  POST|/Archives/edgar/d...|         1.0|          404|10734|       12|2118-12-26|     Monday|\n",
            "|  88.193.180.43|2118|  Dec| 26|    |      |  POST|/Archives/edgar/d...|         1.0|          304|52678|       12|2118-12-26|     Monday|\n",
            "| 179.250.21.134|2118|  Dec| 26|    |      |DELETE|/Archives/edgar/d...|         1.0|          500| 5462|       12|2118-12-26|     Monday|\n",
            "| 189.142.75.183|2118|  Dec| 26|    |      |   PUT|/Archives/edgar/d...|         1.0|          500|37548|       12|2118-12-26|     Monday|\n",
            "|  17.173.32.136|2118|  Dec| 26|    |      |   GET|/Archives/edgar/d...|         1.0|          404|53177|       12|2118-12-26|     Monday|\n",
            "|  40.243.18.254|2118|  Dec| 26|    |      |   PUT|/Archives/edgar/d...|         1.0|          500|23317|       12|2118-12-26|     Monday|\n",
            "|  28.163.76.134|2118|  Dec| 26|    |      |  POST|/Archives/edgar/d...|         1.0|          304|16386|       12|2118-12-26|     Monday|\n",
            "|    68.8.175.30|2118|  Dec| 26|    |      |   PUT|/Archives/edgar/d...|         1.0|          403|38299|       12|2118-12-26|     Monday|\n",
            "|   27.79.71.172|2118|  Dec| 26|    |      |DELETE|/Archives/edgar/d...|         1.0|          403|15051|       12|2118-12-26|     Monday|\n",
            "+---------------+----+-----+---+----+------+------+--------------------+------------+-------------+-----+---------+----------+-----------+\n",
            "only showing top 20 rows\n",
            "\n"
          ]
        }
      ]
    },
    {
      "cell_type": "markdown",
      "source": [
        "# Process Null values"
      ],
      "metadata": {
        "id": "vSGrVS6i-9MD"
      }
    },
    {
      "cell_type": "code",
      "source": [
        "from pyspark.sql.functions import col\n",
        "from pyspark.sql.functions import sum as spark_sum\n",
        "\n",
        "def count_null(col_name):\n",
        "    return spark_sum(col(col_name).isNull().cast('integer')).alias(col_name)\n",
        "\n",
        "# Build up a list of column expressions, one per column.\n",
        "exprs = [count_null(col_name) for col_name in logs_df.columns]\n",
        "\n",
        "# Run the aggregation. The *exprs converts the list of expressions into\n",
        "# variable function arguments.\n",
        "logs_df.agg(*exprs).show()"
      ],
      "metadata": {
        "id": "Kp65nBmb_NJT",
        "outputId": "1e734718-e7bb-40f2-bc48-55d4a0ce8df4",
        "colab": {
          "base_uri": "https://localhost:8080/"
        }
      },
      "execution_count": 18,
      "outputs": [
        {
          "output_type": "stream",
          "name": "stdout",
          "text": [
            "+----------+----+-----+---+----+------+------+--------+------------+-------------+-----+---------+----+-----------+\n",
            "|ip_address|year|month|day|hour|minute|method|endpoint|http_version|response_code|bytes|month_num|date|day_of_week|\n",
            "+----------+----+-----+---+----+------+------+--------+------------+-------------+-----+---------+----+-----------+\n",
            "|         0|   0|    0|  0|   0|     0|     0|       0|           0|            0|    0|        1|   1|          1|\n",
            "+----------+----+-----+---+----+------+------+--------+------------+-------------+-----+---------+----+-----------+\n",
            "\n"
          ]
        }
      ]
    },
    {
      "cell_type": "markdown",
      "source": [
        "No need of month number we already have month string value"
      ],
      "metadata": {
        "id": "UaM2qnaV_5V4"
      }
    },
    {
      "cell_type": "code",
      "source": [
        "logs_df = logs_df.dropna(subset=['month_num'])\n",
        "logs_df.show()"
      ],
      "metadata": {
        "id": "cFQan-mJ_22t",
        "outputId": "e894cb60-2e44-44c9-f70f-3c268a01af55",
        "colab": {
          "base_uri": "https://localhost:8080/"
        }
      },
      "execution_count": 19,
      "outputs": [
        {
          "output_type": "stream",
          "name": "stdout",
          "text": [
            "+---------------+----+-----+---+----+------+------+--------------------+------------+-------------+-----+---------+----------+-----------+\n",
            "|     ip_address|year|month|day|hour|minute|method|            endpoint|http_version|response_code|bytes|month_num|      date|day_of_week|\n",
            "+---------------+----+-----+---+----+------+------+--------------------+------------+-------------+-----+---------+----------+-----------+\n",
            "|   75.77.74.150|2118|  Dec| 26|    |      |   GET|/Archives/edgar/d...|         1.0|          200| 5302|       12|2118-12-26|     Monday|\n",
            "|  176.120.174.1|2118|  Dec| 26|    |      |  POST|/Archives/edgar/d...|         1.0|          500|34727|       12|2118-12-26|     Monday|\n",
            "| 162.200.34.120|2118|  Dec| 26|    |      |  POST|/Archives/edgar/d...|         1.0|          403|25428|       12|2118-12-26|     Monday|\n",
            "| 133.224.84.239|2118|  Dec| 26|    |      |   GET|/Archives/edgar/d...|         1.0|          304|27248|       12|2118-12-26|     Monday|\n",
            "| 211.239.196.64|2118|  Dec| 26|    |      |   GET|/Archives/edgar/d...|         1.0|          200|32034|       12|2118-12-26|     Monday|\n",
            "| 152.154.66.105|2118|  Dec| 26|    |      |   GET|/Archives/edgar/d...|         1.0|          200|43782|       12|2118-12-26|     Monday|\n",
            "|  41.76.166.189|2118|  Dec| 26|    |      |   PUT|/Archives/edgar/d...|         1.0|          304|53533|       12|2118-12-26|     Monday|\n",
            "|  134.27.187.18|2118|  Dec| 26|    |      |  POST|/Archives/edgar/d...|         1.0|          404|15445|       12|2118-12-26|     Monday|\n",
            "|   152.77.55.45|2118|  Dec| 26|    |      |   PUT|/Archives/edgar/d...|         1.0|          200|44416|       12|2118-12-26|     Monday|\n",
            "|115.252.123.132|2118|  Dec| 26|    |      |  POST|/Archives/edgar/d...|         1.0|          500|11453|       12|2118-12-26|     Monday|\n",
            "|  155.58.151.29|2118|  Dec| 26|    |      |   GET|/Archives/edgar/d...|         1.0|          502| 7442|       12|2118-12-26|     Monday|\n",
            "|   13.79.113.61|2118|  Dec| 26|    |      |  POST|/Archives/edgar/d...|         1.0|          404|10734|       12|2118-12-26|     Monday|\n",
            "|  88.193.180.43|2118|  Dec| 26|    |      |  POST|/Archives/edgar/d...|         1.0|          304|52678|       12|2118-12-26|     Monday|\n",
            "| 179.250.21.134|2118|  Dec| 26|    |      |DELETE|/Archives/edgar/d...|         1.0|          500| 5462|       12|2118-12-26|     Monday|\n",
            "| 189.142.75.183|2118|  Dec| 26|    |      |   PUT|/Archives/edgar/d...|         1.0|          500|37548|       12|2118-12-26|     Monday|\n",
            "|  17.173.32.136|2118|  Dec| 26|    |      |   GET|/Archives/edgar/d...|         1.0|          404|53177|       12|2118-12-26|     Monday|\n",
            "|  40.243.18.254|2118|  Dec| 26|    |      |   PUT|/Archives/edgar/d...|         1.0|          500|23317|       12|2118-12-26|     Monday|\n",
            "|  28.163.76.134|2118|  Dec| 26|    |      |  POST|/Archives/edgar/d...|         1.0|          304|16386|       12|2118-12-26|     Monday|\n",
            "|    68.8.175.30|2118|  Dec| 26|    |      |   PUT|/Archives/edgar/d...|         1.0|          403|38299|       12|2118-12-26|     Monday|\n",
            "|   27.79.71.172|2118|  Dec| 26|    |      |DELETE|/Archives/edgar/d...|         1.0|          403|15051|       12|2118-12-26|     Monday|\n",
            "+---------------+----+-----+---+----+------+------+--------------------+------------+-------------+-----+---------+----------+-----------+\n",
            "only showing top 20 rows\n",
            "\n"
          ]
        }
      ]
    },
    {
      "cell_type": "markdown",
      "source": [
        "# Caching logs dataframe"
      ],
      "metadata": {
        "id": "R6Gedoh_AOL5"
      }
    },
    {
      "cell_type": "code",
      "source": [
        "logs_df.cache()"
      ],
      "metadata": {
        "id": "G_iYMeUU_-rN",
        "outputId": "42e74169-260a-4675-b407-12862e4803dc",
        "colab": {
          "base_uri": "https://localhost:8080/"
        }
      },
      "execution_count": 20,
      "outputs": [
        {
          "output_type": "execute_result",
          "data": {
            "text/plain": [
              "DataFrame[ip_address: string, year: string, month: string, day: string, hour: string, minute: string, method: string, endpoint: string, http_version: string, response_code: string, bytes: string, month_num: string, date: date, day_of_week: string]"
            ]
          },
          "metadata": {},
          "execution_count": 20
        }
      ]
    },
    {
      "cell_type": "markdown",
      "source": [
        "# Perform EDA"
      ],
      "metadata": {
        "id": "iR37gCoWA17u"
      }
    },
    {
      "cell_type": "code",
      "source": [
        "content_size_summary_df = logs_df.describe(['bytes'])\n",
        "content_size_summary_df.toPandas()"
      ],
      "metadata": {
        "id": "DhDO-MdMAUEh",
        "outputId": "2c776d29-cdde-4bab-ad19-6bc82f446065",
        "colab": {
          "base_uri": "https://localhost:8080/",
          "height": 206
        }
      },
      "execution_count": 21,
      "outputs": [
        {
          "output_type": "execute_result",
          "data": {
            "text/plain": [
              "  summary               bytes\n",
              "0   count              120000\n",
              "1    mean        29975.596575\n",
              "2  stddev  17334.347684501685\n",
              "3     min                   1\n",
              "4     max                9998"
            ],
            "text/html": [
              "\n",
              "  <div id=\"df-6bfaf41f-0adf-4a24-8ede-e750701fda7b\">\n",
              "    <div class=\"colab-df-container\">\n",
              "      <div>\n",
              "<style scoped>\n",
              "    .dataframe tbody tr th:only-of-type {\n",
              "        vertical-align: middle;\n",
              "    }\n",
              "\n",
              "    .dataframe tbody tr th {\n",
              "        vertical-align: top;\n",
              "    }\n",
              "\n",
              "    .dataframe thead th {\n",
              "        text-align: right;\n",
              "    }\n",
              "</style>\n",
              "<table border=\"1\" class=\"dataframe\">\n",
              "  <thead>\n",
              "    <tr style=\"text-align: right;\">\n",
              "      <th></th>\n",
              "      <th>summary</th>\n",
              "      <th>bytes</th>\n",
              "    </tr>\n",
              "  </thead>\n",
              "  <tbody>\n",
              "    <tr>\n",
              "      <th>0</th>\n",
              "      <td>count</td>\n",
              "      <td>120000</td>\n",
              "    </tr>\n",
              "    <tr>\n",
              "      <th>1</th>\n",
              "      <td>mean</td>\n",
              "      <td>29975.596575</td>\n",
              "    </tr>\n",
              "    <tr>\n",
              "      <th>2</th>\n",
              "      <td>stddev</td>\n",
              "      <td>17334.347684501685</td>\n",
              "    </tr>\n",
              "    <tr>\n",
              "      <th>3</th>\n",
              "      <td>min</td>\n",
              "      <td>1</td>\n",
              "    </tr>\n",
              "    <tr>\n",
              "      <th>4</th>\n",
              "      <td>max</td>\n",
              "      <td>9998</td>\n",
              "    </tr>\n",
              "  </tbody>\n",
              "</table>\n",
              "</div>\n",
              "      <button class=\"colab-df-convert\" onclick=\"convertToInteractive('df-6bfaf41f-0adf-4a24-8ede-e750701fda7b')\"\n",
              "              title=\"Convert this dataframe to an interactive table.\"\n",
              "              style=\"display:none;\">\n",
              "        \n",
              "  <svg xmlns=\"http://www.w3.org/2000/svg\" height=\"24px\"viewBox=\"0 0 24 24\"\n",
              "       width=\"24px\">\n",
              "    <path d=\"M0 0h24v24H0V0z\" fill=\"none\"/>\n",
              "    <path d=\"M18.56 5.44l.94 2.06.94-2.06 2.06-.94-2.06-.94-.94-2.06-.94 2.06-2.06.94zm-11 1L8.5 8.5l.94-2.06 2.06-.94-2.06-.94L8.5 2.5l-.94 2.06-2.06.94zm10 10l.94 2.06.94-2.06 2.06-.94-2.06-.94-.94-2.06-.94 2.06-2.06.94z\"/><path d=\"M17.41 7.96l-1.37-1.37c-.4-.4-.92-.59-1.43-.59-.52 0-1.04.2-1.43.59L10.3 9.45l-7.72 7.72c-.78.78-.78 2.05 0 2.83L4 21.41c.39.39.9.59 1.41.59.51 0 1.02-.2 1.41-.59l7.78-7.78 2.81-2.81c.8-.78.8-2.07 0-2.86zM5.41 20L4 18.59l7.72-7.72 1.47 1.35L5.41 20z\"/>\n",
              "  </svg>\n",
              "      </button>\n",
              "      \n",
              "  <style>\n",
              "    .colab-df-container {\n",
              "      display:flex;\n",
              "      flex-wrap:wrap;\n",
              "      gap: 12px;\n",
              "    }\n",
              "\n",
              "    .colab-df-convert {\n",
              "      background-color: #E8F0FE;\n",
              "      border: none;\n",
              "      border-radius: 50%;\n",
              "      cursor: pointer;\n",
              "      display: none;\n",
              "      fill: #1967D2;\n",
              "      height: 32px;\n",
              "      padding: 0 0 0 0;\n",
              "      width: 32px;\n",
              "    }\n",
              "\n",
              "    .colab-df-convert:hover {\n",
              "      background-color: #E2EBFA;\n",
              "      box-shadow: 0px 1px 2px rgba(60, 64, 67, 0.3), 0px 1px 3px 1px rgba(60, 64, 67, 0.15);\n",
              "      fill: #174EA6;\n",
              "    }\n",
              "\n",
              "    [theme=dark] .colab-df-convert {\n",
              "      background-color: #3B4455;\n",
              "      fill: #D2E3FC;\n",
              "    }\n",
              "\n",
              "    [theme=dark] .colab-df-convert:hover {\n",
              "      background-color: #434B5C;\n",
              "      box-shadow: 0px 1px 3px 1px rgba(0, 0, 0, 0.15);\n",
              "      filter: drop-shadow(0px 1px 2px rgba(0, 0, 0, 0.3));\n",
              "      fill: #FFFFFF;\n",
              "    }\n",
              "  </style>\n",
              "\n",
              "      <script>\n",
              "        const buttonEl =\n",
              "          document.querySelector('#df-6bfaf41f-0adf-4a24-8ede-e750701fda7b button.colab-df-convert');\n",
              "        buttonEl.style.display =\n",
              "          google.colab.kernel.accessAllowed ? 'block' : 'none';\n",
              "\n",
              "        async function convertToInteractive(key) {\n",
              "          const element = document.querySelector('#df-6bfaf41f-0adf-4a24-8ede-e750701fda7b');\n",
              "          const dataTable =\n",
              "            await google.colab.kernel.invokeFunction('convertToInteractive',\n",
              "                                                     [key], {});\n",
              "          if (!dataTable) return;\n",
              "\n",
              "          const docLinkHtml = 'Like what you see? Visit the ' +\n",
              "            '<a target=\"_blank\" href=https://colab.research.google.com/notebooks/data_table.ipynb>data table notebook</a>'\n",
              "            + ' to learn more about interactive tables.';\n",
              "          element.innerHTML = '';\n",
              "          dataTable['output_type'] = 'display_data';\n",
              "          await google.colab.output.renderOutput(dataTable, element);\n",
              "          const docLink = document.createElement('div');\n",
              "          docLink.innerHTML = docLinkHtml;\n",
              "          element.appendChild(docLink);\n",
              "        }\n",
              "      </script>\n",
              "    </div>\n",
              "  </div>\n",
              "  "
            ]
          },
          "metadata": {},
          "execution_count": 21
        }
      ]
    },
    {
      "cell_type": "code",
      "source": [
        "from pyspark.sql import functions as F\n",
        "\n",
        "(logs_df.agg(F.min(logs_df['bytes']).alias('min_byte_size'),\n",
        "             F.max(logs_df['bytes']).alias('max_byte_size'),\n",
        "             F.mean(logs_df['bytes']).alias('mean_byte_size'),\n",
        "             F.stddev(logs_df['bytes']).alias('std_byte_size'),\n",
        "             F.count(logs_df['bytes']).alias('count_byte_size'))\n",
        "        .toPandas())"
      ],
      "metadata": {
        "id": "E82lYDVgBL5d",
        "outputId": "ecf98c84-ea6d-44bf-e7f1-3311274eb7f5",
        "colab": {
          "base_uri": "https://localhost:8080/",
          "height": 81
        }
      },
      "execution_count": 22,
      "outputs": [
        {
          "output_type": "execute_result",
          "data": {
            "text/plain": [
              "  min_byte_size max_byte_size  mean_byte_size  std_byte_size  count_byte_size\n",
              "0             1          9998    29975.596575   17334.347685           120000"
            ],
            "text/html": [
              "\n",
              "  <div id=\"df-98e9a1c1-7fb6-443a-9bd0-6a2617d026eb\">\n",
              "    <div class=\"colab-df-container\">\n",
              "      <div>\n",
              "<style scoped>\n",
              "    .dataframe tbody tr th:only-of-type {\n",
              "        vertical-align: middle;\n",
              "    }\n",
              "\n",
              "    .dataframe tbody tr th {\n",
              "        vertical-align: top;\n",
              "    }\n",
              "\n",
              "    .dataframe thead th {\n",
              "        text-align: right;\n",
              "    }\n",
              "</style>\n",
              "<table border=\"1\" class=\"dataframe\">\n",
              "  <thead>\n",
              "    <tr style=\"text-align: right;\">\n",
              "      <th></th>\n",
              "      <th>min_byte_size</th>\n",
              "      <th>max_byte_size</th>\n",
              "      <th>mean_byte_size</th>\n",
              "      <th>std_byte_size</th>\n",
              "      <th>count_byte_size</th>\n",
              "    </tr>\n",
              "  </thead>\n",
              "  <tbody>\n",
              "    <tr>\n",
              "      <th>0</th>\n",
              "      <td>1</td>\n",
              "      <td>9998</td>\n",
              "      <td>29975.596575</td>\n",
              "      <td>17334.347685</td>\n",
              "      <td>120000</td>\n",
              "    </tr>\n",
              "  </tbody>\n",
              "</table>\n",
              "</div>\n",
              "      <button class=\"colab-df-convert\" onclick=\"convertToInteractive('df-98e9a1c1-7fb6-443a-9bd0-6a2617d026eb')\"\n",
              "              title=\"Convert this dataframe to an interactive table.\"\n",
              "              style=\"display:none;\">\n",
              "        \n",
              "  <svg xmlns=\"http://www.w3.org/2000/svg\" height=\"24px\"viewBox=\"0 0 24 24\"\n",
              "       width=\"24px\">\n",
              "    <path d=\"M0 0h24v24H0V0z\" fill=\"none\"/>\n",
              "    <path d=\"M18.56 5.44l.94 2.06.94-2.06 2.06-.94-2.06-.94-.94-2.06-.94 2.06-2.06.94zm-11 1L8.5 8.5l.94-2.06 2.06-.94-2.06-.94L8.5 2.5l-.94 2.06-2.06.94zm10 10l.94 2.06.94-2.06 2.06-.94-2.06-.94-.94-2.06-.94 2.06-2.06.94z\"/><path d=\"M17.41 7.96l-1.37-1.37c-.4-.4-.92-.59-1.43-.59-.52 0-1.04.2-1.43.59L10.3 9.45l-7.72 7.72c-.78.78-.78 2.05 0 2.83L4 21.41c.39.39.9.59 1.41.59.51 0 1.02-.2 1.41-.59l7.78-7.78 2.81-2.81c.8-.78.8-2.07 0-2.86zM5.41 20L4 18.59l7.72-7.72 1.47 1.35L5.41 20z\"/>\n",
              "  </svg>\n",
              "      </button>\n",
              "      \n",
              "  <style>\n",
              "    .colab-df-container {\n",
              "      display:flex;\n",
              "      flex-wrap:wrap;\n",
              "      gap: 12px;\n",
              "    }\n",
              "\n",
              "    .colab-df-convert {\n",
              "      background-color: #E8F0FE;\n",
              "      border: none;\n",
              "      border-radius: 50%;\n",
              "      cursor: pointer;\n",
              "      display: none;\n",
              "      fill: #1967D2;\n",
              "      height: 32px;\n",
              "      padding: 0 0 0 0;\n",
              "      width: 32px;\n",
              "    }\n",
              "\n",
              "    .colab-df-convert:hover {\n",
              "      background-color: #E2EBFA;\n",
              "      box-shadow: 0px 1px 2px rgba(60, 64, 67, 0.3), 0px 1px 3px 1px rgba(60, 64, 67, 0.15);\n",
              "      fill: #174EA6;\n",
              "    }\n",
              "\n",
              "    [theme=dark] .colab-df-convert {\n",
              "      background-color: #3B4455;\n",
              "      fill: #D2E3FC;\n",
              "    }\n",
              "\n",
              "    [theme=dark] .colab-df-convert:hover {\n",
              "      background-color: #434B5C;\n",
              "      box-shadow: 0px 1px 3px 1px rgba(0, 0, 0, 0.15);\n",
              "      filter: drop-shadow(0px 1px 2px rgba(0, 0, 0, 0.3));\n",
              "      fill: #FFFFFF;\n",
              "    }\n",
              "  </style>\n",
              "\n",
              "      <script>\n",
              "        const buttonEl =\n",
              "          document.querySelector('#df-98e9a1c1-7fb6-443a-9bd0-6a2617d026eb button.colab-df-convert');\n",
              "        buttonEl.style.display =\n",
              "          google.colab.kernel.accessAllowed ? 'block' : 'none';\n",
              "\n",
              "        async function convertToInteractive(key) {\n",
              "          const element = document.querySelector('#df-98e9a1c1-7fb6-443a-9bd0-6a2617d026eb');\n",
              "          const dataTable =\n",
              "            await google.colab.kernel.invokeFunction('convertToInteractive',\n",
              "                                                     [key], {});\n",
              "          if (!dataTable) return;\n",
              "\n",
              "          const docLinkHtml = 'Like what you see? Visit the ' +\n",
              "            '<a target=\"_blank\" href=https://colab.research.google.com/notebooks/data_table.ipynb>data table notebook</a>'\n",
              "            + ' to learn more about interactive tables.';\n",
              "          element.innerHTML = '';\n",
              "          dataTable['output_type'] = 'display_data';\n",
              "          await google.colab.output.renderOutput(dataTable, element);\n",
              "          const docLink = document.createElement('div');\n",
              "          docLink.innerHTML = docLinkHtml;\n",
              "          element.appendChild(docLink);\n",
              "        }\n",
              "      </script>\n",
              "    </div>\n",
              "  </div>\n",
              "  "
            ]
          },
          "metadata": {},
          "execution_count": 22
        }
      ]
    },
    {
      "cell_type": "markdown",
      "source": [
        "## HTTP Response Code Analysis\n"
      ],
      "metadata": {
        "id": "HDW-R_J8BSgH"
      }
    },
    {
      "cell_type": "code",
      "source": [
        "response_freq_df = (logs_df\n",
        "                     .groupBy('response_code')\n",
        "                     .count()\n",
        "                     .sort('response_code')\n",
        "                     .cache())\n",
        "\n",
        "print('Total distinct HTTP Response Codes:', response_freq_df.count())"
      ],
      "metadata": {
        "id": "2ry4NNurBTwg",
        "outputId": "05b4c2e3-86e9-4867-ae49-a76902c21a46",
        "colab": {
          "base_uri": "https://localhost:8080/"
        }
      },
      "execution_count": 23,
      "outputs": [
        {
          "output_type": "stream",
          "name": "stdout",
          "text": [
            "Total distinct HTTP Response Codes: 7\n"
          ]
        }
      ]
    },
    {
      "cell_type": "code",
      "source": [
        "status_freq_pd_df = (response_freq_df\n",
        "                         .toPandas()\n",
        "                         .sort_values(by=['count'],\n",
        "                                      ascending=False))\n",
        "status_freq_pd_df"
      ],
      "metadata": {
        "id": "hOVhZl5mBkCq",
        "outputId": "879d770a-022a-4e94-e0d4-7ee8e1fe86c2",
        "colab": {
          "base_uri": "https://localhost:8080/",
          "height": 269
        }
      },
      "execution_count": 24,
      "outputs": [
        {
          "output_type": "execute_result",
          "data": {
            "text/plain": [
              "  response_code  count\n",
              "0           200  17284\n",
              "4           404  17173\n",
              "3           403  17135\n",
              "5           500  17133\n",
              "2           304  17131\n",
              "6           502  17079\n",
              "1           303  17065"
            ],
            "text/html": [
              "\n",
              "  <div id=\"df-10c334da-7d91-49f0-8a36-74b64c1d91d2\">\n",
              "    <div class=\"colab-df-container\">\n",
              "      <div>\n",
              "<style scoped>\n",
              "    .dataframe tbody tr th:only-of-type {\n",
              "        vertical-align: middle;\n",
              "    }\n",
              "\n",
              "    .dataframe tbody tr th {\n",
              "        vertical-align: top;\n",
              "    }\n",
              "\n",
              "    .dataframe thead th {\n",
              "        text-align: right;\n",
              "    }\n",
              "</style>\n",
              "<table border=\"1\" class=\"dataframe\">\n",
              "  <thead>\n",
              "    <tr style=\"text-align: right;\">\n",
              "      <th></th>\n",
              "      <th>response_code</th>\n",
              "      <th>count</th>\n",
              "    </tr>\n",
              "  </thead>\n",
              "  <tbody>\n",
              "    <tr>\n",
              "      <th>0</th>\n",
              "      <td>200</td>\n",
              "      <td>17284</td>\n",
              "    </tr>\n",
              "    <tr>\n",
              "      <th>4</th>\n",
              "      <td>404</td>\n",
              "      <td>17173</td>\n",
              "    </tr>\n",
              "    <tr>\n",
              "      <th>3</th>\n",
              "      <td>403</td>\n",
              "      <td>17135</td>\n",
              "    </tr>\n",
              "    <tr>\n",
              "      <th>5</th>\n",
              "      <td>500</td>\n",
              "      <td>17133</td>\n",
              "    </tr>\n",
              "    <tr>\n",
              "      <th>2</th>\n",
              "      <td>304</td>\n",
              "      <td>17131</td>\n",
              "    </tr>\n",
              "    <tr>\n",
              "      <th>6</th>\n",
              "      <td>502</td>\n",
              "      <td>17079</td>\n",
              "    </tr>\n",
              "    <tr>\n",
              "      <th>1</th>\n",
              "      <td>303</td>\n",
              "      <td>17065</td>\n",
              "    </tr>\n",
              "  </tbody>\n",
              "</table>\n",
              "</div>\n",
              "      <button class=\"colab-df-convert\" onclick=\"convertToInteractive('df-10c334da-7d91-49f0-8a36-74b64c1d91d2')\"\n",
              "              title=\"Convert this dataframe to an interactive table.\"\n",
              "              style=\"display:none;\">\n",
              "        \n",
              "  <svg xmlns=\"http://www.w3.org/2000/svg\" height=\"24px\"viewBox=\"0 0 24 24\"\n",
              "       width=\"24px\">\n",
              "    <path d=\"M0 0h24v24H0V0z\" fill=\"none\"/>\n",
              "    <path d=\"M18.56 5.44l.94 2.06.94-2.06 2.06-.94-2.06-.94-.94-2.06-.94 2.06-2.06.94zm-11 1L8.5 8.5l.94-2.06 2.06-.94-2.06-.94L8.5 2.5l-.94 2.06-2.06.94zm10 10l.94 2.06.94-2.06 2.06-.94-2.06-.94-.94-2.06-.94 2.06-2.06.94z\"/><path d=\"M17.41 7.96l-1.37-1.37c-.4-.4-.92-.59-1.43-.59-.52 0-1.04.2-1.43.59L10.3 9.45l-7.72 7.72c-.78.78-.78 2.05 0 2.83L4 21.41c.39.39.9.59 1.41.59.51 0 1.02-.2 1.41-.59l7.78-7.78 2.81-2.81c.8-.78.8-2.07 0-2.86zM5.41 20L4 18.59l7.72-7.72 1.47 1.35L5.41 20z\"/>\n",
              "  </svg>\n",
              "      </button>\n",
              "      \n",
              "  <style>\n",
              "    .colab-df-container {\n",
              "      display:flex;\n",
              "      flex-wrap:wrap;\n",
              "      gap: 12px;\n",
              "    }\n",
              "\n",
              "    .colab-df-convert {\n",
              "      background-color: #E8F0FE;\n",
              "      border: none;\n",
              "      border-radius: 50%;\n",
              "      cursor: pointer;\n",
              "      display: none;\n",
              "      fill: #1967D2;\n",
              "      height: 32px;\n",
              "      padding: 0 0 0 0;\n",
              "      width: 32px;\n",
              "    }\n",
              "\n",
              "    .colab-df-convert:hover {\n",
              "      background-color: #E2EBFA;\n",
              "      box-shadow: 0px 1px 2px rgba(60, 64, 67, 0.3), 0px 1px 3px 1px rgba(60, 64, 67, 0.15);\n",
              "      fill: #174EA6;\n",
              "    }\n",
              "\n",
              "    [theme=dark] .colab-df-convert {\n",
              "      background-color: #3B4455;\n",
              "      fill: #D2E3FC;\n",
              "    }\n",
              "\n",
              "    [theme=dark] .colab-df-convert:hover {\n",
              "      background-color: #434B5C;\n",
              "      box-shadow: 0px 1px 3px 1px rgba(0, 0, 0, 0.15);\n",
              "      filter: drop-shadow(0px 1px 2px rgba(0, 0, 0, 0.3));\n",
              "      fill: #FFFFFF;\n",
              "    }\n",
              "  </style>\n",
              "\n",
              "      <script>\n",
              "        const buttonEl =\n",
              "          document.querySelector('#df-10c334da-7d91-49f0-8a36-74b64c1d91d2 button.colab-df-convert');\n",
              "        buttonEl.style.display =\n",
              "          google.colab.kernel.accessAllowed ? 'block' : 'none';\n",
              "\n",
              "        async function convertToInteractive(key) {\n",
              "          const element = document.querySelector('#df-10c334da-7d91-49f0-8a36-74b64c1d91d2');\n",
              "          const dataTable =\n",
              "            await google.colab.kernel.invokeFunction('convertToInteractive',\n",
              "                                                     [key], {});\n",
              "          if (!dataTable) return;\n",
              "\n",
              "          const docLinkHtml = 'Like what you see? Visit the ' +\n",
              "            '<a target=\"_blank\" href=https://colab.research.google.com/notebooks/data_table.ipynb>data table notebook</a>'\n",
              "            + ' to learn more about interactive tables.';\n",
              "          element.innerHTML = '';\n",
              "          dataTable['output_type'] = 'display_data';\n",
              "          await google.colab.output.renderOutput(dataTable, element);\n",
              "          const docLink = document.createElement('div');\n",
              "          docLink.innerHTML = docLinkHtml;\n",
              "          element.appendChild(docLink);\n",
              "        }\n",
              "      </script>\n",
              "    </div>\n",
              "  </div>\n",
              "  "
            ]
          },
          "metadata": {},
          "execution_count": 24
        }
      ]
    },
    {
      "cell_type": "markdown",
      "source": [
        "# Response Code Graphical Analysis"
      ],
      "metadata": {
        "id": "XWR3iWTfBtra"
      }
    },
    {
      "cell_type": "code",
      "source": [
        "import matplotlib.pyplot as plt\n",
        "import seaborn as sns\n",
        "import numpy as np\n",
        "%matplotlib inline\n",
        "\n",
        "sns.catplot(x='response_code', y='count', data=status_freq_pd_df, \n",
        "            kind='bar', order=status_freq_pd_df['response_code'])"
      ],
      "metadata": {
        "id": "9CfGoO2KByqK",
        "outputId": "68920631-40ad-4fc1-c6f5-7e46ae9dea1f",
        "colab": {
          "base_uri": "https://localhost:8080/",
          "height": 523
        }
      },
      "execution_count": 25,
      "outputs": [
        {
          "output_type": "execute_result",
          "data": {
            "text/plain": [
              "<seaborn.axisgrid.FacetGrid at 0x7f33f0d412d0>"
            ]
          },
          "metadata": {},
          "execution_count": 25
        },
        {
          "output_type": "display_data",
          "data": {
            "text/plain": [
              "<Figure size 500x500 with 1 Axes>"
            ],
            "image/png": "[encoded data removed]"
          },
          "metadata": {}
        }
      ]
    },
    {
      "cell_type": "markdown",
      "source": [
        "The response code looks normalized so no need to use log on count cloumn"
      ],
      "metadata": {
        "id": "DTcIjr7SCBJx"
      }
    },
    {
      "cell_type": "code",
      "source": [
        "log_freq_df = response_freq_df.withColumn('log(count)', F.log(response_freq_df['count']))\n",
        "log_freq_df.show()"
      ],
      "metadata": {
        "id": "J-zB9CpACOw8",
        "outputId": "4769f6ce-8d38-41bd-989a-92304dc74f72",
        "colab": {
          "base_uri": "https://localhost:8080/"
        }
      },
      "execution_count": 26,
      "outputs": [
        {
          "output_type": "stream",
          "name": "stdout",
          "text": [
            "+-------------+-----+-----------------+\n",
            "|response_code|count|       log(count)|\n",
            "+-------------+-----+-----------------+\n",
            "|          200|17284|9.757536497051824|\n",
            "|          303|17065|9.744784861340808|\n",
            "|          304|17131|9.748644966730458|\n",
            "|          403|17135| 9.74887843430871|\n",
            "|          404|17173|9.751093661983862|\n",
            "|          500|17133|9.748761707332973|\n",
            "|          502|17079|9.745604917619191|\n",
            "+-------------+-----+-----------------+\n",
            "\n"
          ]
        }
      ]
    },
    {
      "cell_type": "markdown",
      "source": [
        "# Response Code Logarithm Count Graphical Analysis"
      ],
      "metadata": {
        "id": "9TFqt8njCens"
      }
    },
    {
      "cell_type": "code",
      "source": [
        "log_freq_pd_df = (log_freq_df\n",
        "                    .toPandas()\n",
        "                    .sort_values(by=['log(count)'],\n",
        "                                 ascending=False))\n",
        "sns.catplot(x='response_code', y='log(count)', data=log_freq_pd_df, \n",
        "            kind='bar', order=status_freq_pd_df['response_code'])"
      ],
      "metadata": {
        "id": "yxS462l4CWsN",
        "outputId": "a892d7eb-1553-432f-8340-48e82f7f98df",
        "colab": {
          "base_uri": "https://localhost:8080/",
          "height": 524
        }
      },
      "execution_count": 27,
      "outputs": [
        {
          "output_type": "execute_result",
          "data": {
            "text/plain": [
              "<seaborn.axisgrid.FacetGrid at 0x7f33fcb85660>"
            ]
          },
          "metadata": {},
          "execution_count": 27
        },
        {
          "output_type": "display_data",
          "data": {
            "text/plain": [
              "<Figure size 500x500 with 1 Axes>"
            ],
            "image/png": "[encoded data removed]"
          },
          "metadata": {}
        }
      ]
    },
    {
      "cell_type": "markdown",
      "source": [
        "As said the dataset is perfectly balanced in the graph"
      ],
      "metadata": {
        "id": "KpsCFEDZClbb"
      }
    },
    {
      "cell_type": "markdown",
      "source": [
        "# 404 Response Codes Analysis"
      ],
      "metadata": {
        "id": "NItfrg5gDsIQ"
      }
    },
    {
      "cell_type": "code",
      "source": [
        "not_found_df = logs_df.filter(logs_df[\"response_code\"] == 404).cache()\n",
        "print(('Total 404 responses: {}').format(not_found_df.count()))"
      ],
      "metadata": {
        "id": "A7rIFmfHCp5Q",
        "outputId": "b3fa9533-2b26-4daa-c53b-658535959dfe",
        "colab": {
          "base_uri": "https://localhost:8080/"
        }
      },
      "execution_count": 28,
      "outputs": [
        {
          "output_type": "stream",
          "name": "stdout",
          "text": [
            "Total 404 responses: 17173\n"
          ]
        }
      ]
    },
    {
      "cell_type": "markdown",
      "source": [
        "# Top Ten 404 Response codes API"
      ],
      "metadata": {
        "id": "1AnNur25EDtk"
      }
    },
    {
      "cell_type": "code",
      "source": [
        "top10_404_count_df = (not_found_df\n",
        "                          .groupBy(\"endpoint\")\n",
        "                          .count()\n",
        "                          .sort(\"count\", ascending=False)\n",
        "                          .limit(10))\n",
        "\n",
        "top10_404_count_df.show(truncate=False)"
      ],
      "metadata": {
        "id": "XQOLpviJEBeG",
        "outputId": "5e8b7d1a-9024-4e7e-85f3-afd7de164e8c",
        "colab": {
          "base_uri": "https://localhost:8080/"
        }
      },
      "execution_count": 29,
      "outputs": [
        {
          "output_type": "stream",
          "name": "stdout",
          "text": [
            "+---------------------------------------------------------------------------------+-----+\n",
            "|endpoint                                                                         |count|\n",
            "+---------------------------------------------------------------------------------+-----+\n",
            "|/Archives/edgar/data/0001179929/000117992923000043/moh-20230320_g24.jpg          |141  |\n",
            "|/Archives/edgar/data/1390098/000121390023023295/0001213900-23-023295.txt         |139  |\n",
            "|/Archives/edgar/data/0001002638/000100263815000016/0001002638-15-000016-index.htm|139  |\n",
            "|/Archives/edgar/data/0001724128/000121390021017151/s131120_10k.htm               |138  |\n",
            "|/Archives/edgar/data/0001798682/000121390021017167/s131143_10k.htm               |138  |\n",
            "|/Archives/edgar/data/0001260125/000114420419015093/tv516458_10k.htm              |138  |\n",
            "|/Archives/edgar/data/27419/0001104659-12-037689.txt                              |138  |\n",
            "|/Archives/edgar/data/0000205007/000114554923005581/primary_doc.xml               |136  |\n",
            "|/Archives/edgar/data/0000318833/000035420421000574/SEC13G_Filing.htm             |135  |\n",
            "|/Archives/edgar/data/0000101382/000156459022006546/umbf-10k_20211231.htm         |135  |\n",
            "+---------------------------------------------------------------------------------+-----+\n",
            "\n"
          ]
        }
      ]
    },
    {
      "cell_type": "markdown",
      "source": [
        "Host names of Top Ten 404 Response code API"
      ],
      "metadata": {
        "id": "BxgwRLPFEYq6"
      }
    },
    {
      "cell_type": "code",
      "source": [
        "host_404_count_df = (not_found_df\n",
        "                          .groupBy(\"ip_address\")\n",
        "                          .count()\n",
        "                          .sort(\"count\", ascending=False)\n",
        "                          .limit(10))\n",
        "\n",
        "host_404_count_df.show(truncate=False)"
      ],
      "metadata": {
        "id": "C0XoZSYMEXFW",
        "outputId": "3627921e-d645-47ab-fc19-187fd8ea25d3",
        "colab": {
          "base_uri": "https://localhost:8080/"
        }
      },
      "execution_count": 30,
      "outputs": [
        {
          "output_type": "stream",
          "name": "stdout",
          "text": [
            "+--------------+-----+\n",
            "|ip_address    |count|\n",
            "+--------------+-----+\n",
            "|211.192.19.243|1    |\n",
            "|203.239.62.214|1    |\n",
            "|57.99.6.85    |1    |\n",
            "|170.110.43.62 |1    |\n",
            "|113.168.71.233|1    |\n",
            "|17.124.63.123 |1    |\n",
            "|166.80.39.27  |1    |\n",
            "|92.213.198.148|1    |\n",
            "|221.135.7.230 |1    |\n",
            "|73.69.108.205 |1    |\n",
            "+--------------+-----+\n",
            "\n"
          ]
        }
      ]
    },
    {
      "cell_type": "markdown",
      "source": [
        "# Hourly 404 Response codes"
      ],
      "metadata": {
        "id": "pa3Ko_YlFNPg"
      }
    },
    {
      "cell_type": "code",
      "source": [
        "hourly_404 = (not_found_df\n",
        "                                   .groupBy('hour')\n",
        "                                   .count()\n",
        "                                   .sort('hour'))\n",
        "hourly_404 = hourly_404.toPandas()\n",
        "hourly_404"
      ],
      "metadata": {
        "id": "nLHOMwUCFQt8",
        "outputId": "3bb23287-b4ab-4037-edec-1eb4ad88ac2e",
        "colab": {
          "base_uri": "https://localhost:8080/",
          "height": 81
        }
      },
      "execution_count": 31,
      "outputs": [
        {
          "output_type": "execute_result",
          "data": {
            "text/plain": [
              "  hour  count\n",
              "0       17173"
            ],
            "text/html": [
              "\n",
              "  <div id=\"df-413a3a99-d228-4ca5-835d-30a39ef90a87\">\n",
              "    <div class=\"colab-df-container\">\n",
              "      <div>\n",
              "<style scoped>\n",
              "    .dataframe tbody tr th:only-of-type {\n",
              "        vertical-align: middle;\n",
              "    }\n",
              "\n",
              "    .dataframe tbody tr th {\n",
              "        vertical-align: top;\n",
              "    }\n",
              "\n",
              "    .dataframe thead th {\n",
              "        text-align: right;\n",
              "    }\n",
              "</style>\n",
              "<table border=\"1\" class=\"dataframe\">\n",
              "  <thead>\n",
              "    <tr style=\"text-align: right;\">\n",
              "      <th></th>\n",
              "      <th>hour</th>\n",
              "      <th>count</th>\n",
              "    </tr>\n",
              "  </thead>\n",
              "  <tbody>\n",
              "    <tr>\n",
              "      <th>0</th>\n",
              "      <td></td>\n",
              "      <td>17173</td>\n",
              "    </tr>\n",
              "  </tbody>\n",
              "</table>\n",
              "</div>\n",
              "      <button class=\"colab-df-convert\" onclick=\"convertToInteractive('df-413a3a99-d228-4ca5-835d-30a39ef90a87')\"\n",
              "              title=\"Convert this dataframe to an interactive table.\"\n",
              "              style=\"display:none;\">\n",
              "        \n",
              "  <svg xmlns=\"http://www.w3.org/2000/svg\" height=\"24px\"viewBox=\"0 0 24 24\"\n",
              "       width=\"24px\">\n",
              "    <path d=\"M0 0h24v24H0V0z\" fill=\"none\"/>\n",
              "    <path d=\"M18.56 5.44l.94 2.06.94-2.06 2.06-.94-2.06-.94-.94-2.06-.94 2.06-2.06.94zm-11 1L8.5 8.5l.94-2.06 2.06-.94-2.06-.94L8.5 2.5l-.94 2.06-2.06.94zm10 10l.94 2.06.94-2.06 2.06-.94-2.06-.94-.94-2.06-.94 2.06-2.06.94z\"/><path d=\"M17.41 7.96l-1.37-1.37c-.4-.4-.92-.59-1.43-.59-.52 0-1.04.2-1.43.59L10.3 9.45l-7.72 7.72c-.78.78-.78 2.05 0 2.83L4 21.41c.39.39.9.59 1.41.59.51 0 1.02-.2 1.41-.59l7.78-7.78 2.81-2.81c.8-.78.8-2.07 0-2.86zM5.41 20L4 18.59l7.72-7.72 1.47 1.35L5.41 20z\"/>\n",
              "  </svg>\n",
              "      </button>\n",
              "      \n",
              "  <style>\n",
              "    .colab-df-container {\n",
              "      display:flex;\n",
              "      flex-wrap:wrap;\n",
              "      gap: 12px;\n",
              "    }\n",
              "\n",
              "    .colab-df-convert {\n",
              "      background-color: #E8F0FE;\n",
              "      border: none;\n",
              "      border-radius: 50%;\n",
              "      cursor: pointer;\n",
              "      display: none;\n",
              "      fill: #1967D2;\n",
              "      height: 32px;\n",
              "      padding: 0 0 0 0;\n",
              "      width: 32px;\n",
              "    }\n",
              "\n",
              "    .colab-df-convert:hover {\n",
              "      background-color: #E2EBFA;\n",
              "      box-shadow: 0px 1px 2px rgba(60, 64, 67, 0.3), 0px 1px 3px 1px rgba(60, 64, 67, 0.15);\n",
              "      fill: #174EA6;\n",
              "    }\n",
              "\n",
              "    [theme=dark] .colab-df-convert {\n",
              "      background-color: #3B4455;\n",
              "      fill: #D2E3FC;\n",
              "    }\n",
              "\n",
              "    [theme=dark] .colab-df-convert:hover {\n",
              "      background-color: #434B5C;\n",
              "      box-shadow: 0px 1px 3px 1px rgba(0, 0, 0, 0.15);\n",
              "      filter: drop-shadow(0px 1px 2px rgba(0, 0, 0, 0.3));\n",
              "      fill: #FFFFFF;\n",
              "    }\n",
              "  </style>\n",
              "\n",
              "      <script>\n",
              "        const buttonEl =\n",
              "          document.querySelector('#df-413a3a99-d228-4ca5-835d-30a39ef90a87 button.colab-df-convert');\n",
              "        buttonEl.style.display =\n",
              "          google.colab.kernel.accessAllowed ? 'block' : 'none';\n",
              "\n",
              "        async function convertToInteractive(key) {\n",
              "          const element = document.querySelector('#df-413a3a99-d228-4ca5-835d-30a39ef90a87');\n",
              "          const dataTable =\n",
              "            await google.colab.kernel.invokeFunction('convertToInteractive',\n",
              "                                                     [key], {});\n",
              "          if (!dataTable) return;\n",
              "\n",
              "          const docLinkHtml = 'Like what you see? Visit the ' +\n",
              "            '<a target=\"_blank\" href=https://colab.research.google.com/notebooks/data_table.ipynb>data table notebook</a>'\n",
              "            + ' to learn more about interactive tables.';\n",
              "          element.innerHTML = '';\n",
              "          dataTable['output_type'] = 'display_data';\n",
              "          await google.colab.output.renderOutput(dataTable, element);\n",
              "          const docLink = document.createElement('div');\n",
              "          docLink.innerHTML = docLinkHtml;\n",
              "          element.appendChild(docLink);\n",
              "        }\n",
              "      </script>\n",
              "    </div>\n",
              "  </div>\n",
              "  "
            ]
          },
          "metadata": {},
          "execution_count": 31
        }
      ]
    },
    {
      "cell_type": "markdown",
      "source": [
        "As there is no hour data, All of them appear on 0th hour i.e start of the day"
      ],
      "metadata": {
        "id": "qjG_rEoyFYIc"
      }
    },
    {
      "cell_type": "markdown",
      "source": [
        "# Daily 404 Response codes"
      ],
      "metadata": {
        "id": "mdH2LTFMElVC"
      }
    },
    {
      "cell_type": "code",
      "source": [
        "daily_404 = (not_found_df\n",
        "                                .groupBy(\"date\")\n",
        "                                .count()\n",
        "                                .sort(\"date\"))\n",
        "\n",
        "daily_404 = daily_404.toPandas()\n",
        "daily_404"
      ],
      "metadata": {
        "id": "cIdLbbOaEooO",
        "outputId": "96175fb2-ff6b-461d-923e-2b83159151b6",
        "colab": {
          "base_uri": "https://localhost:8080/",
          "height": 81
        }
      },
      "execution_count": 32,
      "outputs": [
        {
          "output_type": "execute_result",
          "data": {
            "text/plain": [
              "         date  count\n",
              "0  2118-12-26  17173"
            ],
            "text/html": [
              "\n",
              "  <div id=\"df-dcee2ae1-60b7-4fc2-9f47-7dbc3d07098b\">\n",
              "    <div class=\"colab-df-container\">\n",
              "      <div>\n",
              "<style scoped>\n",
              "    .dataframe tbody tr th:only-of-type {\n",
              "        vertical-align: middle;\n",
              "    }\n",
              "\n",
              "    .dataframe tbody tr th {\n",
              "        vertical-align: top;\n",
              "    }\n",
              "\n",
              "    .dataframe thead th {\n",
              "        text-align: right;\n",
              "    }\n",
              "</style>\n",
              "<table border=\"1\" class=\"dataframe\">\n",
              "  <thead>\n",
              "    <tr style=\"text-align: right;\">\n",
              "      <th></th>\n",
              "      <th>date</th>\n",
              "      <th>count</th>\n",
              "    </tr>\n",
              "  </thead>\n",
              "  <tbody>\n",
              "    <tr>\n",
              "      <th>0</th>\n",
              "      <td>2118-12-26</td>\n",
              "      <td>17173</td>\n",
              "    </tr>\n",
              "  </tbody>\n",
              "</table>\n",
              "</div>\n",
              "      <button class=\"colab-df-convert\" onclick=\"convertToInteractive('df-dcee2ae1-60b7-4fc2-9f47-7dbc3d07098b')\"\n",
              "              title=\"Convert this dataframe to an interactive table.\"\n",
              "              style=\"display:none;\">\n",
              "        \n",
              "  <svg xmlns=\"http://www.w3.org/2000/svg\" height=\"24px\"viewBox=\"0 0 24 24\"\n",
              "       width=\"24px\">\n",
              "    <path d=\"M0 0h24v24H0V0z\" fill=\"none\"/>\n",
              "    <path d=\"M18.56 5.44l.94 2.06.94-2.06 2.06-.94-2.06-.94-.94-2.06-.94 2.06-2.06.94zm-11 1L8.5 8.5l.94-2.06 2.06-.94-2.06-.94L8.5 2.5l-.94 2.06-2.06.94zm10 10l.94 2.06.94-2.06 2.06-.94-2.06-.94-.94-2.06-.94 2.06-2.06.94z\"/><path d=\"M17.41 7.96l-1.37-1.37c-.4-.4-.92-.59-1.43-.59-.52 0-1.04.2-1.43.59L10.3 9.45l-7.72 7.72c-.78.78-.78 2.05 0 2.83L4 21.41c.39.39.9.59 1.41.59.51 0 1.02-.2 1.41-.59l7.78-7.78 2.81-2.81c.8-.78.8-2.07 0-2.86zM5.41 20L4 18.59l7.72-7.72 1.47 1.35L5.41 20z\"/>\n",
              "  </svg>\n",
              "      </button>\n",
              "      \n",
              "  <style>\n",
              "    .colab-df-container {\n",
              "      display:flex;\n",
              "      flex-wrap:wrap;\n",
              "      gap: 12px;\n",
              "    }\n",
              "\n",
              "    .colab-df-convert {\n",
              "      background-color: #E8F0FE;\n",
              "      border: none;\n",
              "      border-radius: 50%;\n",
              "      cursor: pointer;\n",
              "      display: none;\n",
              "      fill: #1967D2;\n",
              "      height: 32px;\n",
              "      padding: 0 0 0 0;\n",
              "      width: 32px;\n",
              "    }\n",
              "\n",
              "    .colab-df-convert:hover {\n",
              "      background-color: #E2EBFA;\n",
              "      box-shadow: 0px 1px 2px rgba(60, 64, 67, 0.3), 0px 1px 3px 1px rgba(60, 64, 67, 0.15);\n",
              "      fill: #174EA6;\n",
              "    }\n",
              "\n",
              "    [theme=dark] .colab-df-convert {\n",
              "      background-color: #3B4455;\n",
              "      fill: #D2E3FC;\n",
              "    }\n",
              "\n",
              "    [theme=dark] .colab-df-convert:hover {\n",
              "      background-color: #434B5C;\n",
              "      box-shadow: 0px 1px 3px 1px rgba(0, 0, 0, 0.15);\n",
              "      filter: drop-shadow(0px 1px 2px rgba(0, 0, 0, 0.3));\n",
              "      fill: #FFFFFF;\n",
              "    }\n",
              "  </style>\n",
              "\n",
              "      <script>\n",
              "        const buttonEl =\n",
              "          document.querySelector('#df-dcee2ae1-60b7-4fc2-9f47-7dbc3d07098b button.colab-df-convert');\n",
              "        buttonEl.style.display =\n",
              "          google.colab.kernel.accessAllowed ? 'block' : 'none';\n",
              "\n",
              "        async function convertToInteractive(key) {\n",
              "          const element = document.querySelector('#df-dcee2ae1-60b7-4fc2-9f47-7dbc3d07098b');\n",
              "          const dataTable =\n",
              "            await google.colab.kernel.invokeFunction('convertToInteractive',\n",
              "                                                     [key], {});\n",
              "          if (!dataTable) return;\n",
              "\n",
              "          const docLinkHtml = 'Like what you see? Visit the ' +\n",
              "            '<a target=\"_blank\" href=https://colab.research.google.com/notebooks/data_table.ipynb>data table notebook</a>'\n",
              "            + ' to learn more about interactive tables.';\n",
              "          element.innerHTML = '';\n",
              "          dataTable['output_type'] = 'display_data';\n",
              "          await google.colab.output.renderOutput(dataTable, element);\n",
              "          const docLink = document.createElement('div');\n",
              "          docLink.innerHTML = docLinkHtml;\n",
              "          element.appendChild(docLink);\n",
              "        }\n",
              "      </script>\n",
              "    </div>\n",
              "  </div>\n",
              "  "
            ]
          },
          "metadata": {},
          "execution_count": 32
        }
      ]
    },
    {
      "cell_type": "markdown",
      "source": [
        "All of them are of same date"
      ],
      "metadata": {
        "id": "uDT0ZmJqGPn4"
      }
    },
    {
      "cell_type": "markdown",
      "source": [
        "# Weekly 404 Response codes"
      ],
      "metadata": {
        "id": "bGUtGQ6mGTU1"
      }
    },
    {
      "cell_type": "code",
      "source": [
        "from pyspark.sql.functions import col\n",
        "\n",
        "weekly_404 = not_found_df.groupBy('day_of_week').count().orderBy(col('count').asc())\n",
        "weekly_404.show()"
      ],
      "metadata": {
        "id": "EBD9ApDSGWnf",
        "outputId": "ec01eda5-7553-40b3-92f9-1793142539d2",
        "colab": {
          "base_uri": "https://localhost:8080/"
        }
      },
      "execution_count": 33,
      "outputs": [
        {
          "output_type": "stream",
          "name": "stdout",
          "text": [
            "+-----------+-----+\n",
            "|day_of_week|count|\n",
            "+-----------+-----+\n",
            "|     Monday|17173|\n",
            "+-----------+-----+\n",
            "\n"
          ]
        }
      ]
    },
    {
      "cell_type": "markdown",
      "source": [
        "404 Appears only on Monday\n",
        "\n"
      ],
      "metadata": {
        "id": "D4OjLIO4GtMf"
      }
    },
    {
      "cell_type": "markdown",
      "source": [
        "# 200 Response Codes Analysis"
      ],
      "metadata": {
        "id": "hF4DkmTHHDXL"
      }
    },
    {
      "cell_type": "code",
      "source": [
        "success_df = logs_df.filter(logs_df[\"response_code\"] == 200).cache()\n",
        "print(('Total 200 responses: {}').format(success_df.count()))"
      ],
      "metadata": {
        "id": "7pxW_jvwGsmt",
        "outputId": "e6aee0a4-f870-46e3-8a4b-83b77d80aa7d",
        "colab": {
          "base_uri": "https://localhost:8080/"
        }
      },
      "execution_count": 34,
      "outputs": [
        {
          "output_type": "stream",
          "name": "stdout",
          "text": [
            "Total 200 responses: 17284\n"
          ]
        }
      ]
    },
    {
      "cell_type": "markdown",
      "source": [
        "# Top Ten 200 Response code API's"
      ],
      "metadata": {
        "id": "TzagN-weHuYF"
      }
    },
    {
      "cell_type": "code",
      "source": [
        "top10_200_count_df = (success_df\n",
        "                          .groupBy(\"endpoint\")\n",
        "                          .count()\n",
        "                          .sort(\"count\", ascending=False)\n",
        "                          .limit(10))\n",
        "\n",
        "top10_200_count_df.show(truncate=False)"
      ],
      "metadata": {
        "id": "PsGUMRLeHYQX",
        "outputId": "b5167bdc-2ecb-46fa-b95e-7e122a7a8549",
        "colab": {
          "base_uri": "https://localhost:8080/"
        }
      },
      "execution_count": 35,
      "outputs": [
        {
          "output_type": "stream",
          "name": "stdout",
          "text": [
            "+---------------------------------------------------------------------------+-----+\n",
            "|endpoint                                                                   |count|\n",
            "+---------------------------------------------------------------------------+-----+\n",
            "|/Archives/edgar/data/0001168220/000116822009000023/form10k-a_123108.htm    |152  |\n",
            "|/Archives/edgar/data/0001091667/000109166722000024/chtr-20211231.htm       |141  |\n",
            "|/Archives/edgar/data/27673/0001104659-12-037692.txt                        |141  |\n",
            "|/Archives/edgar/data/0000004281/000119312517062657/R96.htm                 |139  |\n",
            "|/Archives/edgar/data/0000205007/000114554923015369/0001145549-23-015369.txt|137  |\n",
            "|/Archives/edgar/data/1826671/000121390023023294/0001213900-23-023294.txt   |137  |\n",
            "|/Archives/edgar/data/0001760283/000121390021017155/s131124_10k.htm         |136  |\n",
            "|/Archives/edgar/data/925548/000092153005000094/0000921530-05-000094.txt    |135  |\n",
            "|/Archives/edgar/data/0001260125/000114420419015071/0001144204-19-015071.txt|134  |\n",
            "|/Archives/edgar/data/0000101382/000156459021009664/umbf-10k_20201231.htm   |133  |\n",
            "+---------------------------------------------------------------------------+-----+\n",
            "\n"
          ]
        }
      ]
    },
    {
      "cell_type": "markdown",
      "source": [
        "# Top Ten 200 Response code Hosts"
      ],
      "metadata": {
        "id": "Y5yZWnocICqF"
      }
    },
    {
      "cell_type": "code",
      "source": [
        "host_200_count_df = (success_df\n",
        "                          .groupBy(\"ip_address\")\n",
        "                          .count()\n",
        "                          .sort(\"count\", ascending=False)\n",
        "                          .limit(10))\n",
        "\n",
        "host_200_count_df.show(truncate=False)"
      ],
      "metadata": {
        "id": "vsOKtJdxHY8o",
        "outputId": "4dcad6fa-9058-45a9-a2a8-330c4c172224",
        "colab": {
          "base_uri": "https://localhost:8080/"
        }
      },
      "execution_count": 36,
      "outputs": [
        {
          "output_type": "stream",
          "name": "stdout",
          "text": [
            "+--------------+-----+\n",
            "|ip_address    |count|\n",
            "+--------------+-----+\n",
            "|200.235.72.159|1    |\n",
            "|181.62.14.189 |1    |\n",
            "|37.3.220.78   |1    |\n",
            "|119.140.89.180|1    |\n",
            "|84.106.114.163|1    |\n",
            "|169.65.170.125|1    |\n",
            "|116.15.217.208|1    |\n",
            "|55.58.138.209 |1    |\n",
            "|37.197.57.106 |1    |\n",
            "|104.0.40.147  |1    |\n",
            "+--------------+-----+\n",
            "\n"
          ]
        }
      ]
    },
    {
      "cell_type": "markdown",
      "source": [
        "# Hourly 200 Response Codes"
      ],
      "metadata": {
        "id": "AwF0X--sIS_2"
      }
    },
    {
      "cell_type": "code",
      "source": [
        "hourly_200 = (success_df\n",
        "                                   .groupBy('hour')\n",
        "                                   .count()\n",
        "                                   .sort('hour'))\n",
        "hourly_200 = hourly_200.toPandas()\n",
        "hourly_200"
      ],
      "metadata": {
        "id": "pDoDV63oHcPS",
        "outputId": "2bb12c03-808e-4116-985d-cb7aed85fbbc",
        "colab": {
          "base_uri": "https://localhost:8080/",
          "height": 81
        }
      },
      "execution_count": 37,
      "outputs": [
        {
          "output_type": "execute_result",
          "data": {
            "text/plain": [
              "  hour  count\n",
              "0       17284"
            ],
            "text/html": [
              "\n",
              "  <div id=\"df-598350ec-ba06-4386-94cf-fcfe3434b549\">\n",
              "    <div class=\"colab-df-container\">\n",
              "      <div>\n",
              "<style scoped>\n",
              "    .dataframe tbody tr th:only-of-type {\n",
              "        vertical-align: middle;\n",
              "    }\n",
              "\n",
              "    .dataframe tbody tr th {\n",
              "        vertical-align: top;\n",
              "    }\n",
              "\n",
              "    .dataframe thead th {\n",
              "        text-align: right;\n",
              "    }\n",
              "</style>\n",
              "<table border=\"1\" class=\"dataframe\">\n",
              "  <thead>\n",
              "    <tr style=\"text-align: right;\">\n",
              "      <th></th>\n",
              "      <th>hour</th>\n",
              "      <th>count</th>\n",
              "    </tr>\n",
              "  </thead>\n",
              "  <tbody>\n",
              "    <tr>\n",
              "      <th>0</th>\n",
              "      <td></td>\n",
              "      <td>17284</td>\n",
              "    </tr>\n",
              "  </tbody>\n",
              "</table>\n",
              "</div>\n",
              "      <button class=\"colab-df-convert\" onclick=\"convertToInteractive('df-598350ec-ba06-4386-94cf-fcfe3434b549')\"\n",
              "              title=\"Convert this dataframe to an interactive table.\"\n",
              "              style=\"display:none;\">\n",
              "        \n",
              "  <svg xmlns=\"http://www.w3.org/2000/svg\" height=\"24px\"viewBox=\"0 0 24 24\"\n",
              "       width=\"24px\">\n",
              "    <path d=\"M0 0h24v24H0V0z\" fill=\"none\"/>\n",
              "    <path d=\"M18.56 5.44l.94 2.06.94-2.06 2.06-.94-2.06-.94-.94-2.06-.94 2.06-2.06.94zm-11 1L8.5 8.5l.94-2.06 2.06-.94-2.06-.94L8.5 2.5l-.94 2.06-2.06.94zm10 10l.94 2.06.94-2.06 2.06-.94-2.06-.94-.94-2.06-.94 2.06-2.06.94z\"/><path d=\"M17.41 7.96l-1.37-1.37c-.4-.4-.92-.59-1.43-.59-.52 0-1.04.2-1.43.59L10.3 9.45l-7.72 7.72c-.78.78-.78 2.05 0 2.83L4 21.41c.39.39.9.59 1.41.59.51 0 1.02-.2 1.41-.59l7.78-7.78 2.81-2.81c.8-.78.8-2.07 0-2.86zM5.41 20L4 18.59l7.72-7.72 1.47 1.35L5.41 20z\"/>\n",
              "  </svg>\n",
              "      </button>\n",
              "      \n",
              "  <style>\n",
              "    .colab-df-container {\n",
              "      display:flex;\n",
              "      flex-wrap:wrap;\n",
              "      gap: 12px;\n",
              "    }\n",
              "\n",
              "    .colab-df-convert {\n",
              "      background-color: #E8F0FE;\n",
              "      border: none;\n",
              "      border-radius: 50%;\n",
              "      cursor: pointer;\n",
              "      display: none;\n",
              "      fill: #1967D2;\n",
              "      height: 32px;\n",
              "      padding: 0 0 0 0;\n",
              "      width: 32px;\n",
              "    }\n",
              "\n",
              "    .colab-df-convert:hover {\n",
              "      background-color: #E2EBFA;\n",
              "      box-shadow: 0px 1px 2px rgba(60, 64, 67, 0.3), 0px 1px 3px 1px rgba(60, 64, 67, 0.15);\n",
              "      fill: #174EA6;\n",
              "    }\n",
              "\n",
              "    [theme=dark] .colab-df-convert {\n",
              "      background-color: #3B4455;\n",
              "      fill: #D2E3FC;\n",
              "    }\n",
              "\n",
              "    [theme=dark] .colab-df-convert:hover {\n",
              "      background-color: #434B5C;\n",
              "      box-shadow: 0px 1px 3px 1px rgba(0, 0, 0, 0.15);\n",
              "      filter: drop-shadow(0px 1px 2px rgba(0, 0, 0, 0.3));\n",
              "      fill: #FFFFFF;\n",
              "    }\n",
              "  </style>\n",
              "\n",
              "      <script>\n",
              "        const buttonEl =\n",
              "          document.querySelector('#df-598350ec-ba06-4386-94cf-fcfe3434b549 button.colab-df-convert');\n",
              "        buttonEl.style.display =\n",
              "          google.colab.kernel.accessAllowed ? 'block' : 'none';\n",
              "\n",
              "        async function convertToInteractive(key) {\n",
              "          const element = document.querySelector('#df-598350ec-ba06-4386-94cf-fcfe3434b549');\n",
              "          const dataTable =\n",
              "            await google.colab.kernel.invokeFunction('convertToInteractive',\n",
              "                                                     [key], {});\n",
              "          if (!dataTable) return;\n",
              "\n",
              "          const docLinkHtml = 'Like what you see? Visit the ' +\n",
              "            '<a target=\"_blank\" href=https://colab.research.google.com/notebooks/data_table.ipynb>data table notebook</a>'\n",
              "            + ' to learn more about interactive tables.';\n",
              "          element.innerHTML = '';\n",
              "          dataTable['output_type'] = 'display_data';\n",
              "          await google.colab.output.renderOutput(dataTable, element);\n",
              "          const docLink = document.createElement('div');\n",
              "          docLink.innerHTML = docLinkHtml;\n",
              "          element.appendChild(docLink);\n",
              "        }\n",
              "      </script>\n",
              "    </div>\n",
              "  </div>\n",
              "  "
            ]
          },
          "metadata": {},
          "execution_count": 37
        }
      ]
    },
    {
      "cell_type": "markdown",
      "source": [
        "# Daily 200 Response Codes"
      ],
      "metadata": {
        "id": "9rLFEE43If_k"
      }
    },
    {
      "cell_type": "code",
      "source": [
        "daily_200 = (success_df\n",
        "                                .groupBy(\"date\")\n",
        "                                .count()\n",
        "                                .sort(\"date\"))\n",
        "\n",
        "daily_200 = daily_200.toPandas()\n",
        "daily_200"
      ],
      "metadata": {
        "id": "q1fgWmojHkQk",
        "outputId": "7b4bb366-faa3-4902-a076-2b3363714db9",
        "colab": {
          "base_uri": "https://localhost:8080/",
          "height": 81
        }
      },
      "execution_count": 38,
      "outputs": [
        {
          "output_type": "execute_result",
          "data": {
            "text/plain": [
              "         date  count\n",
              "0  2118-12-26  17284"
            ],
            "text/html": [
              "\n",
              "  <div id=\"df-c0e4a74b-8c62-4584-bcb4-821a3cec5ec6\">\n",
              "    <div class=\"colab-df-container\">\n",
              "      <div>\n",
              "<style scoped>\n",
              "    .dataframe tbody tr th:only-of-type {\n",
              "        vertical-align: middle;\n",
              "    }\n",
              "\n",
              "    .dataframe tbody tr th {\n",
              "        vertical-align: top;\n",
              "    }\n",
              "\n",
              "    .dataframe thead th {\n",
              "        text-align: right;\n",
              "    }\n",
              "</style>\n",
              "<table border=\"1\" class=\"dataframe\">\n",
              "  <thead>\n",
              "    <tr style=\"text-align: right;\">\n",
              "      <th></th>\n",
              "      <th>date</th>\n",
              "      <th>count</th>\n",
              "    </tr>\n",
              "  </thead>\n",
              "  <tbody>\n",
              "    <tr>\n",
              "      <th>0</th>\n",
              "      <td>2118-12-26</td>\n",
              "      <td>17284</td>\n",
              "    </tr>\n",
              "  </tbody>\n",
              "</table>\n",
              "</div>\n",
              "      <button class=\"colab-df-convert\" onclick=\"convertToInteractive('df-c0e4a74b-8c62-4584-bcb4-821a3cec5ec6')\"\n",
              "              title=\"Convert this dataframe to an interactive table.\"\n",
              "              style=\"display:none;\">\n",
              "        \n",
              "  <svg xmlns=\"http://www.w3.org/2000/svg\" height=\"24px\"viewBox=\"0 0 24 24\"\n",
              "       width=\"24px\">\n",
              "    <path d=\"M0 0h24v24H0V0z\" fill=\"none\"/>\n",
              "    <path d=\"M18.56 5.44l.94 2.06.94-2.06 2.06-.94-2.06-.94-.94-2.06-.94 2.06-2.06.94zm-11 1L8.5 8.5l.94-2.06 2.06-.94-2.06-.94L8.5 2.5l-.94 2.06-2.06.94zm10 10l.94 2.06.94-2.06 2.06-.94-2.06-.94-.94-2.06-.94 2.06-2.06.94z\"/><path d=\"M17.41 7.96l-1.37-1.37c-.4-.4-.92-.59-1.43-.59-.52 0-1.04.2-1.43.59L10.3 9.45l-7.72 7.72c-.78.78-.78 2.05 0 2.83L4 21.41c.39.39.9.59 1.41.59.51 0 1.02-.2 1.41-.59l7.78-7.78 2.81-2.81c.8-.78.8-2.07 0-2.86zM5.41 20L4 18.59l7.72-7.72 1.47 1.35L5.41 20z\"/>\n",
              "  </svg>\n",
              "      </button>\n",
              "      \n",
              "  <style>\n",
              "    .colab-df-container {\n",
              "      display:flex;\n",
              "      flex-wrap:wrap;\n",
              "      gap: 12px;\n",
              "    }\n",
              "\n",
              "    .colab-df-convert {\n",
              "      background-color: #E8F0FE;\n",
              "      border: none;\n",
              "      border-radius: 50%;\n",
              "      cursor: pointer;\n",
              "      display: none;\n",
              "      fill: #1967D2;\n",
              "      height: 32px;\n",
              "      padding: 0 0 0 0;\n",
              "      width: 32px;\n",
              "    }\n",
              "\n",
              "    .colab-df-convert:hover {\n",
              "      background-color: #E2EBFA;\n",
              "      box-shadow: 0px 1px 2px rgba(60, 64, 67, 0.3), 0px 1px 3px 1px rgba(60, 64, 67, 0.15);\n",
              "      fill: #174EA6;\n",
              "    }\n",
              "\n",
              "    [theme=dark] .colab-df-convert {\n",
              "      background-color: #3B4455;\n",
              "      fill: #D2E3FC;\n",
              "    }\n",
              "\n",
              "    [theme=dark] .colab-df-convert:hover {\n",
              "      background-color: #434B5C;\n",
              "      box-shadow: 0px 1px 3px 1px rgba(0, 0, 0, 0.15);\n",
              "      filter: drop-shadow(0px 1px 2px rgba(0, 0, 0, 0.3));\n",
              "      fill: #FFFFFF;\n",
              "    }\n",
              "  </style>\n",
              "\n",
              "      <script>\n",
              "        const buttonEl =\n",
              "          document.querySelector('#df-c0e4a74b-8c62-4584-bcb4-821a3cec5ec6 button.colab-df-convert');\n",
              "        buttonEl.style.display =\n",
              "          google.colab.kernel.accessAllowed ? 'block' : 'none';\n",
              "\n",
              "        async function convertToInteractive(key) {\n",
              "          const element = document.querySelector('#df-c0e4a74b-8c62-4584-bcb4-821a3cec5ec6');\n",
              "          const dataTable =\n",
              "            await google.colab.kernel.invokeFunction('convertToInteractive',\n",
              "                                                     [key], {});\n",
              "          if (!dataTable) return;\n",
              "\n",
              "          const docLinkHtml = 'Like what you see? Visit the ' +\n",
              "            '<a target=\"_blank\" href=https://colab.research.google.com/notebooks/data_table.ipynb>data table notebook</a>'\n",
              "            + ' to learn more about interactive tables.';\n",
              "          element.innerHTML = '';\n",
              "          dataTable['output_type'] = 'display_data';\n",
              "          await google.colab.output.renderOutput(dataTable, element);\n",
              "          const docLink = document.createElement('div');\n",
              "          docLink.innerHTML = docLinkHtml;\n",
              "          element.appendChild(docLink);\n",
              "        }\n",
              "      </script>\n",
              "    </div>\n",
              "  </div>\n",
              "  "
            ]
          },
          "metadata": {},
          "execution_count": 38
        }
      ]
    },
    {
      "cell_type": "markdown",
      "source": [
        "# Weekly 200 Response Codes"
      ],
      "metadata": {
        "id": "c7F_DdLGI1cK"
      }
    },
    {
      "cell_type": "code",
      "source": [
        "weekly_200 = success_df.groupBy('day_of_week').count().orderBy(col('count').asc())\n",
        "weekly_200.show()"
      ],
      "metadata": {
        "id": "HjjPo60UHo8T",
        "outputId": "cf0cbf22-153b-43eb-e492-4d9de5c67839",
        "colab": {
          "base_uri": "https://localhost:8080/"
        }
      },
      "execution_count": 39,
      "outputs": [
        {
          "output_type": "stream",
          "name": "stdout",
          "text": [
            "+-----------+-----+\n",
            "|day_of_week|count|\n",
            "+-----------+-----+\n",
            "|     Monday|17284|\n",
            "+-----------+-----+\n",
            "\n"
          ]
        }
      ]
    },
    {
      "cell_type": "markdown",
      "source": [
        "## Analyzing Frequent Hosts\n",
        "Get the count of total accesses by each `host` and then sort by the counts and display only the top ten most frequent hosts."
      ],
      "metadata": {
        "id": "z3fZTcT7JWCj"
      }
    },
    {
      "cell_type": "code",
      "source": [
        "host_sum_df =(logs_df\n",
        "               .groupBy('ip_address')\n",
        "               .count()\n",
        "               .sort('count', ascending=False).limit(10))\n",
        "\n",
        "host_sum_df.show(truncate=False)"
      ],
      "metadata": {
        "id": "OByYMNB7JW37",
        "outputId": "87c6851d-c580-4ea2-e3c4-2a2e393d7ed7",
        "colab": {
          "base_uri": "https://localhost:8080/"
        }
      },
      "execution_count": 40,
      "outputs": [
        {
          "output_type": "stream",
          "name": "stdout",
          "text": [
            "+---------------+-----+\n",
            "|ip_address     |count|\n",
            "+---------------+-----+\n",
            "|55.135.36.93   |2    |\n",
            "|136.107.117.116|2    |\n",
            "|99.46.28.107   |1    |\n",
            "|163.218.128.230|1    |\n",
            "|211.192.19.243 |1    |\n",
            "|164.21.58.62   |1    |\n",
            "|3.20.196.136   |1    |\n",
            "|21.51.229.253  |1    |\n",
            "|200.235.72.159 |1    |\n",
            "|55.134.128.41  |1    |\n",
            "+---------------+-----+\n",
            "\n"
          ]
        }
      ]
    },
    {
      "cell_type": "code",
      "source": [
        "host_sum_pd_df = host_sum_df.toPandas()\n",
        "host_sum_pd_df.iloc[8]['ip_address']"
      ],
      "metadata": {
        "id": "tJVgSsQ4J-Gv",
        "outputId": "885614d3-e235-41b2-81f4-c4c95942f40e",
        "colab": {
          "base_uri": "https://localhost:8080/",
          "height": 36
        }
      },
      "execution_count": 41,
      "outputs": [
        {
          "output_type": "execute_result",
          "data": {
            "text/plain": [
              "'200.235.72.159'"
            ],
            "application/vnd.google.colaboratory.intrinsic+json": {
              "type": "string"
            }
          },
          "metadata": {},
          "execution_count": 41
        }
      ]
    },
    {
      "cell_type": "markdown",
      "source": [
        "Note: check for potentially empty strings when data wrangling.\n"
      ],
      "metadata": {
        "id": "h6ysodZPKE30"
      }
    },
    {
      "cell_type": "markdown",
      "source": [
        "# Unique IP Address"
      ],
      "metadata": {
        "id": "OsKSsN_lKUND"
      }
    },
    {
      "cell_type": "code",
      "source": [
        "unique_ip_address_count = (logs_df\n",
        "                     .select('ip_address')\n",
        "                     .distinct()\n",
        "                     .count())\n",
        "unique_ip_address_count"
      ],
      "metadata": {
        "id": "ouxKKDwpKR1o",
        "outputId": "d60c5e03-1998-4bfe-810d-5c4890306972",
        "colab": {
          "base_uri": "https://localhost:8080/"
        }
      },
      "execution_count": 42,
      "outputs": [
        {
          "output_type": "execute_result",
          "data": {
            "text/plain": [
              "119998"
            ]
          },
          "metadata": {},
          "execution_count": 42
        }
      ]
    },
    {
      "cell_type": "markdown",
      "source": [
        "# Display the Top 20 Frequent EndPoints\n",
        "The number of hits to endpoints (URIs) in the log.\n",
        "\n",
        "Group by the endpoint column, aggregate by count,\n",
        "sort in descending order like the previous part."
      ],
      "metadata": {
        "id": "6wRDbqFeKKMa"
      }
    },
    {
      "cell_type": "code",
      "source": [
        "paths_df = (logs_df\n",
        "            .groupBy('endpoint')\n",
        "            .count()\n",
        "            .sort('count', ascending=False).limit(20))\n",
        "paths_df.show()"
      ],
      "metadata": {
        "id": "9grIxh2iKGbH",
        "outputId": "7e03cfcd-cb49-49ae-8216-903bb8dd798f",
        "colab": {
          "base_uri": "https://localhost:8080/"
        }
      },
      "execution_count": 43,
      "outputs": [
        {
          "output_type": "stream",
          "name": "stdout",
          "text": [
            "+--------------------+-----+\n",
            "|            endpoint|count|\n",
            "+--------------------+-----+\n",
            "|/Archives/edgar/d...|  863|\n",
            "|/Archives/edgar/d...|  861|\n",
            "|/Archives/edgar/d...|  853|\n",
            "|/Archives/edgar/d...|  853|\n",
            "|/Archives/edgar/d...|  852|\n",
            "|/Archives/edgar/d...|  851|\n",
            "|/Archives/edgar/d...|  850|\n",
            "|/Archives/edgar/d...|  850|\n",
            "|/Archives/edgar/d...|  847|\n",
            "|/Archives/edgar/d...|  846|\n",
            "|/Archives/edgar/d...|  842|\n",
            "|/Archives/edgar/d...|  842|\n",
            "|/Archives/edgar/d...|  840|\n",
            "|/Archives/edgar/d...|  839|\n",
            "|/Archives/edgar/d...|  839|\n",
            "|/Archives/edgar/d...|  835|\n",
            "|/Archives/edgar/d...|  834|\n",
            "|/Archives/edgar/d...|  833|\n",
            "|/Archives/edgar/d...|  833|\n",
            "|/Archives/edgar/d...|  831|\n",
            "+--------------------+-----+\n",
            "\n"
          ]
        }
      ]
    },
    {
      "cell_type": "markdown",
      "source": [
        "# Top Ten Not Success (Error) Endpoints"
      ],
      "metadata": {
        "id": "2jIBEhfLK3Z_"
      }
    },
    {
      "cell_type": "code",
      "source": [
        "error_df = (logs_df\n",
        "               .filter(logs_df['response_code'] != 200))\n",
        "\n",
        "error_df = (error_df\n",
        "                               .groupBy('endpoint')\n",
        "                               .count()\n",
        "                               .sort('count', ascending=False)\n",
        "                               .limit(10)\n",
        "                          )\n",
        "error_df.show()"
      ],
      "metadata": {
        "id": "sWQLNHCeK0SV",
        "outputId": "1b99e342-d2d8-4c1d-ab89-e0c424524b8d",
        "colab": {
          "base_uri": "https://localhost:8080/"
        }
      },
      "execution_count": 44,
      "outputs": [
        {
          "output_type": "stream",
          "name": "stdout",
          "text": [
            "+--------------------+-----+\n",
            "|            endpoint|count|\n",
            "+--------------------+-----+\n",
            "|/Archives/edgar/d...|  746|\n",
            "|/Archives/edgar/d...|  743|\n",
            "|/Archives/edgar/d...|  739|\n",
            "|/Archives/edgar/d...|  736|\n",
            "|/Archives/edgar/d...|  734|\n",
            "|/Archives/edgar/d...|  732|\n",
            "|/Archives/edgar/d...|  732|\n",
            "|/Archives/edgar/d...|  730|\n",
            "|/Archives/edgar/d...|  727|\n",
            "|/Archives/edgar/d...|  727|\n",
            "+--------------------+-----+\n",
            "\n"
          ]
        }
      ]
    },
    {
      "cell_type": "markdown",
      "source": [
        "## Number of Unique Daily Hosts\n"
      ],
      "metadata": {
        "id": "My1HOs9kLdYa"
      }
    },
    {
      "cell_type": "code",
      "source": [
        "host_day_distinct_df = logs_df.select(logs_df.ip_address,'date').dropDuplicates()\n",
        "host_day_distinct_df.show(5, truncate=False)"
      ],
      "metadata": {
        "id": "YAeHx3EoLeAj",
        "outputId": "79d55ad9-21fa-42ac-ebea-976102dec391",
        "colab": {
          "base_uri": "https://localhost:8080/"
        }
      },
      "execution_count": 45,
      "outputs": [
        {
          "output_type": "stream",
          "name": "stdout",
          "text": [
            "+---------------+----------+\n",
            "|ip_address     |date      |\n",
            "+---------------+----------+\n",
            "|192.122.247.200|2118-12-26|\n",
            "|213.85.74.116  |2118-12-26|\n",
            "|70.129.148.146 |2118-12-26|\n",
            "|5.103.107.227  |2118-12-26|\n",
            "|182.67.59.24   |2118-12-26|\n",
            "+---------------+----------+\n",
            "only showing top 5 rows\n",
            "\n"
          ]
        }
      ]
    },
    {
      "cell_type": "markdown",
      "source": [
        "All of hosts on single date"
      ],
      "metadata": {
        "id": "XW8uBihDLqiU"
      }
    },
    {
      "cell_type": "markdown",
      "source": [
        "## Average Number of Daily Requests per Host\n",
        "- DataFrame sorted by increasing day of the month which includes the day of the month \n",
        "- the associated number of average requests made for that day per Host. "
      ],
      "metadata": {
        "id": "fLneIdoZL3F7"
      }
    },
    {
      "cell_type": "code",
      "source": [
        "daily_hosts_df = (host_day_distinct_df\n",
        "                     .groupBy('date')\n",
        "                     .count()\n",
        "                     .select(col('date'), \n",
        "                                      col(\"count\").alias(\"total_hosts\")))\n",
        "\n",
        "total_daily_reqests_df = (logs_df\n",
        "                              .select(\"date\")\n",
        "                              .groupBy('date')\n",
        "                              .count()\n",
        "                              .select(col(\"date\"), \n",
        "                                      col(\"count\").alias(\"total_reqs\")))\n",
        "\n",
        "avg_daily_reqests_per_host_df = total_daily_reqests_df.join(daily_hosts_df, 'date')\n",
        "avg_daily_reqests_per_host_df = (avg_daily_reqests_per_host_df\n",
        "                                    .withColumn('avg_reqs', col('total_reqs') / col('total_hosts'))\n",
        "                                    .sort(\"date\"))\n",
        "avg_daily_reqests_per_host_df = avg_daily_reqests_per_host_df.toPandas()\n",
        "avg_daily_reqests_per_host_df"
      ],
      "metadata": {
        "id": "7ArduD8tL4YT",
        "outputId": "95b12616-17d4-4188-dd44-e38ab10c23a0",
        "colab": {
          "base_uri": "https://localhost:8080/",
          "height": 81
        }
      },
      "execution_count": 46,
      "outputs": [
        {
          "output_type": "execute_result",
          "data": {
            "text/plain": [
              "         date  total_reqs  total_hosts  avg_reqs\n",
              "0  2118-12-26      120000       119998  1.000017"
            ],
            "text/html": [
              "\n",
              "  <div id=\"df-d7fd050f-5825-4ba8-bbe8-93b5e2cbb631\">\n",
              "    <div class=\"colab-df-container\">\n",
              "      <div>\n",
              "<style scoped>\n",
              "    .dataframe tbody tr th:only-of-type {\n",
              "        vertical-align: middle;\n",
              "    }\n",
              "\n",
              "    .dataframe tbody tr th {\n",
              "        vertical-align: top;\n",
              "    }\n",
              "\n",
              "    .dataframe thead th {\n",
              "        text-align: right;\n",
              "    }\n",
              "</style>\n",
              "<table border=\"1\" class=\"dataframe\">\n",
              "  <thead>\n",
              "    <tr style=\"text-align: right;\">\n",
              "      <th></th>\n",
              "      <th>date</th>\n",
              "      <th>total_reqs</th>\n",
              "      <th>total_hosts</th>\n",
              "      <th>avg_reqs</th>\n",
              "    </tr>\n",
              "  </thead>\n",
              "  <tbody>\n",
              "    <tr>\n",
              "      <th>0</th>\n",
              "      <td>2118-12-26</td>\n",
              "      <td>120000</td>\n",
              "      <td>119998</td>\n",
              "      <td>1.000017</td>\n",
              "    </tr>\n",
              "  </tbody>\n",
              "</table>\n",
              "</div>\n",
              "      <button class=\"colab-df-convert\" onclick=\"convertToInteractive('df-d7fd050f-5825-4ba8-bbe8-93b5e2cbb631')\"\n",
              "              title=\"Convert this dataframe to an interactive table.\"\n",
              "              style=\"display:none;\">\n",
              "        \n",
              "  <svg xmlns=\"http://www.w3.org/2000/svg\" height=\"24px\"viewBox=\"0 0 24 24\"\n",
              "       width=\"24px\">\n",
              "    <path d=\"M0 0h24v24H0V0z\" fill=\"none\"/>\n",
              "    <path d=\"M18.56 5.44l.94 2.06.94-2.06 2.06-.94-2.06-.94-.94-2.06-.94 2.06-2.06.94zm-11 1L8.5 8.5l.94-2.06 2.06-.94-2.06-.94L8.5 2.5l-.94 2.06-2.06.94zm10 10l.94 2.06.94-2.06 2.06-.94-2.06-.94-.94-2.06-.94 2.06-2.06.94z\"/><path d=\"M17.41 7.96l-1.37-1.37c-.4-.4-.92-.59-1.43-.59-.52 0-1.04.2-1.43.59L10.3 9.45l-7.72 7.72c-.78.78-.78 2.05 0 2.83L4 21.41c.39.39.9.59 1.41.59.51 0 1.02-.2 1.41-.59l7.78-7.78 2.81-2.81c.8-.78.8-2.07 0-2.86zM5.41 20L4 18.59l7.72-7.72 1.47 1.35L5.41 20z\"/>\n",
              "  </svg>\n",
              "      </button>\n",
              "      \n",
              "  <style>\n",
              "    .colab-df-container {\n",
              "      display:flex;\n",
              "      flex-wrap:wrap;\n",
              "      gap: 12px;\n",
              "    }\n",
              "\n",
              "    .colab-df-convert {\n",
              "      background-color: #E8F0FE;\n",
              "      border: none;\n",
              "      border-radius: 50%;\n",
              "      cursor: pointer;\n",
              "      display: none;\n",
              "      fill: #1967D2;\n",
              "      height: 32px;\n",
              "      padding: 0 0 0 0;\n",
              "      width: 32px;\n",
              "    }\n",
              "\n",
              "    .colab-df-convert:hover {\n",
              "      background-color: #E2EBFA;\n",
              "      box-shadow: 0px 1px 2px rgba(60, 64, 67, 0.3), 0px 1px 3px 1px rgba(60, 64, 67, 0.15);\n",
              "      fill: #174EA6;\n",
              "    }\n",
              "\n",
              "    [theme=dark] .colab-df-convert {\n",
              "      background-color: #3B4455;\n",
              "      fill: #D2E3FC;\n",
              "    }\n",
              "\n",
              "    [theme=dark] .colab-df-convert:hover {\n",
              "      background-color: #434B5C;\n",
              "      box-shadow: 0px 1px 3px 1px rgba(0, 0, 0, 0.15);\n",
              "      filter: drop-shadow(0px 1px 2px rgba(0, 0, 0, 0.3));\n",
              "      fill: #FFFFFF;\n",
              "    }\n",
              "  </style>\n",
              "\n",
              "      <script>\n",
              "        const buttonEl =\n",
              "          document.querySelector('#df-d7fd050f-5825-4ba8-bbe8-93b5e2cbb631 button.colab-df-convert');\n",
              "        buttonEl.style.display =\n",
              "          google.colab.kernel.accessAllowed ? 'block' : 'none';\n",
              "\n",
              "        async function convertToInteractive(key) {\n",
              "          const element = document.querySelector('#df-d7fd050f-5825-4ba8-bbe8-93b5e2cbb631');\n",
              "          const dataTable =\n",
              "            await google.colab.kernel.invokeFunction('convertToInteractive',\n",
              "                                                     [key], {});\n",
              "          if (!dataTable) return;\n",
              "\n",
              "          const docLinkHtml = 'Like what you see? Visit the ' +\n",
              "            '<a target=\"_blank\" href=https://colab.research.google.com/notebooks/data_table.ipynb>data table notebook</a>'\n",
              "            + ' to learn more about interactive tables.';\n",
              "          element.innerHTML = '';\n",
              "          dataTable['output_type'] = 'display_data';\n",
              "          await google.colab.output.renderOutput(dataTable, element);\n",
              "          const docLink = document.createElement('div');\n",
              "          docLink.innerHTML = docLinkHtml;\n",
              "          element.appendChild(docLink);\n",
              "        }\n",
              "      </script>\n",
              "    </div>\n",
              "  </div>\n",
              "  "
            ]
          },
          "metadata": {},
          "execution_count": 46
        }
      ]
    },
    {
      "cell_type": "markdown",
      "source": [
        "### Endpoint that received the highest number of invocations on a specific day of the week\n",
        "\n",
        "Calculating the count of invocations for each unique combination of day of the week and endpoint"
      ],
      "metadata": {
        "id": "tMq0UeFIMH6M"
      }
    },
    {
      "cell_type": "code",
      "source": [
        "from pyspark.sql.functions import date_format, count, max\n",
        "# Group the data by day of the week and endpoint, and count the number of invocations\n",
        "grouped_df = logs_df.groupBy('day_of_week', 'endpoint').agg(count('*').alias('invocations'))\n",
        "grouped_df.show(10, truncate=True)\n"
      ],
      "metadata": {
        "id": "JGg3d46qMK_U",
        "outputId": "09ea61b8-c5b6-42d4-a1e1-0cd768a8c0d6",
        "colab": {
          "base_uri": "https://localhost:8080/"
        }
      },
      "execution_count": 47,
      "outputs": [
        {
          "output_type": "stream",
          "name": "stdout",
          "text": [
            "+-----------+--------------------+-----------+\n",
            "|day_of_week|            endpoint|invocations|\n",
            "+-----------+--------------------+-----------+\n",
            "|     Monday|/Archives/edgar/d...|        811|\n",
            "|     Monday|/Archives/edgar/d...|        800|\n",
            "|     Monday|/Archives/edgar/d...|        850|\n",
            "|     Monday|/Archives/edgar/d...|        805|\n",
            "|     Monday|/Archives/edgar/d...|        758|\n",
            "|     Monday|/Archives/edgar/d...|        806|\n",
            "|     Monday|/Archives/edgar/d...|        815|\n",
            "|     Monday|/Archives/edgar/d...|        787|\n",
            "|     Monday|/Archives/edgar/d...|        786|\n",
            "|     Monday|/Archives/edgar/d...|        782|\n",
            "+-----------+--------------------+-----------+\n",
            "only showing top 10 rows\n",
            "\n"
          ]
        }
      ]
    },
    {
      "cell_type": "markdown",
      "source": [
        "Select the highest count for each unique day of week"
      ],
      "metadata": {
        "id": "t9mdkcVNMSfg"
      }
    },
    {
      "cell_type": "code",
      "source": [
        "# Avoids the join operation. \n",
        "# Utilize window functions to rank the rows and directly filter the rows with the highest invocations.\n",
        "# This can be advantageous when dealing with large datasets since it avoids the overhead of the join operation.\n",
        "\n",
        "from pyspark.sql.functions import row_number\n",
        "from pyspark.sql.window import Window\n",
        "\n",
        "# Add a row number column based on the invocations in descending order for each day_of_week\n",
        "windowSpec = Window.partitionBy('day_of_week').orderBy(grouped_df['invocations'].desc())\n",
        "ranked_df = grouped_df.withColumn('rank', row_number().over(windowSpec))\n",
        "\n",
        "# Filter the ranked DataFrame to retain only the rows with rank 1 (highest invocations)\n",
        "max_invocations_df = ranked_df.filter(ranked_df['rank'] == 1)\n",
        "\n",
        "# Summarize the results and display the day_of_week, endpoint, and invocations with max invocations\n",
        "max_invocations_df.select('day_of_week', 'endpoint', 'invocations').show()"
      ],
      "metadata": {
        "id": "G00Bdd4nMQcy",
        "outputId": "2d829108-a807-42cd-e6f3-bcb2df00ff7a",
        "colab": {
          "base_uri": "https://localhost:8080/"
        }
      },
      "execution_count": 48,
      "outputs": [
        {
          "output_type": "stream",
          "name": "stdout",
          "text": [
            "+-----------+--------------------+-----------+\n",
            "|day_of_week|            endpoint|invocations|\n",
            "+-----------+--------------------+-----------+\n",
            "|     Monday|/Archives/edgar/d...|        863|\n",
            "+-----------+--------------------+-----------+\n",
            "\n"
          ]
        }
      ]
    },
    {
      "cell_type": "markdown",
      "source": [
        "Everything on Monday"
      ],
      "metadata": {
        "id": "Cvuk39V3MX9N"
      }
    },
    {
      "cell_type": "markdown",
      "source": [
        "## Method Analysis\n",
        "\n",
        "### Analyzing Frequent Methods"
      ],
      "metadata": {
        "id": "S_mAScjNMdwC"
      }
    },
    {
      "cell_type": "code",
      "source": [
        "methods_count =(logs_df\n",
        "               .groupBy('method')\n",
        "               .count()\n",
        "               .sort('count', ascending=False))\n",
        "\n",
        "methods_count.show(truncate=False)"
      ],
      "metadata": {
        "id": "TaMlvTehMhYl",
        "outputId": "5a27c4eb-5ffd-4ce4-a4e7-b6911eaca40d",
        "colab": {
          "base_uri": "https://localhost:8080/"
        }
      },
      "execution_count": 49,
      "outputs": [
        {
          "output_type": "stream",
          "name": "stdout",
          "text": [
            "+------+-----+\n",
            "|method|count|\n",
            "+------+-----+\n",
            "|DELETE|30074|\n",
            "|POST  |30067|\n",
            "|GET   |29957|\n",
            "|PUT   |29902|\n",
            "+------+-----+\n",
            "\n"
          ]
        }
      ]
    },
    {
      "cell_type": "code",
      "source": [
        "import matplotlib.pyplot as plt\n",
        "import seaborn as sns\n",
        "\n",
        "# Extract the method names and counts from the DataFrame\n",
        "methods = methods_count.select('method').rdd.flatMap(lambda x: x).collect()\n",
        "counts = methods_count.select('count').rdd.flatMap(lambda x: x).collect()\n",
        "\n",
        "colors = sns.color_palette('viridis', len(methods))\n",
        "fig, ax = plt.subplots(figsize=(4, 4))\n",
        "ax.bar(methods, counts, color=colors)\n",
        "ax.set_xlabel('Method')\n",
        "ax.set_ylabel('Count')\n",
        "ax.set_title('Method Distribution')\n",
        "ax.set_xticklabels(methods, rotation=45)\n",
        "\n",
        "# Display the plot\n",
        "plt.show()\n"
      ],
      "metadata": {
        "id": "OubZrO2dMryf",
        "outputId": "341338f0-a582-4095-d301-52063b02080f",
        "colab": {
          "base_uri": "https://localhost:8080/",
          "height": 479
        }
      },
      "execution_count": 50,
      "outputs": [
        {
          "output_type": "stream",
          "name": "stderr",
          "text": [
            "<ipython-input-50-795e906768a3>:14: UserWarning: FixedFormatter should only be used together with FixedLocator\n",
            "  ax.set_xticklabels(methods, rotation=45)\n"
          ]
        },
        {
          "output_type": "display_data",
          "data": {
            "text/plain": [
              "<Figure size 400x400 with 1 Axes>"
            ],
            "image/png": "[encoded data removed]"
          },
          "metadata": {}
        }
      ]
    },
    {
      "cell_type": "code",
      "source": [
        "grouped_df = logs_df.groupBy('response_code', 'method').count()\n",
        "grouped_df.show(truncate=False)"
      ],
      "metadata": {
        "id": "TQOeGLX2NsV1",
        "outputId": "6cb9f6bf-67bd-4143-a8c9-096d6d3d7fe6",
        "colab": {
          "base_uri": "https://localhost:8080/"
        }
      },
      "execution_count": 51,
      "outputs": [
        {
          "output_type": "stream",
          "name": "stdout",
          "text": [
            "+-------------+------+-----+\n",
            "|response_code|method|count|\n",
            "+-------------+------+-----+\n",
            "|502          |DELETE|4265 |\n",
            "|200          |GET   |4359 |\n",
            "|403          |GET   |4336 |\n",
            "|403          |DELETE|4349 |\n",
            "|404          |PUT   |4339 |\n",
            "|303          |GET   |4237 |\n",
            "|200          |PUT   |4295 |\n",
            "|502          |PUT   |4334 |\n",
            "|502          |POST  |4298 |\n",
            "|304          |POST  |4277 |\n",
            "|404          |GET   |4158 |\n",
            "|304          |GET   |4327 |\n",
            "|502          |GET   |4182 |\n",
            "|200          |DELETE|4383 |\n",
            "|303          |POST  |4281 |\n",
            "|404          |DELETE|4280 |\n",
            "|303          |PUT   |4268 |\n",
            "|500          |POST  |4278 |\n",
            "|304          |DELETE|4275 |\n",
            "|304          |PUT   |4252 |\n",
            "+-------------+------+-----+\n",
            "only showing top 20 rows\n",
            "\n"
          ]
        }
      ]
    },
    {
      "cell_type": "code",
      "source": [
        "from pyspark.sql import functions as F\n",
        "\n",
        "grouped_df = logs_df.groupBy('endpoint', 'method').count()\n",
        "grouped_df.show(truncate=False)"
      ],
      "metadata": {
        "id": "bt_DVcaiN4ej",
        "outputId": "0611afcf-bf6b-4096-ebad-6e6e34c10b8f",
        "colab": {
          "base_uri": "https://localhost:8080/"
        }
      },
      "execution_count": 52,
      "outputs": [
        {
          "output_type": "stream",
          "name": "stdout",
          "text": [
            "+---------------------------------------------------------------------------------+------+-----+\n",
            "|endpoint                                                                         |method|count|\n",
            "+---------------------------------------------------------------------------------+------+-----+\n",
            "|/Archives/edgar/data/0001439124/000129281422000788/                              |GET   |198  |\n",
            "|/Archives/edgar/data/1932485/000110465923037622/tm239175d10_absee.htm            |GET   |178  |\n",
            "|/Archives/edgar/data/0001035018/000119312507272779/g47607g69u06.jpg              |DELETE|182  |\n",
            "|/Archives/edgar/data/0001729361/000121390021017176/s131100_10k.htm               |GET   |211  |\n",
            "|/Archives/edgar/data/0000205007/000114554923005581/0001145549-23-005581.txt      |PUT   |190  |\n",
            "|/Archives/edgar/data/0000004281/000119312517062657/R98.htm                       |PUT   |192  |\n",
            "|/Archives/edgar/data/0001129068/000095013122003743/narot19cabsee_0818-1508.htm   |DELETE|193  |\n",
            "|/Archives/edgar/data/24104/0001102624-12-000443.txt                              |GET   |186  |\n",
            "|/Archives/edgar/data/921112/000089542110000396/0000895421-10-000396.txt          |PUT   |178  |\n",
            "|/Archives/edgar/data/0001694010/000121390021017172/s131096_10k.htm               |DELETE|207  |\n",
            "|/Archives/edgar/data/0000352825/000035282519000012/0000352825-19-000012.txt      |POST  |182  |\n",
            "|/Archives/edgar/data/0001267332/000117494721000300/form10k-25692_indexpl20031.htm|DELETE|185  |\n",
            "|/Archives/edgar/data/0001439124/000129281422000854/                              |GET   |181  |\n",
            "|/Archives/edgar/data/0001326380/000132638023000019/gme-20230128_g1.jpg           |POST  |184  |\n",
            "|/Archives/edgar/data/0001056673/000094930398000131/0000949303-98-000131.txt      |PUT   |213  |\n",
            "|/Archives/edgar/data/0001242699/000143774911009194/0001437749-11-009194.txt      |GET   |162  |\n",
            "|/Archives/edgar/data/35315/000175272423067615/primary_doc.xml                    |POST  |201  |\n",
            "|/Archives/edgar/data/0000004281/000119312517062657/R101.htm                      |GET   |187  |\n",
            "|/Archives/edgar/data/0001787168/000120919122010338/0001209191-22-010338.txt      |POST  |217  |\n",
            "|/Archives/edgar/data/0000019957/000110465921115352/tm2127556d2_424b3.htm         |GET   |202  |\n",
            "+---------------------------------------------------------------------------------+------+-----+\n",
            "only showing top 20 rows\n",
            "\n"
          ]
        }
      ]
    },
    {
      "cell_type": "markdown",
      "source": [
        "# Clustering"
      ],
      "metadata": {
        "id": "7FtpysdnN_tO"
      }
    },
    {
      "cell_type": "markdown",
      "source": [
        "Data Preprocessing"
      ],
      "metadata": {
        "id": "11e18yokPAAY"
      }
    },
    {
      "cell_type": "code",
      "source": [
        "logs_df.show()"
      ],
      "metadata": {
        "colab": {
          "base_uri": "https://localhost:8080/"
        },
        "id": "cHvqinG_PDEB",
        "outputId": "4e138737-8628-4db4-c10a-704c48410a98"
      },
      "execution_count": 53,
      "outputs": [
        {
          "output_type": "stream",
          "name": "stdout",
          "text": [
            "+---------------+----+-----+---+----+------+------+--------------------+------------+-------------+-----+---------+----------+-----------+\n",
            "|     ip_address|year|month|day|hour|minute|method|            endpoint|http_version|response_code|bytes|month_num|      date|day_of_week|\n",
            "+---------------+----+-----+---+----+------+------+--------------------+------------+-------------+-----+---------+----------+-----------+\n",
            "|   75.77.74.150|2118|  Dec| 26|    |      |   GET|/Archives/edgar/d...|         1.0|          200| 5302|       12|2118-12-26|     Monday|\n",
            "|  176.120.174.1|2118|  Dec| 26|    |      |  POST|/Archives/edgar/d...|         1.0|          500|34727|       12|2118-12-26|     Monday|\n",
            "| 162.200.34.120|2118|  Dec| 26|    |      |  POST|/Archives/edgar/d...|         1.0|          403|25428|       12|2118-12-26|     Monday|\n",
            "| 133.224.84.239|2118|  Dec| 26|    |      |   GET|/Archives/edgar/d...|         1.0|          304|27248|       12|2118-12-26|     Monday|\n",
            "| 211.239.196.64|2118|  Dec| 26|    |      |   GET|/Archives/edgar/d...|         1.0|          200|32034|       12|2118-12-26|     Monday|\n",
            "| 152.154.66.105|2118|  Dec| 26|    |      |   GET|/Archives/edgar/d...|         1.0|          200|43782|       12|2118-12-26|     Monday|\n",
            "|  41.76.166.189|2118|  Dec| 26|    |      |   PUT|/Archives/edgar/d...|         1.0|          304|53533|       12|2118-12-26|     Monday|\n",
            "|  134.27.187.18|2118|  Dec| 26|    |      |  POST|/Archives/edgar/d...|         1.0|          404|15445|       12|2118-12-26|     Monday|\n",
            "|   152.77.55.45|2118|  Dec| 26|    |      |   PUT|/Archives/edgar/d...|         1.0|          200|44416|       12|2118-12-26|     Monday|\n",
            "|115.252.123.132|2118|  Dec| 26|    |      |  POST|/Archives/edgar/d...|         1.0|          500|11453|       12|2118-12-26|     Monday|\n",
            "|  155.58.151.29|2118|  Dec| 26|    |      |   GET|/Archives/edgar/d...|         1.0|          502| 7442|       12|2118-12-26|     Monday|\n",
            "|   13.79.113.61|2118|  Dec| 26|    |      |  POST|/Archives/edgar/d...|         1.0|          404|10734|       12|2118-12-26|     Monday|\n",
            "|  88.193.180.43|2118|  Dec| 26|    |      |  POST|/Archives/edgar/d...|         1.0|          304|52678|       12|2118-12-26|     Monday|\n",
            "| 179.250.21.134|2118|  Dec| 26|    |      |DELETE|/Archives/edgar/d...|         1.0|          500| 5462|       12|2118-12-26|     Monday|\n",
            "| 189.142.75.183|2118|  Dec| 26|    |      |   PUT|/Archives/edgar/d...|         1.0|          500|37548|       12|2118-12-26|     Monday|\n",
            "|  17.173.32.136|2118|  Dec| 26|    |      |   GET|/Archives/edgar/d...|         1.0|          404|53177|       12|2118-12-26|     Monday|\n",
            "|  40.243.18.254|2118|  Dec| 26|    |      |   PUT|/Archives/edgar/d...|         1.0|          500|23317|       12|2118-12-26|     Monday|\n",
            "|  28.163.76.134|2118|  Dec| 26|    |      |  POST|/Archives/edgar/d...|         1.0|          304|16386|       12|2118-12-26|     Monday|\n",
            "|    68.8.175.30|2118|  Dec| 26|    |      |   PUT|/Archives/edgar/d...|         1.0|          403|38299|       12|2118-12-26|     Monday|\n",
            "|   27.79.71.172|2118|  Dec| 26|    |      |DELETE|/Archives/edgar/d...|         1.0|          403|15051|       12|2118-12-26|     Monday|\n",
            "+---------------+----+-----+---+----+------+------+--------------------+------------+-------------+-----+---------+----------+-----------+\n",
            "only showing top 20 rows\n",
            "\n"
          ]
        }
      ]
    },
    {
      "cell_type": "markdown",
      "source": [
        "# Drop Null values"
      ],
      "metadata": {
        "id": "POjdhdX-VK9A"
      }
    },
    {
      "cell_type": "code",
      "source": [
        "logs_df = logs_df.na.drop()\n",
        "logs_df.show()"
      ],
      "metadata": {
        "id": "4_GcwJxMVJpE",
        "colab": {
          "base_uri": "https://localhost:8080/"
        },
        "outputId": "281f7dd2-9e61-42e4-b64f-48113021978e"
      },
      "execution_count": 54,
      "outputs": [
        {
          "output_type": "stream",
          "name": "stdout",
          "text": [
            "+---------------+----+-----+---+----+------+------+--------------------+------------+-------------+-----+---------+----------+-----------+\n",
            "|     ip_address|year|month|day|hour|minute|method|            endpoint|http_version|response_code|bytes|month_num|      date|day_of_week|\n",
            "+---------------+----+-----+---+----+------+------+--------------------+------------+-------------+-----+---------+----------+-----------+\n",
            "|   75.77.74.150|2118|  Dec| 26|    |      |   GET|/Archives/edgar/d...|         1.0|          200| 5302|       12|2118-12-26|     Monday|\n",
            "|  176.120.174.1|2118|  Dec| 26|    |      |  POST|/Archives/edgar/d...|         1.0|          500|34727|       12|2118-12-26|     Monday|\n",
            "| 162.200.34.120|2118|  Dec| 26|    |      |  POST|/Archives/edgar/d...|         1.0|          403|25428|       12|2118-12-26|     Monday|\n",
            "| 133.224.84.239|2118|  Dec| 26|    |      |   GET|/Archives/edgar/d...|         1.0|          304|27248|       12|2118-12-26|     Monday|\n",
            "| 211.239.196.64|2118|  Dec| 26|    |      |   GET|/Archives/edgar/d...|         1.0|          200|32034|       12|2118-12-26|     Monday|\n",
            "| 152.154.66.105|2118|  Dec| 26|    |      |   GET|/Archives/edgar/d...|         1.0|          200|43782|       12|2118-12-26|     Monday|\n",
            "|  41.76.166.189|2118|  Dec| 26|    |      |   PUT|/Archives/edgar/d...|         1.0|          304|53533|       12|2118-12-26|     Monday|\n",
            "|  134.27.187.18|2118|  Dec| 26|    |      |  POST|/Archives/edgar/d...|         1.0|          404|15445|       12|2118-12-26|     Monday|\n",
            "|   152.77.55.45|2118|  Dec| 26|    |      |   PUT|/Archives/edgar/d...|         1.0|          200|44416|       12|2118-12-26|     Monday|\n",
            "|115.252.123.132|2118|  Dec| 26|    |      |  POST|/Archives/edgar/d...|         1.0|          500|11453|       12|2118-12-26|     Monday|\n",
            "|  155.58.151.29|2118|  Dec| 26|    |      |   GET|/Archives/edgar/d...|         1.0|          502| 7442|       12|2118-12-26|     Monday|\n",
            "|   13.79.113.61|2118|  Dec| 26|    |      |  POST|/Archives/edgar/d...|         1.0|          404|10734|       12|2118-12-26|     Monday|\n",
            "|  88.193.180.43|2118|  Dec| 26|    |      |  POST|/Archives/edgar/d...|         1.0|          304|52678|       12|2118-12-26|     Monday|\n",
            "| 179.250.21.134|2118|  Dec| 26|    |      |DELETE|/Archives/edgar/d...|         1.0|          500| 5462|       12|2118-12-26|     Monday|\n",
            "| 189.142.75.183|2118|  Dec| 26|    |      |   PUT|/Archives/edgar/d...|         1.0|          500|37548|       12|2118-12-26|     Monday|\n",
            "|  17.173.32.136|2118|  Dec| 26|    |      |   GET|/Archives/edgar/d...|         1.0|          404|53177|       12|2118-12-26|     Monday|\n",
            "|  40.243.18.254|2118|  Dec| 26|    |      |   PUT|/Archives/edgar/d...|         1.0|          500|23317|       12|2118-12-26|     Monday|\n",
            "|  28.163.76.134|2118|  Dec| 26|    |      |  POST|/Archives/edgar/d...|         1.0|          304|16386|       12|2118-12-26|     Monday|\n",
            "|    68.8.175.30|2118|  Dec| 26|    |      |   PUT|/Archives/edgar/d...|         1.0|          403|38299|       12|2118-12-26|     Monday|\n",
            "|   27.79.71.172|2118|  Dec| 26|    |      |DELETE|/Archives/edgar/d...|         1.0|          403|15051|       12|2118-12-26|     Monday|\n",
            "+---------------+----+-----+---+----+------+------+--------------------+------------+-------------+-----+---------+----------+-----------+\n",
            "only showing top 20 rows\n",
            "\n"
          ]
        }
      ]
    },
    {
      "cell_type": "markdown",
      "source": [
        "# As we can see that we have only one Day, Month and Year throughout the logs so drop them"
      ],
      "metadata": {
        "id": "4UM475rSQJ2B"
      }
    },
    {
      "cell_type": "code",
      "source": [
        "logs_df = logs_df.drop('month')\n",
        "logs_df = logs_df.drop('day')\n",
        "logs_df = logs_df.drop('year')\n",
        "\n",
        "logs_df.show()"
      ],
      "metadata": {
        "colab": {
          "base_uri": "https://localhost:8080/"
        },
        "id": "YrTHHo9kQHZK",
        "outputId": "4c897df0-4065-4c28-eed4-cbd2d12ad925"
      },
      "execution_count": 55,
      "outputs": [
        {
          "output_type": "stream",
          "name": "stdout",
          "text": [
            "+---------------+----+------+------+--------------------+------------+-------------+-----+---------+----------+-----------+\n",
            "|     ip_address|hour|minute|method|            endpoint|http_version|response_code|bytes|month_num|      date|day_of_week|\n",
            "+---------------+----+------+------+--------------------+------------+-------------+-----+---------+----------+-----------+\n",
            "|   75.77.74.150|    |      |   GET|/Archives/edgar/d...|         1.0|          200| 5302|       12|2118-12-26|     Monday|\n",
            "|  176.120.174.1|    |      |  POST|/Archives/edgar/d...|         1.0|          500|34727|       12|2118-12-26|     Monday|\n",
            "| 162.200.34.120|    |      |  POST|/Archives/edgar/d...|         1.0|          403|25428|       12|2118-12-26|     Monday|\n",
            "| 133.224.84.239|    |      |   GET|/Archives/edgar/d...|         1.0|          304|27248|       12|2118-12-26|     Monday|\n",
            "| 211.239.196.64|    |      |   GET|/Archives/edgar/d...|         1.0|          200|32034|       12|2118-12-26|     Monday|\n",
            "| 152.154.66.105|    |      |   GET|/Archives/edgar/d...|         1.0|          200|43782|       12|2118-12-26|     Monday|\n",
            "|  41.76.166.189|    |      |   PUT|/Archives/edgar/d...|         1.0|          304|53533|       12|2118-12-26|     Monday|\n",
            "|  134.27.187.18|    |      |  POST|/Archives/edgar/d...|         1.0|          404|15445|       12|2118-12-26|     Monday|\n",
            "|   152.77.55.45|    |      |   PUT|/Archives/edgar/d...|         1.0|          200|44416|       12|2118-12-26|     Monday|\n",
            "|115.252.123.132|    |      |  POST|/Archives/edgar/d...|         1.0|          500|11453|       12|2118-12-26|     Monday|\n",
            "|  155.58.151.29|    |      |   GET|/Archives/edgar/d...|         1.0|          502| 7442|       12|2118-12-26|     Monday|\n",
            "|   13.79.113.61|    |      |  POST|/Archives/edgar/d...|         1.0|          404|10734|       12|2118-12-26|     Monday|\n",
            "|  88.193.180.43|    |      |  POST|/Archives/edgar/d...|         1.0|          304|52678|       12|2118-12-26|     Monday|\n",
            "| 179.250.21.134|    |      |DELETE|/Archives/edgar/d...|         1.0|          500| 5462|       12|2118-12-26|     Monday|\n",
            "| 189.142.75.183|    |      |   PUT|/Archives/edgar/d...|         1.0|          500|37548|       12|2118-12-26|     Monday|\n",
            "|  17.173.32.136|    |      |   GET|/Archives/edgar/d...|         1.0|          404|53177|       12|2118-12-26|     Monday|\n",
            "|  40.243.18.254|    |      |   PUT|/Archives/edgar/d...|         1.0|          500|23317|       12|2118-12-26|     Monday|\n",
            "|  28.163.76.134|    |      |  POST|/Archives/edgar/d...|         1.0|          304|16386|       12|2118-12-26|     Monday|\n",
            "|    68.8.175.30|    |      |   PUT|/Archives/edgar/d...|         1.0|          403|38299|       12|2118-12-26|     Monday|\n",
            "|   27.79.71.172|    |      |DELETE|/Archives/edgar/d...|         1.0|          403|15051|       12|2118-12-26|     Monday|\n",
            "+---------------+----+------+------+--------------------+------------+-------------+-----+---------+----------+-----------+\n",
            "only showing top 20 rows\n",
            "\n"
          ]
        }
      ]
    },
    {
      "cell_type": "markdown",
      "source": [
        "# We dont have hour and minute data so drop them"
      ],
      "metadata": {
        "id": "rE5C6Dv9Q1nR"
      }
    },
    {
      "cell_type": "code",
      "source": [
        "logs_df = logs_df.drop('hour')\n",
        "logs_df = logs_df.drop('minute')\n",
        "\n",
        "logs_df.show()"
      ],
      "metadata": {
        "colab": {
          "base_uri": "https://localhost:8080/"
        },
        "id": "-BN2kl3WQ6ff",
        "outputId": "4e7a7d1b-1ece-4c2d-9bea-34973b949e80"
      },
      "execution_count": 56,
      "outputs": [
        {
          "output_type": "stream",
          "name": "stdout",
          "text": [
            "+---------------+------+--------------------+------------+-------------+-----+---------+----------+-----------+\n",
            "|     ip_address|method|            endpoint|http_version|response_code|bytes|month_num|      date|day_of_week|\n",
            "+---------------+------+--------------------+------------+-------------+-----+---------+----------+-----------+\n",
            "|   75.77.74.150|   GET|/Archives/edgar/d...|         1.0|          200| 5302|       12|2118-12-26|     Monday|\n",
            "|  176.120.174.1|  POST|/Archives/edgar/d...|         1.0|          500|34727|       12|2118-12-26|     Monday|\n",
            "| 162.200.34.120|  POST|/Archives/edgar/d...|         1.0|          403|25428|       12|2118-12-26|     Monday|\n",
            "| 133.224.84.239|   GET|/Archives/edgar/d...|         1.0|          304|27248|       12|2118-12-26|     Monday|\n",
            "| 211.239.196.64|   GET|/Archives/edgar/d...|         1.0|          200|32034|       12|2118-12-26|     Monday|\n",
            "| 152.154.66.105|   GET|/Archives/edgar/d...|         1.0|          200|43782|       12|2118-12-26|     Monday|\n",
            "|  41.76.166.189|   PUT|/Archives/edgar/d...|         1.0|          304|53533|       12|2118-12-26|     Monday|\n",
            "|  134.27.187.18|  POST|/Archives/edgar/d...|         1.0|          404|15445|       12|2118-12-26|     Monday|\n",
            "|   152.77.55.45|   PUT|/Archives/edgar/d...|         1.0|          200|44416|       12|2118-12-26|     Monday|\n",
            "|115.252.123.132|  POST|/Archives/edgar/d...|         1.0|          500|11453|       12|2118-12-26|     Monday|\n",
            "|  155.58.151.29|   GET|/Archives/edgar/d...|         1.0|          502| 7442|       12|2118-12-26|     Monday|\n",
            "|   13.79.113.61|  POST|/Archives/edgar/d...|         1.0|          404|10734|       12|2118-12-26|     Monday|\n",
            "|  88.193.180.43|  POST|/Archives/edgar/d...|         1.0|          304|52678|       12|2118-12-26|     Monday|\n",
            "| 179.250.21.134|DELETE|/Archives/edgar/d...|         1.0|          500| 5462|       12|2118-12-26|     Monday|\n",
            "| 189.142.75.183|   PUT|/Archives/edgar/d...|         1.0|          500|37548|       12|2118-12-26|     Monday|\n",
            "|  17.173.32.136|   GET|/Archives/edgar/d...|         1.0|          404|53177|       12|2118-12-26|     Monday|\n",
            "|  40.243.18.254|   PUT|/Archives/edgar/d...|         1.0|          500|23317|       12|2118-12-26|     Monday|\n",
            "|  28.163.76.134|  POST|/Archives/edgar/d...|         1.0|          304|16386|       12|2118-12-26|     Monday|\n",
            "|    68.8.175.30|   PUT|/Archives/edgar/d...|         1.0|          403|38299|       12|2118-12-26|     Monday|\n",
            "|   27.79.71.172|DELETE|/Archives/edgar/d...|         1.0|          403|15051|       12|2118-12-26|     Monday|\n",
            "+---------------+------+--------------------+------------+-------------+-----+---------+----------+-----------+\n",
            "only showing top 20 rows\n",
            "\n"
          ]
        }
      ]
    },
    {
      "cell_type": "code",
      "source": [
        "logs_df.select('http_version').distinct().collect()"
      ],
      "metadata": {
        "id": "1hzBrX5_RH0-"
      },
      "execution_count": null,
      "outputs": []
    },
    {
      "cell_type": "markdown",
      "source": [
        "# Since there is only one HTTP version 1.0 drop the column"
      ],
      "metadata": {
        "id": "ZIiKClgcRJiV"
      }
    },
    {
      "cell_type": "code",
      "source": [
        "logs_df = logs_df.drop('http_version')\n",
        "\n",
        "logs_df.show()"
      ],
      "metadata": {
        "colab": {
          "base_uri": "https://localhost:8080/"
        },
        "id": "GuOFbK16RNAn",
        "outputId": "823d03c4-6e9c-4aea-dc71-2647e2c336d8"
      },
      "execution_count": 57,
      "outputs": [
        {
          "output_type": "stream",
          "name": "stdout",
          "text": [
            "+---------------+------+--------------------+-------------+-----+---------+----------+-----------+\n",
            "|     ip_address|method|            endpoint|response_code|bytes|month_num|      date|day_of_week|\n",
            "+---------------+------+--------------------+-------------+-----+---------+----------+-----------+\n",
            "|   75.77.74.150|   GET|/Archives/edgar/d...|          200| 5302|       12|2118-12-26|     Monday|\n",
            "|  176.120.174.1|  POST|/Archives/edgar/d...|          500|34727|       12|2118-12-26|     Monday|\n",
            "| 162.200.34.120|  POST|/Archives/edgar/d...|          403|25428|       12|2118-12-26|     Monday|\n",
            "| 133.224.84.239|   GET|/Archives/edgar/d...|          304|27248|       12|2118-12-26|     Monday|\n",
            "| 211.239.196.64|   GET|/Archives/edgar/d...|          200|32034|       12|2118-12-26|     Monday|\n",
            "| 152.154.66.105|   GET|/Archives/edgar/d...|          200|43782|       12|2118-12-26|     Monday|\n",
            "|  41.76.166.189|   PUT|/Archives/edgar/d...|          304|53533|       12|2118-12-26|     Monday|\n",
            "|  134.27.187.18|  POST|/Archives/edgar/d...|          404|15445|       12|2118-12-26|     Monday|\n",
            "|   152.77.55.45|   PUT|/Archives/edgar/d...|          200|44416|       12|2118-12-26|     Monday|\n",
            "|115.252.123.132|  POST|/Archives/edgar/d...|          500|11453|       12|2118-12-26|     Monday|\n",
            "|  155.58.151.29|   GET|/Archives/edgar/d...|          502| 7442|       12|2118-12-26|     Monday|\n",
            "|   13.79.113.61|  POST|/Archives/edgar/d...|          404|10734|       12|2118-12-26|     Monday|\n",
            "|  88.193.180.43|  POST|/Archives/edgar/d...|          304|52678|       12|2118-12-26|     Monday|\n",
            "| 179.250.21.134|DELETE|/Archives/edgar/d...|          500| 5462|       12|2118-12-26|     Monday|\n",
            "| 189.142.75.183|   PUT|/Archives/edgar/d...|          500|37548|       12|2118-12-26|     Monday|\n",
            "|  17.173.32.136|   GET|/Archives/edgar/d...|          404|53177|       12|2118-12-26|     Monday|\n",
            "|  40.243.18.254|   PUT|/Archives/edgar/d...|          500|23317|       12|2118-12-26|     Monday|\n",
            "|  28.163.76.134|  POST|/Archives/edgar/d...|          304|16386|       12|2118-12-26|     Monday|\n",
            "|    68.8.175.30|   PUT|/Archives/edgar/d...|          403|38299|       12|2118-12-26|     Monday|\n",
            "|   27.79.71.172|DELETE|/Archives/edgar/d...|          403|15051|       12|2118-12-26|     Monday|\n",
            "+---------------+------+--------------------+-------------+-----+---------+----------+-----------+\n",
            "only showing top 20 rows\n",
            "\n"
          ]
        }
      ]
    },
    {
      "cell_type": "code",
      "source": [
        "logs_df.select('month_num').distinct().collect()\n",
        "logs_df.select('date').distinct().collect()\n",
        "logs_df.select('day_of_week').distinct().collect()"
      ],
      "metadata": {
        "id": "sNCNgTPGRuUe",
        "colab": {
          "base_uri": "https://localhost:8080/"
        },
        "outputId": "588a639a-181a-4139-9a43-d1f96d99e9ad"
      },
      "execution_count": 59,
      "outputs": [
        {
          "output_type": "execute_result",
          "data": {
            "text/plain": [
              "[Row(day_of_week='Monday')]"
            ]
          },
          "metadata": {},
          "execution_count": 59
        }
      ]
    },
    {
      "cell_type": "markdown",
      "source": [
        "# No need of month_num, date and day_of_week columns as all have same value, so drop them"
      ],
      "metadata": {
        "id": "F8GjsJq5RVjH"
      }
    },
    {
      "cell_type": "code",
      "source": [
        "logs_df = logs_df.drop('month_num')\n",
        "logs_df = logs_df.drop('date')\n",
        "logs_df = logs_df.drop('day_of_week')\n",
        "\n",
        "logs_df.show()"
      ],
      "metadata": {
        "colab": {
          "base_uri": "https://localhost:8080/"
        },
        "id": "_u_7TxdKRd5B",
        "outputId": "379d7600-e5ed-453f-e956-c63b9d1e98d5"
      },
      "execution_count": 60,
      "outputs": [
        {
          "output_type": "stream",
          "name": "stdout",
          "text": [
            "+---------------+------+--------------------+-------------+-----+\n",
            "|     ip_address|method|            endpoint|response_code|bytes|\n",
            "+---------------+------+--------------------+-------------+-----+\n",
            "|   75.77.74.150|   GET|/Archives/edgar/d...|          200| 5302|\n",
            "|  176.120.174.1|  POST|/Archives/edgar/d...|          500|34727|\n",
            "| 162.200.34.120|  POST|/Archives/edgar/d...|          403|25428|\n",
            "| 133.224.84.239|   GET|/Archives/edgar/d...|          304|27248|\n",
            "| 211.239.196.64|   GET|/Archives/edgar/d...|          200|32034|\n",
            "| 152.154.66.105|   GET|/Archives/edgar/d...|          200|43782|\n",
            "|  41.76.166.189|   PUT|/Archives/edgar/d...|          304|53533|\n",
            "|  134.27.187.18|  POST|/Archives/edgar/d...|          404|15445|\n",
            "|   152.77.55.45|   PUT|/Archives/edgar/d...|          200|44416|\n",
            "|115.252.123.132|  POST|/Archives/edgar/d...|          500|11453|\n",
            "|  155.58.151.29|   GET|/Archives/edgar/d...|          502| 7442|\n",
            "|   13.79.113.61|  POST|/Archives/edgar/d...|          404|10734|\n",
            "|  88.193.180.43|  POST|/Archives/edgar/d...|          304|52678|\n",
            "| 179.250.21.134|DELETE|/Archives/edgar/d...|          500| 5462|\n",
            "| 189.142.75.183|   PUT|/Archives/edgar/d...|          500|37548|\n",
            "|  17.173.32.136|   GET|/Archives/edgar/d...|          404|53177|\n",
            "|  40.243.18.254|   PUT|/Archives/edgar/d...|          500|23317|\n",
            "|  28.163.76.134|  POST|/Archives/edgar/d...|          304|16386|\n",
            "|    68.8.175.30|   PUT|/Archives/edgar/d...|          403|38299|\n",
            "|   27.79.71.172|DELETE|/Archives/edgar/d...|          403|15051|\n",
            "+---------------+------+--------------------+-------------+-----+\n",
            "only showing top 20 rows\n",
            "\n"
          ]
        }
      ]
    },
    {
      "cell_type": "markdown",
      "source": [
        "# Apply StringIndexer to Transform the columns to meaningful values"
      ],
      "metadata": {
        "id": "0cpwyxtDSqk4"
      }
    },
    {
      "cell_type": "code",
      "source": [
        "from pyspark.ml import Pipeline\n",
        "from pyspark.ml.feature import StringIndexer\n",
        "\n",
        "# Apply StringIndexer on ip, method, endpoint columns to convert them from string to number\n",
        "indexers = [StringIndexer(inputCol=column, outputCol=column+\"_index\").fit(logs_df) for column in list(set(logs_df.columns)-set(['bytes', 'response_code'])) ]\n",
        "\n",
        "pipeline = Pipeline(stages=indexers)\n",
        "transformed_df = pipeline.fit(logs_df).transform(logs_df)\n",
        "\n",
        "transformed_df.show()"
      ],
      "metadata": {
        "colab": {
          "base_uri": "https://localhost:8080/"
        },
        "id": "BFgm_gSDSp0s",
        "outputId": "385234f4-86bd-4af2-dbe7-1f96f5eca2bc"
      },
      "execution_count": 61,
      "outputs": [
        {
          "output_type": "stream",
          "name": "stdout",
          "text": [
            "+---------------+------+--------------------+-------------+-----+------------+--------------+----------------+\n",
            "|     ip_address|method|            endpoint|response_code|bytes|method_index|endpoint_index|ip_address_index|\n",
            "+---------------+------+--------------------+-------------+-----+------------+--------------+----------------+\n",
            "|   75.77.74.150|   GET|/Archives/edgar/d...|          200| 5302|         2.0|          58.0|        106035.0|\n",
            "|  176.120.174.1|  POST|/Archives/edgar/d...|          500|34727|         1.0|          78.0|         45226.0|\n",
            "| 162.200.34.120|  POST|/Archives/edgar/d...|          403|25428|         1.0|          36.0|         37252.0|\n",
            "| 133.224.84.239|   GET|/Archives/edgar/d...|          304|27248|         2.0|          95.0|         20067.0|\n",
            "| 211.239.196.64|   GET|/Archives/edgar/d...|          200|32034|         2.0|          80.0|         67278.0|\n",
            "| 152.154.66.105|   GET|/Archives/edgar/d...|          200|43782|         2.0|          33.0|         31196.0|\n",
            "|  41.76.166.189|   PUT|/Archives/edgar/d...|          304|53533|         3.0|         113.0|         85888.0|\n",
            "|  134.27.187.18|  POST|/Archives/edgar/d...|          404|15445|         1.0|          97.0|         20656.0|\n",
            "|   152.77.55.45|   PUT|/Archives/edgar/d...|          200|44416|         3.0|         127.0|         31567.0|\n",
            "|115.252.123.132|  POST|/Archives/edgar/d...|          500|11453|         1.0|          96.0|          9896.0|\n",
            "|  155.58.151.29|   GET|/Archives/edgar/d...|          502| 7442|         2.0|         142.0|         33151.0|\n",
            "|   13.79.113.61|  POST|/Archives/edgar/d...|          404|10734|         1.0|          99.0|         18086.0|\n",
            "|  88.193.180.43|  POST|/Archives/edgar/d...|          304|52678|         1.0|          71.0|        113229.0|\n",
            "| 179.250.21.134|DELETE|/Archives/edgar/d...|          500| 5462|         0.0|          17.0|         47157.0|\n",
            "| 189.142.75.183|   PUT|/Archives/edgar/d...|          500|37548|         3.0|          39.0|         52896.0|\n",
            "|  17.173.32.136|   GET|/Archives/edgar/d...|          404|53177|         2.0|          27.0|         41570.0|\n",
            "|  40.243.18.254|   PUT|/Archives/edgar/d...|          500|23317|         3.0|          57.0|         85233.0|\n",
            "|  28.163.76.134|  POST|/Archives/edgar/d...|          304|16386|         1.0|          94.0|         77425.0|\n",
            "|    68.8.175.30|   PUT|/Archives/edgar/d...|          403|38299|         3.0|          50.0|        101755.0|\n",
            "|   27.79.71.172|DELETE|/Archives/edgar/d...|          403|15051|         0.0|           5.0|         77223.0|\n",
            "+---------------+------+--------------------+-------------+-----+------------+--------------+----------------+\n",
            "only showing top 20 rows\n",
            "\n"
          ]
        }
      ]
    },
    {
      "cell_type": "markdown",
      "source": [
        "# All desired columns are numerical, convert them into features using a Vector Assembler"
      ],
      "metadata": {
        "id": "tuM2OD4_Vwwv"
      }
    },
    {
      "cell_type": "code",
      "source": [
        "from pyspark.ml.feature import VectorAssembler\n",
        "from pyspark.sql.types import DoubleType\n",
        "\n",
        "# Type cast 'response_code' and 'bytes' to double as other columns are of same type\n",
        "transformed_df = transformed_df.withColumn('response_code', col('response_code').cast(DoubleType()))\n",
        "transformed_df = transformed_df.withColumn('bytes', col('bytes').cast(DoubleType()))\n",
        "\n",
        "assemble = VectorAssembler(inputCols=['response_code', 'bytes', 'ip_address_index', 'endpoint_index', 'method_index'], outputCol='features')\n",
        "assembled_df = assemble.transform(transformed_df)\n",
        "assembled_df.show()"
      ],
      "metadata": {
        "colab": {
          "base_uri": "https://localhost:8080/"
        },
        "id": "0SF0EWuOT5XN",
        "outputId": "a22ce3fd-f3f3-494a-da1e-5bc404b6225d"
      },
      "execution_count": 62,
      "outputs": [
        {
          "output_type": "stream",
          "name": "stdout",
          "text": [
            "+---------------+------+--------------------+-------------+-------+------------+--------------+----------------+--------------------+\n",
            "|     ip_address|method|            endpoint|response_code|  bytes|method_index|endpoint_index|ip_address_index|            features|\n",
            "+---------------+------+--------------------+-------------+-------+------------+--------------+----------------+--------------------+\n",
            "|   75.77.74.150|   GET|/Archives/edgar/d...|        200.0| 5302.0|         2.0|          58.0|        106035.0|[200.0,5302.0,106...|\n",
            "|  176.120.174.1|  POST|/Archives/edgar/d...|        500.0|34727.0|         1.0|          78.0|         45226.0|[500.0,34727.0,45...|\n",
            "| 162.200.34.120|  POST|/Archives/edgar/d...|        403.0|25428.0|         1.0|          36.0|         37252.0|[403.0,25428.0,37...|\n",
            "| 133.224.84.239|   GET|/Archives/edgar/d...|        304.0|27248.0|         2.0|          95.0|         20067.0|[304.0,27248.0,20...|\n",
            "| 211.239.196.64|   GET|/Archives/edgar/d...|        200.0|32034.0|         2.0|          80.0|         67278.0|[200.0,32034.0,67...|\n",
            "| 152.154.66.105|   GET|/Archives/edgar/d...|        200.0|43782.0|         2.0|          33.0|         31196.0|[200.0,43782.0,31...|\n",
            "|  41.76.166.189|   PUT|/Archives/edgar/d...|        304.0|53533.0|         3.0|         113.0|         85888.0|[304.0,53533.0,85...|\n",
            "|  134.27.187.18|  POST|/Archives/edgar/d...|        404.0|15445.0|         1.0|          97.0|         20656.0|[404.0,15445.0,20...|\n",
            "|   152.77.55.45|   PUT|/Archives/edgar/d...|        200.0|44416.0|         3.0|         127.0|         31567.0|[200.0,44416.0,31...|\n",
            "|115.252.123.132|  POST|/Archives/edgar/d...|        500.0|11453.0|         1.0|          96.0|          9896.0|[500.0,11453.0,98...|\n",
            "|  155.58.151.29|   GET|/Archives/edgar/d...|        502.0| 7442.0|         2.0|         142.0|         33151.0|[502.0,7442.0,331...|\n",
            "|   13.79.113.61|  POST|/Archives/edgar/d...|        404.0|10734.0|         1.0|          99.0|         18086.0|[404.0,10734.0,18...|\n",
            "|  88.193.180.43|  POST|/Archives/edgar/d...|        304.0|52678.0|         1.0|          71.0|        113229.0|[304.0,52678.0,11...|\n",
            "| 179.250.21.134|DELETE|/Archives/edgar/d...|        500.0| 5462.0|         0.0|          17.0|         47157.0|[500.0,5462.0,471...|\n",
            "| 189.142.75.183|   PUT|/Archives/edgar/d...|        500.0|37548.0|         3.0|          39.0|         52896.0|[500.0,37548.0,52...|\n",
            "|  17.173.32.136|   GET|/Archives/edgar/d...|        404.0|53177.0|         2.0|          27.0|         41570.0|[404.0,53177.0,41...|\n",
            "|  40.243.18.254|   PUT|/Archives/edgar/d...|        500.0|23317.0|         3.0|          57.0|         85233.0|[500.0,23317.0,85...|\n",
            "|  28.163.76.134|  POST|/Archives/edgar/d...|        304.0|16386.0|         1.0|          94.0|         77425.0|[304.0,16386.0,77...|\n",
            "|    68.8.175.30|   PUT|/Archives/edgar/d...|        403.0|38299.0|         3.0|          50.0|        101755.0|[403.0,38299.0,10...|\n",
            "|   27.79.71.172|DELETE|/Archives/edgar/d...|        403.0|15051.0|         0.0|           5.0|         77223.0|[403.0,15051.0,77...|\n",
            "+---------------+------+--------------------+-------------+-------+------------+--------------+----------------+--------------------+\n",
            "only showing top 20 rows\n",
            "\n"
          ]
        }
      ]
    },
    {
      "cell_type": "markdown",
      "source": [
        "# Now that all columns are transformed into a single feature vector we need to standardize the data to bring them to a comparable scale"
      ],
      "metadata": {
        "id": "kZt5trBhY222"
      }
    },
    {
      "cell_type": "code",
      "source": [
        "from pyspark.ml.feature import StandardScaler\n",
        "\n",
        "scale = StandardScaler(inputCol='features', outputCol='standardized')\n",
        "data_scale = scale.fit(assembled_df)\n",
        "data_scale_output = data_scale.transform(assembled_df)\n",
        "data_scale_output.show()"
      ],
      "metadata": {
        "colab": {
          "base_uri": "https://localhost:8080/"
        },
        "id": "P05jdDfLYPHn",
        "outputId": "dcfc8a51-9315-4314-ca54-74a4e8eb5752"
      },
      "execution_count": 63,
      "outputs": [
        {
          "output_type": "stream",
          "name": "stdout",
          "text": [
            "+---------------+------+--------------------+-------------+-------+------------+--------------+----------------+--------------------+--------------------+\n",
            "|     ip_address|method|            endpoint|response_code|  bytes|method_index|endpoint_index|ip_address_index|            features|        standardized|\n",
            "+---------------+------+--------------------+-------------+-------+------------+--------------+----------------+--------------------+--------------------+\n",
            "|   75.77.74.150|   GET|/Archives/edgar/d...|        200.0| 5302.0|         2.0|          58.0|        106035.0|[200.0,5302.0,106...|[1.94033947218411...|\n",
            "|  176.120.174.1|  POST|/Archives/edgar/d...|        500.0|34727.0|         1.0|          78.0|         45226.0|[500.0,34727.0,45...|[4.85084868046027...|\n",
            "| 162.200.34.120|  POST|/Archives/edgar/d...|        403.0|25428.0|         1.0|          36.0|         37252.0|[403.0,25428.0,37...|[3.90978403645098...|\n",
            "| 133.224.84.239|   GET|/Archives/edgar/d...|        304.0|27248.0|         2.0|          95.0|         20067.0|[304.0,27248.0,20...|[2.94931599771984...|\n",
            "| 211.239.196.64|   GET|/Archives/edgar/d...|        200.0|32034.0|         2.0|          80.0|         67278.0|[200.0,32034.0,67...|[1.94033947218411...|\n",
            "| 152.154.66.105|   GET|/Archives/edgar/d...|        200.0|43782.0|         2.0|          33.0|         31196.0|[200.0,43782.0,31...|[1.94033947218411...|\n",
            "|  41.76.166.189|   PUT|/Archives/edgar/d...|        304.0|53533.0|         3.0|         113.0|         85888.0|[304.0,53533.0,85...|[2.94931599771984...|\n",
            "|  134.27.187.18|  POST|/Archives/edgar/d...|        404.0|15445.0|         1.0|          97.0|         20656.0|[404.0,15445.0,20...|[3.91948573381190...|\n",
            "|   152.77.55.45|   PUT|/Archives/edgar/d...|        200.0|44416.0|         3.0|         127.0|         31567.0|[200.0,44416.0,31...|[1.94033947218411...|\n",
            "|115.252.123.132|  POST|/Archives/edgar/d...|        500.0|11453.0|         1.0|          96.0|          9896.0|[500.0,11453.0,98...|[4.85084868046027...|\n",
            "|  155.58.151.29|   GET|/Archives/edgar/d...|        502.0| 7442.0|         2.0|         142.0|         33151.0|[502.0,7442.0,331...|[4.87025207518211...|\n",
            "|   13.79.113.61|  POST|/Archives/edgar/d...|        404.0|10734.0|         1.0|          99.0|         18086.0|[404.0,10734.0,18...|[3.91948573381190...|\n",
            "|  88.193.180.43|  POST|/Archives/edgar/d...|        304.0|52678.0|         1.0|          71.0|        113229.0|[304.0,52678.0,11...|[2.94931599771984...|\n",
            "| 179.250.21.134|DELETE|/Archives/edgar/d...|        500.0| 5462.0|         0.0|          17.0|         47157.0|[500.0,5462.0,471...|[4.85084868046027...|\n",
            "| 189.142.75.183|   PUT|/Archives/edgar/d...|        500.0|37548.0|         3.0|          39.0|         52896.0|[500.0,37548.0,52...|[4.85084868046027...|\n",
            "|  17.173.32.136|   GET|/Archives/edgar/d...|        404.0|53177.0|         2.0|          27.0|         41570.0|[404.0,53177.0,41...|[3.91948573381190...|\n",
            "|  40.243.18.254|   PUT|/Archives/edgar/d...|        500.0|23317.0|         3.0|          57.0|         85233.0|[500.0,23317.0,85...|[4.85084868046027...|\n",
            "|  28.163.76.134|  POST|/Archives/edgar/d...|        304.0|16386.0|         1.0|          94.0|         77425.0|[304.0,16386.0,77...|[2.94931599771984...|\n",
            "|    68.8.175.30|   PUT|/Archives/edgar/d...|        403.0|38299.0|         3.0|          50.0|        101755.0|[403.0,38299.0,10...|[3.90978403645098...|\n",
            "|   27.79.71.172|DELETE|/Archives/edgar/d...|        403.0|15051.0|         0.0|           5.0|         77223.0|[403.0,15051.0,77...|[3.90978403645098...|\n",
            "+---------------+------+--------------------+-------------+-------+------------+--------------+----------------+--------------------+--------------------+\n",
            "only showing top 20 rows\n",
            "\n"
          ]
        }
      ]
    },
    {
      "cell_type": "code",
      "source": [
        "from pyspark.ml.clustering import KMeans\n",
        "from pyspark.ml.evaluation import ClusteringEvaluator\n",
        "\n",
        "silhouette_score=[]\n",
        "distortion = []\n",
        "evaluator = ClusteringEvaluator(predictionCol='prediction', featuresCol='standardized', \\\n",
        "                                metricName='silhouette', distanceMeasure='squaredEuclidean')\n",
        "for i in range(2,10):\n",
        "    KMeans_algo = KMeans(featuresCol='standardized', k=i)\n",
        "    KMeans_fit = KMeans_algo.fit(data_scale_output)\n",
        "    output_1 = KMeans_fit.transform(data_scale_output)\n",
        "\n",
        "    distortion.append(KMeans_fit.summary.trainingCost)\n",
        "\n",
        "    score=evaluator.evaluate(output_1)\n",
        "    \n",
        "    silhouette_score.append(score)\n",
        "    \n",
        "    print(\"Silhouette Score:\", score)"
      ],
      "metadata": {
        "colab": {
          "base_uri": "https://localhost:8080/"
        },
        "id": "afSWisg0lYFS",
        "outputId": "796998c2-b854-4f83-dd54-8d8d0404cee1"
      },
      "execution_count": 64,
      "outputs": [
        {
          "output_type": "stream",
          "name": "stdout",
          "text": [
            "Silhouette Score: 0.2495137083331556\n",
            "Silhouette Score: 0.2327364493127622\n",
            "Silhouette Score: 0.2438655083028723\n",
            "Silhouette Score: 0.2482502024076914\n",
            "Silhouette Score: 0.2542352160099689\n",
            "Silhouette Score: 0.2543006105946551\n",
            "Silhouette Score: 0.2579115680285268\n",
            "Silhouette Score: 0.2663829109542886\n"
          ]
        }
      ]
    },
    {
      "cell_type": "markdown",
      "source": [
        "# Visualizing the silhouette scores in a plot"
      ],
      "metadata": {
        "id": "X55fMhqsmBqs"
      }
    },
    {
      "cell_type": "code",
      "source": [
        "import matplotlib.pyplot as plt\n",
        "\n",
        "fig, ax = plt.subplots(1, 1, figsize =(8,6))\n",
        "ax.plot(range(2,10), distortion)\n",
        "ax.set_xlabel('k')\n",
        "ax.set_ylabel('cost')"
      ],
      "metadata": {
        "colab": {
          "base_uri": "https://localhost:8080/",
          "height": 559
        },
        "id": "KtQ-Goi7lhag",
        "outputId": "ba879675-83fb-4635-ad92-28644a01ff0c"
      },
      "execution_count": 82,
      "outputs": [
        {
          "output_type": "execute_result",
          "data": {
            "text/plain": [
              "Text(0, 0.5, 'cost')"
            ]
          },
          "metadata": {},
          "execution_count": 82
        },
        {
          "output_type": "display_data",
          "data": {
            "text/plain": [
              "<Figure size 800x600 with 1 Axes>"
            ],
            "image/png": "[encoded data removed]"
          },
          "metadata": {}
        }
      ]
    },
    {
      "cell_type": "markdown",
      "source": [
        "# The Elbow is at 4 so K=4 gives optimal cluster"
      ],
      "metadata": {
        "id": "M6TAK0DgpADV"
      }
    },
    {
      "cell_type": "markdown",
      "source": [
        "# Normalizing values"
      ],
      "metadata": {
        "id": "OFGmTOXhmHL0"
      }
    },
    {
      "cell_type": "code",
      "source": [
        "from pyspark.ml.feature import Normalizer\n",
        "\n",
        "l1_norm = Normalizer().setP(1).setInputCol(\"features\").setOutputCol(\"l1_norm\")\n",
        "normalized_df = l1_norm.transform(assembled_df)\n",
        "normalized_df.show()"
      ],
      "metadata": {
        "colab": {
          "base_uri": "https://localhost:8080/"
        },
        "id": "YIUj2dJAihtR",
        "outputId": "e476efbb-dddf-4b2d-9887-428871e4f489"
      },
      "execution_count": 66,
      "outputs": [
        {
          "output_type": "stream",
          "name": "stdout",
          "text": [
            "+---------------+------+--------------------+-------------+-------+------------+--------------+----------------+--------------------+--------------------+\n",
            "|     ip_address|method|            endpoint|response_code|  bytes|method_index|endpoint_index|ip_address_index|            features|             l1_norm|\n",
            "+---------------+------+--------------------+-------------+-------+------------+--------------+----------------+--------------------+--------------------+\n",
            "|   75.77.74.150|   GET|/Archives/edgar/d...|        200.0| 5302.0|         2.0|          58.0|        106035.0|[200.0,5302.0,106...|[0.00179216287176...|\n",
            "|  176.120.174.1|  POST|/Archives/edgar/d...|        500.0|34727.0|         1.0|          78.0|         45226.0|[500.0,34727.0,45...|[0.00620871206476...|\n",
            "| 162.200.34.120|  POST|/Archives/edgar/d...|        403.0|25428.0|         1.0|          36.0|         37252.0|[403.0,25428.0,37...|[0.00638466413181...|\n",
            "| 133.224.84.239|   GET|/Archives/edgar/d...|        304.0|27248.0|         2.0|          95.0|         20067.0|[304.0,27248.0,20...|[0.00637102858579...|\n",
            "| 211.239.196.64|   GET|/Archives/edgar/d...|        200.0|32034.0|         2.0|          80.0|         67278.0|[200.0,32034.0,67...|[0.00200815310159...|\n",
            "| 152.154.66.105|   GET|/Archives/edgar/d...|        200.0|43782.0|         2.0|          33.0|         31196.0|[200.0,43782.0,31...|[0.00265911478068...|\n",
            "|  41.76.166.189|   PUT|/Archives/edgar/d...|        304.0|53533.0|         3.0|         113.0|         85888.0|[304.0,53533.0,85...|[0.00217389749787...|\n",
            "|  134.27.187.18|  POST|/Archives/edgar/d...|        404.0|15445.0|         1.0|          97.0|         20656.0|[404.0,15445.0,20...|[0.01103734666557...|\n",
            "|   152.77.55.45|   PUT|/Archives/edgar/d...|        200.0|44416.0|         3.0|         127.0|         31567.0|[200.0,44416.0,31...|[0.00262078544939...|\n",
            "|115.252.123.132|  POST|/Archives/edgar/d...|        500.0|11453.0|         1.0|          96.0|          9896.0|[500.0,11453.0,98...|[0.02278319511528...|\n",
            "|  155.58.151.29|   GET|/Archives/edgar/d...|        502.0| 7442.0|         2.0|         142.0|         33151.0|[502.0,7442.0,331...|[0.01217294308785...|\n",
            "|   13.79.113.61|  POST|/Archives/edgar/d...|        404.0|10734.0|         1.0|          99.0|         18086.0|[404.0,10734.0,18...|[0.01377711089892...|\n",
            "|  88.193.180.43|  POST|/Archives/edgar/d...|        304.0|52678.0|         1.0|          71.0|        113229.0|[304.0,52678.0,11...|[0.00182820853604...|\n",
            "| 179.250.21.134|DELETE|/Archives/edgar/d...|        500.0| 5462.0|         0.0|          17.0|         47157.0|[500.0,5462.0,471...|[0.00940981632038...|\n",
            "| 189.142.75.183|   PUT|/Archives/edgar/d...|        500.0|37548.0|         3.0|          39.0|         52896.0|[500.0,37548.0,52...|[0.00549535093311...|\n",
            "|  17.173.32.136|   GET|/Archives/edgar/d...|        404.0|53177.0|         2.0|          27.0|         41570.0|[404.0,53177.0,41...|[0.00424458919941...|\n",
            "|  40.243.18.254|   PUT|/Archives/edgar/d...|        500.0|23317.0|         3.0|          57.0|         85233.0|[500.0,23317.0,85...|[0.00458253139034...|\n",
            "|  28.163.76.134|  POST|/Archives/edgar/d...|        304.0|16386.0|         1.0|          94.0|         77425.0|[304.0,16386.0,77...|[0.00322683366946...|\n",
            "|    68.8.175.30|   PUT|/Archives/edgar/d...|        403.0|38299.0|         3.0|          50.0|        101755.0|[403.0,38299.0,10...|[0.00286812326524...|\n",
            "|   27.79.71.172|DELETE|/Archives/edgar/d...|        403.0|15051.0|         0.0|           5.0|         77223.0|[403.0,15051.0,77...|[0.00434820137675...|\n",
            "+---------------+------+--------------------+-------------+-------+------------+--------------+----------------+--------------------+--------------------+\n",
            "only showing top 20 rows\n",
            "\n"
          ]
        }
      ]
    },
    {
      "cell_type": "code",
      "source": [
        "from pyspark.ml.clustering import KMeans\n",
        "from pyspark.ml.evaluation import ClusteringEvaluator\n",
        "\n",
        "silhouette_score=[]\n",
        "distortion = []\n",
        "evaluator = ClusteringEvaluator(predictionCol='prediction', featuresCol='l1_norm', \\\n",
        "                                metricName='silhouette', distanceMeasure='squaredEuclidean')\n",
        "for i in range(2,10):\n",
        "    KMeans_algo = KMeans(featuresCol='l1_norm', k=i)\n",
        "    KMeans_fit = KMeans_algo.fit(normalized_df)\n",
        "    output = KMeans_fit.transform(normalized_df)\n",
        "\n",
        "    distortion.append(KMeans_fit.summary.trainingCost)\n",
        "\n",
        "    score=evaluator.evaluate(output)\n",
        "    \n",
        "    silhouette_score.append(score)\n",
        "    \n",
        "    print(\"Silhouette Score:\", score)"
      ],
      "metadata": {
        "colab": {
          "base_uri": "https://localhost:8080/"
        },
        "id": "lHic3xjlZNx5",
        "outputId": "f5b07763-09a3-4ab5-a1e2-b2142d187e77"
      },
      "execution_count": 67,
      "outputs": [
        {
          "output_type": "stream",
          "name": "stdout",
          "text": [
            "Silhouette Score: 0.764989644333913\n",
            "Silhouette Score: 0.7197068203717747\n",
            "Silhouette Score: 0.7182825477911833\n",
            "Silhouette Score: 0.698355445191042\n",
            "Silhouette Score: 0.6995737686035479\n",
            "Silhouette Score: 0.6976980204583906\n",
            "Silhouette Score: 0.6878771293964626\n",
            "Silhouette Score: 0.6858259154273475\n"
          ]
        }
      ]
    },
    {
      "cell_type": "code",
      "source": [
        "output.agg({\"prediction\": \"avg\"}).collect()[0]"
      ],
      "metadata": {
        "colab": {
          "base_uri": "https://localhost:8080/"
        },
        "id": "cw0A7zLTcc8B",
        "outputId": "a1998616-ec7c-40ec-948e-094360a32383"
      },
      "execution_count": 68,
      "outputs": [
        {
          "output_type": "execute_result",
          "data": {
            "text/plain": [
              "Row(avg(prediction)=4.118508333333334)"
            ]
          },
          "metadata": {},
          "execution_count": 68
        }
      ]
    },
    {
      "cell_type": "markdown",
      "source": [
        "# Visualizing the silhouette scores in a plot"
      ],
      "metadata": {
        "id": "ZW4dApfebgh6"
      }
    },
    {
      "cell_type": "code",
      "source": [
        "import matplotlib.pyplot as plt\n",
        "\n",
        "fig, ax = plt.subplots(1, 1, figsize =(8,6))\n",
        "ax.plot(range(2,10), silhouette_score)\n",
        "ax.set_xlabel('k')\n",
        "ax.set_ylabel('cost')"
      ],
      "metadata": {
        "colab": {
          "base_uri": "https://localhost:8080/",
          "height": 559
        },
        "id": "Sr5Z4TWRbe0Q",
        "outputId": "e099f500-64bf-4a08-d256-c029285cf3f0"
      },
      "execution_count": 69,
      "outputs": [
        {
          "output_type": "execute_result",
          "data": {
            "text/plain": [
              "Text(0, 0.5, 'cost')"
            ]
          },
          "metadata": {},
          "execution_count": 69
        },
        {
          "output_type": "display_data",
          "data": {
            "text/plain": [
              "<Figure size 800x600 with 1 Axes>"
            ],
            "image/png": "[encoded data removed]"
          },
          "metadata": {}
        }
      ]
    },
    {
      "cell_type": "markdown",
      "source": [
        "The first local maxima gives the value of optimal cluster i.e 4"
      ],
      "metadata": {
        "id": "d5S37YCegJV8"
      }
    },
    {
      "cell_type": "code",
      "source": [
        "KMeans_algo = KMeans(featuresCol='standardized', k=4)\n",
        "KMeans_fit = KMeans_algo.fit(data_scale_output)\n",
        "output = KMeans_fit.transform(data_scale_output)\n",
        "\n",
        "output.show()"
      ],
      "metadata": {
        "colab": {
          "base_uri": "https://localhost:8080/"
        },
        "id": "-DgK0wXnnJrR",
        "outputId": "45a71bf1-058f-4b1c-a153-6d78dadcf8ac"
      },
      "execution_count": 87,
      "outputs": [
        {
          "output_type": "stream",
          "name": "stdout",
          "text": [
            "+---------------+------+--------------------+-------------+-------+------------+--------------+----------------+--------------------+--------------------+----------+\n",
            "|     ip_address|method|            endpoint|response_code|  bytes|method_index|endpoint_index|ip_address_index|            features|        standardized|prediction|\n",
            "+---------------+------+--------------------+-------------+-------+------------+--------------+----------------+--------------------+--------------------+----------+\n",
            "|   75.77.74.150|   GET|/Archives/edgar/d...|        200.0| 5302.0|         2.0|          58.0|        106035.0|[200.0,5302.0,106...|[1.94033947218411...|         0|\n",
            "|  176.120.174.1|  POST|/Archives/edgar/d...|        500.0|34727.0|         1.0|          78.0|         45226.0|[500.0,34727.0,45...|[4.85084868046027...|         2|\n",
            "| 162.200.34.120|  POST|/Archives/edgar/d...|        403.0|25428.0|         1.0|          36.0|         37252.0|[403.0,25428.0,37...|[3.90978403645098...|         3|\n",
            "| 133.224.84.239|   GET|/Archives/edgar/d...|        304.0|27248.0|         2.0|          95.0|         20067.0|[304.0,27248.0,20...|[2.94931599771984...|         1|\n",
            "| 211.239.196.64|   GET|/Archives/edgar/d...|        200.0|32034.0|         2.0|          80.0|         67278.0|[200.0,32034.0,67...|[1.94033947218411...|         0|\n",
            "| 152.154.66.105|   GET|/Archives/edgar/d...|        200.0|43782.0|         2.0|          33.0|         31196.0|[200.0,43782.0,31...|[1.94033947218411...|         1|\n",
            "|  41.76.166.189|   PUT|/Archives/edgar/d...|        304.0|53533.0|         3.0|         113.0|         85888.0|[304.0,53533.0,85...|[2.94931599771984...|         0|\n",
            "|  134.27.187.18|  POST|/Archives/edgar/d...|        404.0|15445.0|         1.0|          97.0|         20656.0|[404.0,15445.0,20...|[3.91948573381190...|         2|\n",
            "|   152.77.55.45|   PUT|/Archives/edgar/d...|        200.0|44416.0|         3.0|         127.0|         31567.0|[200.0,44416.0,31...|[1.94033947218411...|         1|\n",
            "|115.252.123.132|  POST|/Archives/edgar/d...|        500.0|11453.0|         1.0|          96.0|          9896.0|[500.0,11453.0,98...|[4.85084868046027...|         1|\n",
            "|  155.58.151.29|   GET|/Archives/edgar/d...|        502.0| 7442.0|         2.0|         142.0|         33151.0|[502.0,7442.0,331...|[4.87025207518211...|         1|\n",
            "|   13.79.113.61|  POST|/Archives/edgar/d...|        404.0|10734.0|         1.0|          99.0|         18086.0|[404.0,10734.0,18...|[3.91948573381190...|         1|\n",
            "|  88.193.180.43|  POST|/Archives/edgar/d...|        304.0|52678.0|         1.0|          71.0|        113229.0|[304.0,52678.0,11...|[2.94931599771984...|         0|\n",
            "| 179.250.21.134|DELETE|/Archives/edgar/d...|        500.0| 5462.0|         0.0|          17.0|         47157.0|[500.0,5462.0,471...|[4.85084868046027...|         3|\n",
            "| 189.142.75.183|   PUT|/Archives/edgar/d...|        500.0|37548.0|         3.0|          39.0|         52896.0|[500.0,37548.0,52...|[4.85084868046027...|         1|\n",
            "|  17.173.32.136|   GET|/Archives/edgar/d...|        404.0|53177.0|         2.0|          27.0|         41570.0|[404.0,53177.0,41...|[3.91948573381190...|         1|\n",
            "|  40.243.18.254|   PUT|/Archives/edgar/d...|        500.0|23317.0|         3.0|          57.0|         85233.0|[500.0,23317.0,85...|[4.85084868046027...|         0|\n",
            "|  28.163.76.134|  POST|/Archives/edgar/d...|        304.0|16386.0|         1.0|          94.0|         77425.0|[304.0,16386.0,77...|[2.94931599771984...|         2|\n",
            "|    68.8.175.30|   PUT|/Archives/edgar/d...|        403.0|38299.0|         3.0|          50.0|        101755.0|[403.0,38299.0,10...|[3.90978403645098...|         0|\n",
            "|   27.79.71.172|DELETE|/Archives/edgar/d...|        403.0|15051.0|         0.0|           5.0|         77223.0|[403.0,15051.0,77...|[3.90978403645098...|         3|\n",
            "+---------------+------+--------------------+-------------+-------+------------+--------------+----------------+--------------------+--------------------+----------+\n",
            "only showing top 20 rows\n",
            "\n"
          ]
        }
      ]
    },
    {
      "cell_type": "code",
      "source": [
        "cluster_centers = KMeans_fit.clusterCenters()\n",
        "print(\"Cluster Centers:\")\n",
        "for center in cluster_centers:\n",
        "    print(center)"
      ],
      "metadata": {
        "colab": {
          "base_uri": "https://localhost:8080/"
        },
        "id": "4xrcz_nQplPf",
        "outputId": "282daba6-ad69-4ff1-fa23-79ffc7d92b91"
      },
      "execution_count": 88,
      "outputs": [
        {
          "output_type": "stream",
          "name": "stdout",
          "text": [
            "Cluster Centers:\n",
            "[3.5988179  1.765699   2.67834275 1.61208535 2.17780021]\n",
            "[3.65357431 1.68108226 0.78019812 1.73638456 2.16011274]\n",
            "[3.61320607 1.75229789 1.79454545 2.65790807 0.52871809]\n",
            "[3.62779075 1.71889663 1.69123562 0.76372223 0.50598116]\n"
          ]
        }
      ]
    },
    {
      "cell_type": "code",
      "source": [
        "distinct_pred = output.select(\"prediction\").distinct()\n",
        "distinct_pred.show()"
      ],
      "metadata": {
        "colab": {
          "base_uri": "https://localhost:8080/"
        },
        "id": "zdPrQQVPp8ef",
        "outputId": "6503a6b2-7588-4add-a600-3a92106beb65"
      },
      "execution_count": 89,
      "outputs": [
        {
          "output_type": "stream",
          "name": "stdout",
          "text": [
            "+----------+\n",
            "|prediction|\n",
            "+----------+\n",
            "|         1|\n",
            "|         3|\n",
            "|         2|\n",
            "|         0|\n",
            "+----------+\n",
            "\n"
          ]
        }
      ]
    },
    {
      "cell_type": "markdown",
      "source": [
        "# Clustering Visualization"
      ],
      "metadata": {
        "id": "PbIxF3yhqMxu"
      }
    },
    {
      "cell_type": "code",
      "source": [
        "grouped_df = output.groupBy(\"prediction\").count()\n",
        "grouped_df.toPandas()"
      ],
      "metadata": {
        "colab": {
          "base_uri": "https://localhost:8080/",
          "height": 175
        },
        "id": "rlQ6apGDqLuY",
        "outputId": "7754bf89-e0fe-4264-aca2-e2207e187dcc"
      },
      "execution_count": 90,
      "outputs": [
        {
          "output_type": "execute_result",
          "data": {
            "text/plain": [
              "   prediction  count\n",
              "0           1  30141\n",
              "1           3  30456\n",
              "2           2  29809\n",
              "3           0  29594"
            ],
            "text/html": [
              "\n",
              "  <div id=\"df-4d2c0d8f-be0c-41b3-90b8-6baa223ca9ad\">\n",
              "    <div class=\"colab-df-container\">\n",
              "      <div>\n",
              "<style scoped>\n",
              "    .dataframe tbody tr th:only-of-type {\n",
              "        vertical-align: middle;\n",
              "    }\n",
              "\n",
              "    .dataframe tbody tr th {\n",
              "        vertical-align: top;\n",
              "    }\n",
              "\n",
              "    .dataframe thead th {\n",
              "        text-align: right;\n",
              "    }\n",
              "</style>\n",
              "<table border=\"1\" class=\"dataframe\">\n",
              "  <thead>\n",
              "    <tr style=\"text-align: right;\">\n",
              "      <th></th>\n",
              "      <th>prediction</th>\n",
              "      <th>count</th>\n",
              "    </tr>\n",
              "  </thead>\n",
              "  <tbody>\n",
              "    <tr>\n",
              "      <th>0</th>\n",
              "      <td>1</td>\n",
              "      <td>30141</td>\n",
              "    </tr>\n",
              "    <tr>\n",
              "      <th>1</th>\n",
              "      <td>3</td>\n",
              "      <td>30456</td>\n",
              "    </tr>\n",
              "    <tr>\n",
              "      <th>2</th>\n",
              "      <td>2</td>\n",
              "      <td>29809</td>\n",
              "    </tr>\n",
              "    <tr>\n",
              "      <th>3</th>\n",
              "      <td>0</td>\n",
              "      <td>29594</td>\n",
              "    </tr>\n",
              "  </tbody>\n",
              "</table>\n",
              "</div>\n",
              "      <button class=\"colab-df-convert\" onclick=\"convertToInteractive('df-4d2c0d8f-be0c-41b3-90b8-6baa223ca9ad')\"\n",
              "              title=\"Convert this dataframe to an interactive table.\"\n",
              "              style=\"display:none;\">\n",
              "        \n",
              "  <svg xmlns=\"http://www.w3.org/2000/svg\" height=\"24px\"viewBox=\"0 0 24 24\"\n",
              "       width=\"24px\">\n",
              "    <path d=\"M0 0h24v24H0V0z\" fill=\"none\"/>\n",
              "    <path d=\"M18.56 5.44l.94 2.06.94-2.06 2.06-.94-2.06-.94-.94-2.06-.94 2.06-2.06.94zm-11 1L8.5 8.5l.94-2.06 2.06-.94-2.06-.94L8.5 2.5l-.94 2.06-2.06.94zm10 10l.94 2.06.94-2.06 2.06-.94-2.06-.94-.94-2.06-.94 2.06-2.06.94z\"/><path d=\"M17.41 7.96l-1.37-1.37c-.4-.4-.92-.59-1.43-.59-.52 0-1.04.2-1.43.59L10.3 9.45l-7.72 7.72c-.78.78-.78 2.05 0 2.83L4 21.41c.39.39.9.59 1.41.59.51 0 1.02-.2 1.41-.59l7.78-7.78 2.81-2.81c.8-.78.8-2.07 0-2.86zM5.41 20L4 18.59l7.72-7.72 1.47 1.35L5.41 20z\"/>\n",
              "  </svg>\n",
              "      </button>\n",
              "      \n",
              "  <style>\n",
              "    .colab-df-container {\n",
              "      display:flex;\n",
              "      flex-wrap:wrap;\n",
              "      gap: 12px;\n",
              "    }\n",
              "\n",
              "    .colab-df-convert {\n",
              "      background-color: #E8F0FE;\n",
              "      border: none;\n",
              "      border-radius: 50%;\n",
              "      cursor: pointer;\n",
              "      display: none;\n",
              "      fill: #1967D2;\n",
              "      height: 32px;\n",
              "      padding: 0 0 0 0;\n",
              "      width: 32px;\n",
              "    }\n",
              "\n",
              "    .colab-df-convert:hover {\n",
              "      background-color: #E2EBFA;\n",
              "      box-shadow: 0px 1px 2px rgba(60, 64, 67, 0.3), 0px 1px 3px 1px rgba(60, 64, 67, 0.15);\n",
              "      fill: #174EA6;\n",
              "    }\n",
              "\n",
              "    [theme=dark] .colab-df-convert {\n",
              "      background-color: #3B4455;\n",
              "      fill: #D2E3FC;\n",
              "    }\n",
              "\n",
              "    [theme=dark] .colab-df-convert:hover {\n",
              "      background-color: #434B5C;\n",
              "      box-shadow: 0px 1px 3px 1px rgba(0, 0, 0, 0.15);\n",
              "      filter: drop-shadow(0px 1px 2px rgba(0, 0, 0, 0.3));\n",
              "      fill: #FFFFFF;\n",
              "    }\n",
              "  </style>\n",
              "\n",
              "      <script>\n",
              "        const buttonEl =\n",
              "          document.querySelector('#df-4d2c0d8f-be0c-41b3-90b8-6baa223ca9ad button.colab-df-convert');\n",
              "        buttonEl.style.display =\n",
              "          google.colab.kernel.accessAllowed ? 'block' : 'none';\n",
              "\n",
              "        async function convertToInteractive(key) {\n",
              "          const element = document.querySelector('#df-4d2c0d8f-be0c-41b3-90b8-6baa223ca9ad');\n",
              "          const dataTable =\n",
              "            await google.colab.kernel.invokeFunction('convertToInteractive',\n",
              "                                                     [key], {});\n",
              "          if (!dataTable) return;\n",
              "\n",
              "          const docLinkHtml = 'Like what you see? Visit the ' +\n",
              "            '<a target=\"_blank\" href=https://colab.research.google.com/notebooks/data_table.ipynb>data table notebook</a>'\n",
              "            + ' to learn more about interactive tables.';\n",
              "          element.innerHTML = '';\n",
              "          dataTable['output_type'] = 'display_data';\n",
              "          await google.colab.output.renderOutput(dataTable, element);\n",
              "          const docLink = document.createElement('div');\n",
              "          docLink.innerHTML = docLinkHtml;\n",
              "          element.appendChild(docLink);\n",
              "        }\n",
              "      </script>\n",
              "    </div>\n",
              "  </div>\n",
              "  "
            ]
          },
          "metadata": {},
          "execution_count": 90
        }
      ]
    },
    {
      "cell_type": "code",
      "source": [
        "import seaborn as sns\n",
        "import matplotlib.pyplot as plt\n",
        "\n",
        "# Extract the prediction column from the DataFrame\n",
        "prediction_counts = output.groupBy(\"prediction\").count()\n",
        "\n",
        "# Convert the DataFrame to Pandas for plotting\n",
        "prediction_counts_pd = prediction_counts.toPandas()\n",
        "\n",
        "# Plot the prediction counts using sns\n",
        "sns.barplot(data=prediction_counts_pd, x=\"prediction\", y=\"count\")\n",
        "plt.xlabel(\"Prediction or Cluster no.\")\n",
        "plt.ylabel(\"Count\")\n",
        "plt.title(\"Prediction Counts\")\n",
        "plt.show()"
      ],
      "metadata": {
        "colab": {
          "base_uri": "https://localhost:8080/",
          "height": 472
        },
        "id": "JKtLp2wnqbli",
        "outputId": "298fb7bf-635f-41bb-a686-b21fc8ab65e8"
      },
      "execution_count": 91,
      "outputs": [
        {
          "output_type": "display_data",
          "data": {
            "text/plain": [
              "<Figure size 640x480 with 1 Axes>"
            ],
            "image/png": "[encoded data removed]"
          },
          "metadata": {}
        }
      ]
    },
    {
      "cell_type": "markdown",
      "source": [
        "# Grouping together predictions of clusters and API methods"
      ],
      "metadata": {
        "id": "g5-0KSw2fPpc"
      }
    },
    {
      "cell_type": "code",
      "source": [
        "pred_method = output.groupBy('prediction', 'method').count().orderBy(col('method')).orderBy(col('prediction'))\n",
        "pred_method.show()"
      ],
      "metadata": {
        "colab": {
          "base_uri": "https://localhost:8080/"
        },
        "id": "IcxD9O2he0Cx",
        "outputId": "d6b09e40-aec9-47c5-9266-b54b24e6832c"
      },
      "execution_count": 94,
      "outputs": [
        {
          "output_type": "stream",
          "name": "stdout",
          "text": [
            "+----------+------+-----+\n",
            "|prediction|method|count|\n",
            "+----------+------+-----+\n",
            "|         0|   PUT|15010|\n",
            "|         0|  POST| 2133|\n",
            "|         0|   GET|12451|\n",
            "|         1|  POST| 2405|\n",
            "|         1|   PUT|14892|\n",
            "|         1|   GET|12844|\n",
            "|         2|  POST|12618|\n",
            "|         2|   GET| 2573|\n",
            "|         2|DELETE|14618|\n",
            "|         3|DELETE|15456|\n",
            "|         3|  POST|12911|\n",
            "|         3|   GET| 2089|\n",
            "+----------+------+-----+\n",
            "\n"
          ]
        }
      ]
    },
    {
      "cell_type": "markdown",
      "source": [
        "# Grouping together predictions of clusters and API response codes"
      ],
      "metadata": {
        "id": "ZC9aQ4g6kfRD"
      }
    },
    {
      "cell_type": "code",
      "source": [
        "pred_res = output.groupBy('prediction', 'response_code').count().orderBy(col('response_code')).orderBy(col('prediction'))\n",
        "pred_res.show()"
      ],
      "metadata": {
        "colab": {
          "base_uri": "https://localhost:8080/"
        },
        "id": "K_4lho36keru",
        "outputId": "d36c8bc6-a57c-4ab5-ec71-b72a58bbc31d"
      },
      "execution_count": 95,
      "outputs": [
        {
          "output_type": "stream",
          "name": "stdout",
          "text": [
            "+----------+-------------+-----+\n",
            "|prediction|response_code|count|\n",
            "+----------+-------------+-----+\n",
            "|         0|        304.0| 4315|\n",
            "|         0|        500.0| 4120|\n",
            "|         0|        404.0| 4175|\n",
            "|         0|        303.0| 4270|\n",
            "|         0|        403.0| 4104|\n",
            "|         0|        200.0| 4416|\n",
            "|         0|        502.0| 4194|\n",
            "|         1|        303.0| 4223|\n",
            "|         1|        502.0| 4367|\n",
            "|         1|        404.0| 4341|\n",
            "|         1|        200.0| 4163|\n",
            "|         1|        403.0| 4345|\n",
            "|         1|        304.0| 4215|\n",
            "|         1|        500.0| 4487|\n",
            "|         2|        500.0| 4176|\n",
            "|         2|        200.0| 4346|\n",
            "|         2|        303.0| 4254|\n",
            "|         2|        404.0| 4286|\n",
            "|         2|        304.0| 4320|\n",
            "|         2|        403.0| 4322|\n",
            "+----------+-------------+-----+\n",
            "only showing top 20 rows\n",
            "\n"
          ]
        }
      ]
    }
  ],
  "metadata": {
    "colab": {
      "provenance": []
    },
    "kernelspec": {
      "display_name": "Python 3",
      "name": "python3"
    }
  },
  "nbformat": 4,
  "nbformat_minor": 0
}